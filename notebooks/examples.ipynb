{
 "cells": [
  {
   "cell_type": "markdown",
   "metadata": {},
   "source": [
    "The charts below have dollar signs in their titles, which get formatted into mathematical notation by Mathjax, which messes up the intended title :(\n",
    "The only way i know to avoid this is to disable Mathjax when starting this notebook via the command `jupyter notebook --no-mathjax`."
   ]
  },
  {
   "cell_type": "code",
   "execution_count": null,
   "metadata": {},
   "outputs": [],
   "source": [
    "import sys\n",
    "\n",
    "sys.path.append('../')\n",
    "import mustaching as ms\n",
    "\n",
    "\n",
    "%load_ext autoreload\n",
    "%autoreload 2"
   ]
  },
  {
   "cell_type": "markdown",
   "metadata": {},
   "source": [
    "# Load transactions"
   ]
  },
  {
   "cell_type": "code",
   "execution_count": null,
   "metadata": {},
   "outputs": [],
   "source": [
    "# Invent some sample transactions.\n",
    "transactions = ms.create_transactions('2021-01-01', '2021-12-31')\n",
    "\n",
    "# Alternatively, upload your own transactions as say 'my_transactions.csv' \n",
    "#transactions = ms.read_transactions('my_transactions.csv')\n",
    "\n",
    "transactions.head(10)"
   ]
  },
  {
   "cell_type": "markdown",
   "metadata": {},
   "source": [
    "# Summarize and plot transactions"
   ]
  },
  {
   "cell_type": "code",
   "execution_count": null,
   "metadata": {},
   "outputs": [],
   "source": [
    "summary = ms.summarize(transactions, freq=\"QS\")  # dictionary of kind -> DataFrame\n",
    "for k, v in summary.items():\n",
    "    print(k)\n",
    "    display(v)\n",
    "    \n",
    "plot = ms.plot(summary, currency=\"$\")  # dictionary of kind -> Plotly figure\n",
    "for k, v in plot.items():\n",
    "    print(k)\n",
    "    display(v)"
   ]
  },
  {
   "cell_type": "markdown",
   "metadata": {},
   "source": [
    "# For transactions without categories we get the following"
   ]
  },
  {
   "cell_type": "code",
   "execution_count": null,
   "metadata": {},
   "outputs": [],
   "source": [
    "summary = ms.summarize(transactions.drop(\"category\", axis=\"columns\"), freq=\"QS\")  \n",
    "for k, v in summary.items():\n",
    "    print(k)\n",
    "    display(v)\n",
    "    \n",
    "plot = ms.plot(summary, currency=\"$\")  # dictionary of kind -> Plotly figure\n",
    "for k, v in plot.items():\n",
    "    print(k)\n",
    "    display(v)"
   ]
  },
  {
   "cell_type": "code",
   "execution_count": null,
   "metadata": {},
   "outputs": [],
   "source": []
  }
 ],
 "metadata": {
  "kernelspec": {
   "display_name": "Python 3 (ipykernel)",
   "language": "python",
   "name": "python3"
  },
  "language_info": {
   "codemirror_mode": {
    "name": "ipython",
    "version": 3
   },
   "file_extension": ".py",
   "mimetype": "text/x-python",
   "name": "python",
   "nbconvert_exporter": "python",
   "pygments_lexer": "ipython3",
   "version": "3.9.12"
  }
 },
 "nbformat": 4,
 "nbformat_minor": 1
}
