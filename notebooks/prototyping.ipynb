{
 "cells": [
  {
   "cell_type": "markdown",
   "metadata": {},
   "source": [
    "The charts below have dollar signs in their titles, and these get formatted into mathematical notation by Mathjax when displayed :(\n",
    "To avoid this, run this notebook with the --no-mathjax flag, e.g. from the command line type `jupyter notebook --no-mathjax`."
   ]
  },
  {
   "cell_type": "code",
   "execution_count": 1,
   "metadata": {},
   "outputs": [],
   "source": [
    "import pathlib as pl\n",
    "import sys\n",
    "import itertools as it\n",
    "import textwrap as tw\n",
    "\n",
    "import pandas as pd\n",
    "import numpy as np\n",
    "import plotly.express as px\n",
    "import plotly.graph_objects as pg\n",
    "\n",
    "sys.path.append('../')\n",
    "import mustaching as ms\n",
    "\n",
    "\n",
    "%load_ext autoreload\n",
    "%autoreload 2\n",
    "\n"
   ]
  },
  {
   "cell_type": "markdown",
   "metadata": {},
   "source": [
    "# Load transactions"
   ]
  },
  {
   "cell_type": "code",
   "execution_count": 2,
   "metadata": {},
   "outputs": [
    {
     "data": {
      "text/html": [
       "<div>\n",
       "<style scoped>\n",
       "    .dataframe tbody tr th:only-of-type {\n",
       "        vertical-align: middle;\n",
       "    }\n",
       "\n",
       "    .dataframe tbody tr th {\n",
       "        vertical-align: top;\n",
       "    }\n",
       "\n",
       "    .dataframe thead th {\n",
       "        text-align: right;\n",
       "    }\n",
       "</style>\n",
       "<table border=\"1\" class=\"dataframe\">\n",
       "  <thead>\n",
       "    <tr style=\"text-align: right;\">\n",
       "      <th></th>\n",
       "      <th>date</th>\n",
       "      <th>amount</th>\n",
       "      <th>description</th>\n",
       "      <th>comment</th>\n",
       "      <th>category</th>\n",
       "    </tr>\n",
       "  </thead>\n",
       "  <tbody>\n",
       "    <tr>\n",
       "      <th>0</th>\n",
       "      <td>2020-01-01 00:00:00</td>\n",
       "      <td>14</td>\n",
       "      <td>0x2ef7d</td>\n",
       "      <td>0x53ee1a2672</td>\n",
       "      <td>reiki</td>\n",
       "    </tr>\n",
       "    <tr>\n",
       "      <th>1</th>\n",
       "      <td>2020-01-01 12:00:00</td>\n",
       "      <td>0</td>\n",
       "      <td>0xfe7a1</td>\n",
       "      <td>0xc7d0d15232</td>\n",
       "      <td>healthcare</td>\n",
       "    </tr>\n",
       "    <tr>\n",
       "      <th>2</th>\n",
       "      <td>2020-01-02 00:00:00</td>\n",
       "      <td>56</td>\n",
       "      <td>0x2f5df</td>\n",
       "      <td>0xf7e439eea7</td>\n",
       "      <td>investing</td>\n",
       "    </tr>\n",
       "    <tr>\n",
       "      <th>3</th>\n",
       "      <td>2020-01-02 12:00:00</td>\n",
       "      <td>-9</td>\n",
       "      <td>0x15337</td>\n",
       "      <td>0xd09bd8a413</td>\n",
       "      <td>shelter</td>\n",
       "    </tr>\n",
       "    <tr>\n",
       "      <th>4</th>\n",
       "      <td>2020-01-03 00:00:00</td>\n",
       "      <td>40</td>\n",
       "      <td>0xc709d</td>\n",
       "      <td>0x3d6b1ec4e9</td>\n",
       "      <td>reiki</td>\n",
       "    </tr>\n",
       "    <tr>\n",
       "      <th>5</th>\n",
       "      <td>2020-01-03 12:00:00</td>\n",
       "      <td>53</td>\n",
       "      <td>0x42dc</td>\n",
       "      <td>0xc3f105e7a</td>\n",
       "      <td>reiki</td>\n",
       "    </tr>\n",
       "    <tr>\n",
       "      <th>6</th>\n",
       "      <td>2020-01-04 00:00:00</td>\n",
       "      <td>3</td>\n",
       "      <td>0xbac53</td>\n",
       "      <td>0x7cf513eaa8</td>\n",
       "      <td>reiki</td>\n",
       "    </tr>\n",
       "    <tr>\n",
       "      <th>7</th>\n",
       "      <td>2020-01-04 12:00:00</td>\n",
       "      <td>93</td>\n",
       "      <td>0xfc065</td>\n",
       "      <td>0xe039156da5</td>\n",
       "      <td>programming</td>\n",
       "    </tr>\n",
       "    <tr>\n",
       "      <th>8</th>\n",
       "      <td>2020-01-05 00:00:00</td>\n",
       "      <td>-30</td>\n",
       "      <td>0x2c788</td>\n",
       "      <td>0x6d91cca227</td>\n",
       "      <td>healthcare</td>\n",
       "    </tr>\n",
       "    <tr>\n",
       "      <th>9</th>\n",
       "      <td>2020-01-05 12:00:00</td>\n",
       "      <td>-56</td>\n",
       "      <td>0x6b2b2</td>\n",
       "      <td>0x484a07e9c9</td>\n",
       "      <td>soil testing</td>\n",
       "    </tr>\n",
       "  </tbody>\n",
       "</table>\n",
       "</div>"
      ],
      "text/plain": [
       "                 date  amount description       comment      category\n",
       "0 2020-01-01 00:00:00      14     0x2ef7d  0x53ee1a2672         reiki\n",
       "1 2020-01-01 12:00:00       0     0xfe7a1  0xc7d0d15232    healthcare\n",
       "2 2020-01-02 00:00:00      56     0x2f5df  0xf7e439eea7     investing\n",
       "3 2020-01-02 12:00:00      -9     0x15337  0xd09bd8a413       shelter\n",
       "4 2020-01-03 00:00:00      40     0xc709d  0x3d6b1ec4e9         reiki\n",
       "5 2020-01-03 12:00:00      53      0x42dc   0xc3f105e7a         reiki\n",
       "6 2020-01-04 00:00:00       3     0xbac53  0x7cf513eaa8         reiki\n",
       "7 2020-01-04 12:00:00      93     0xfc065  0xe039156da5   programming\n",
       "8 2020-01-05 00:00:00     -30     0x2c788  0x6d91cca227    healthcare\n",
       "9 2020-01-05 12:00:00     -56     0x6b2b2  0x484a07e9c9  soil testing"
      ]
     },
     "execution_count": 2,
     "metadata": {},
     "output_type": "execute_result"
    }
   ],
   "source": [
    "# Invent some sample transactions.\n",
    "transactions = ms.create_transactions('2020-01-01', '2020-12-31')\n",
    "\n",
    "# Alternatively, upload your own transactions as say 'my_transactions.csv' \n",
    "# transactions = ms.read_transactions(path)\n",
    "\n",
    "transactions.head(10)"
   ]
  },
  {
   "cell_type": "code",
   "execution_count": 3,
   "metadata": {},
   "outputs": [],
   "source": [
    "# import io\n",
    "\n",
    "# ms.read_transactions(io.StringIO(transactions.to_csv(index=False)))"
   ]
  },
  {
   "cell_type": "markdown",
   "metadata": {},
   "source": [
    "# Summarize transactions and plot"
   ]
  },
  {
   "cell_type": "code",
   "execution_count": 4,
   "metadata": {
    "scrolled": false
   },
   "outputs": [
    {
     "name": "stdout",
     "output_type": "stream",
     "text": [
      "by_none\n"
     ]
    },
    {
     "data": {
      "text/html": [
       "<div>\n",
       "<style scoped>\n",
       "    .dataframe tbody tr th:only-of-type {\n",
       "        vertical-align: middle;\n",
       "    }\n",
       "\n",
       "    .dataframe tbody tr th {\n",
       "        vertical-align: top;\n",
       "    }\n",
       "\n",
       "    .dataframe thead th {\n",
       "        text-align: right;\n",
       "    }\n",
       "</style>\n",
       "<table border=\"1\" class=\"dataframe\">\n",
       "  <thead>\n",
       "    <tr style=\"text-align: right;\">\n",
       "      <th></th>\n",
       "      <th>start_date</th>\n",
       "      <th>end_date</th>\n",
       "      <th>income</th>\n",
       "      <th>expense</th>\n",
       "      <th>balance</th>\n",
       "      <th>savings_pc</th>\n",
       "    </tr>\n",
       "  </thead>\n",
       "  <tbody>\n",
       "    <tr>\n",
       "      <th>0</th>\n",
       "      <td>2020-01-01</td>\n",
       "      <td>2020-12-31</td>\n",
       "      <td>22002</td>\n",
       "      <td>10169</td>\n",
       "      <td>11833</td>\n",
       "      <td>53.78</td>\n",
       "    </tr>\n",
       "  </tbody>\n",
       "</table>\n",
       "</div>"
      ],
      "text/plain": [
       "  start_date   end_date  income  expense  balance  savings_pc\n",
       "0 2020-01-01 2020-12-31   22002    10169    11833       53.78"
      ]
     },
     "metadata": {},
     "output_type": "display_data"
    },
    {
     "name": "stdout",
     "output_type": "stream",
     "text": [
      "by_period\n"
     ]
    },
    {
     "data": {
      "text/html": [
       "<div>\n",
       "<style scoped>\n",
       "    .dataframe tbody tr th:only-of-type {\n",
       "        vertical-align: middle;\n",
       "    }\n",
       "\n",
       "    .dataframe tbody tr th {\n",
       "        vertical-align: top;\n",
       "    }\n",
       "\n",
       "    .dataframe thead th {\n",
       "        text-align: right;\n",
       "    }\n",
       "</style>\n",
       "<table border=\"1\" class=\"dataframe\">\n",
       "  <thead>\n",
       "    <tr style=\"text-align: right;\">\n",
       "      <th></th>\n",
       "      <th>date</th>\n",
       "      <th>income</th>\n",
       "      <th>expense</th>\n",
       "      <th>balance</th>\n",
       "      <th>savings_pc</th>\n",
       "      <th>cumulative_income</th>\n",
       "      <th>cumulative_balance</th>\n",
       "      <th>cumulative_savings_pc</th>\n",
       "    </tr>\n",
       "  </thead>\n",
       "  <tbody>\n",
       "    <tr>\n",
       "      <th>0</th>\n",
       "      <td>2020-01-01</td>\n",
       "      <td>4780</td>\n",
       "      <td>2530</td>\n",
       "      <td>2250</td>\n",
       "      <td>47.07</td>\n",
       "      <td>4780</td>\n",
       "      <td>2250</td>\n",
       "      <td>47.07</td>\n",
       "    </tr>\n",
       "    <tr>\n",
       "      <th>1</th>\n",
       "      <td>2020-04-01</td>\n",
       "      <td>5285</td>\n",
       "      <td>2474</td>\n",
       "      <td>2811</td>\n",
       "      <td>53.19</td>\n",
       "      <td>10065</td>\n",
       "      <td>5061</td>\n",
       "      <td>50.28</td>\n",
       "    </tr>\n",
       "    <tr>\n",
       "      <th>2</th>\n",
       "      <td>2020-07-01</td>\n",
       "      <td>6225</td>\n",
       "      <td>2636</td>\n",
       "      <td>3589</td>\n",
       "      <td>57.65</td>\n",
       "      <td>16290</td>\n",
       "      <td>8650</td>\n",
       "      <td>53.10</td>\n",
       "    </tr>\n",
       "    <tr>\n",
       "      <th>3</th>\n",
       "      <td>2020-10-01</td>\n",
       "      <td>5712</td>\n",
       "      <td>2529</td>\n",
       "      <td>3183</td>\n",
       "      <td>55.72</td>\n",
       "      <td>22002</td>\n",
       "      <td>11833</td>\n",
       "      <td>53.78</td>\n",
       "    </tr>\n",
       "  </tbody>\n",
       "</table>\n",
       "</div>"
      ],
      "text/plain": [
       "        date  income  expense  balance  savings_pc  cumulative_income  \\\n",
       "0 2020-01-01    4780     2530     2250       47.07               4780   \n",
       "1 2020-04-01    5285     2474     2811       53.19              10065   \n",
       "2 2020-07-01    6225     2636     3589       57.65              16290   \n",
       "3 2020-10-01    5712     2529     3183       55.72              22002   \n",
       "\n",
       "   cumulative_balance  cumulative_savings_pc  \n",
       "0                2250                  47.07  \n",
       "1                5061                  50.28  \n",
       "2                8650                  53.10  \n",
       "3               11833                  53.78  "
      ]
     },
     "metadata": {},
     "output_type": "display_data"
    },
    {
     "name": "stdout",
     "output_type": "stream",
     "text": [
      "by_category\n"
     ]
    },
    {
     "data": {
      "text/html": [
       "<div>\n",
       "<style scoped>\n",
       "    .dataframe tbody tr th:only-of-type {\n",
       "        vertical-align: middle;\n",
       "    }\n",
       "\n",
       "    .dataframe tbody tr th {\n",
       "        vertical-align: top;\n",
       "    }\n",
       "\n",
       "    .dataframe thead th {\n",
       "        text-align: right;\n",
       "    }\n",
       "</style>\n",
       "<table border=\"1\" class=\"dataframe\">\n",
       "  <thead>\n",
       "    <tr style=\"text-align: right;\">\n",
       "      <th></th>\n",
       "      <th>category</th>\n",
       "      <th>income</th>\n",
       "      <th>expense</th>\n",
       "      <th>balance</th>\n",
       "      <th>income_to_total_income_pc</th>\n",
       "      <th>expense_to_total_income_pc</th>\n",
       "      <th>expense_to_total_expense_pc</th>\n",
       "      <th>daily_avg_balance</th>\n",
       "      <th>weekly_avg_balance</th>\n",
       "      <th>monthly_avg_balance</th>\n",
       "      <th>yearly_avg_balance</th>\n",
       "    </tr>\n",
       "  </thead>\n",
       "  <tbody>\n",
       "    <tr>\n",
       "      <th>0</th>\n",
       "      <td>food</td>\n",
       "      <td>0</td>\n",
       "      <td>2105</td>\n",
       "      <td>-2105</td>\n",
       "      <td>0.00</td>\n",
       "      <td>9.57</td>\n",
       "      <td>20.70</td>\n",
       "      <td>-5.75</td>\n",
       "      <td>-40.26</td>\n",
       "      <td>-174.94</td>\n",
       "      <td>-2099.25</td>\n",
       "    </tr>\n",
       "    <tr>\n",
       "      <th>1</th>\n",
       "      <td>healthcare</td>\n",
       "      <td>0</td>\n",
       "      <td>1603</td>\n",
       "      <td>-1603</td>\n",
       "      <td>0.00</td>\n",
       "      <td>7.29</td>\n",
       "      <td>15.76</td>\n",
       "      <td>-4.38</td>\n",
       "      <td>-30.66</td>\n",
       "      <td>-133.22</td>\n",
       "      <td>-1598.62</td>\n",
       "    </tr>\n",
       "    <tr>\n",
       "      <th>2</th>\n",
       "      <td>investing</td>\n",
       "      <td>5492</td>\n",
       "      <td>0</td>\n",
       "      <td>5492</td>\n",
       "      <td>24.96</td>\n",
       "      <td>0.00</td>\n",
       "      <td>0.00</td>\n",
       "      <td>15.01</td>\n",
       "      <td>105.04</td>\n",
       "      <td>456.42</td>\n",
       "      <td>5476.99</td>\n",
       "    </tr>\n",
       "    <tr>\n",
       "      <th>3</th>\n",
       "      <td>programming</td>\n",
       "      <td>11022</td>\n",
       "      <td>0</td>\n",
       "      <td>11022</td>\n",
       "      <td>50.10</td>\n",
       "      <td>0.00</td>\n",
       "      <td>0.00</td>\n",
       "      <td>30.11</td>\n",
       "      <td>210.80</td>\n",
       "      <td>915.99</td>\n",
       "      <td>10991.89</td>\n",
       "    </tr>\n",
       "    <tr>\n",
       "      <th>4</th>\n",
       "      <td>reiki</td>\n",
       "      <td>5488</td>\n",
       "      <td>0</td>\n",
       "      <td>5488</td>\n",
       "      <td>24.94</td>\n",
       "      <td>0.00</td>\n",
       "      <td>0.00</td>\n",
       "      <td>14.99</td>\n",
       "      <td>104.96</td>\n",
       "      <td>456.08</td>\n",
       "      <td>5473.01</td>\n",
       "    </tr>\n",
       "    <tr>\n",
       "      <th>5</th>\n",
       "      <td>shelter</td>\n",
       "      <td>0</td>\n",
       "      <td>3240</td>\n",
       "      <td>-3240</td>\n",
       "      <td>0.00</td>\n",
       "      <td>14.73</td>\n",
       "      <td>31.86</td>\n",
       "      <td>-8.85</td>\n",
       "      <td>-61.97</td>\n",
       "      <td>-269.26</td>\n",
       "      <td>-3231.15</td>\n",
       "    </tr>\n",
       "    <tr>\n",
       "      <th>6</th>\n",
       "      <td>soil testing</td>\n",
       "      <td>0</td>\n",
       "      <td>1812</td>\n",
       "      <td>-1812</td>\n",
       "      <td>0.00</td>\n",
       "      <td>8.24</td>\n",
       "      <td>17.82</td>\n",
       "      <td>-4.95</td>\n",
       "      <td>-34.66</td>\n",
       "      <td>-150.59</td>\n",
       "      <td>-1807.05</td>\n",
       "    </tr>\n",
       "    <tr>\n",
       "      <th>7</th>\n",
       "      <td>transport</td>\n",
       "      <td>0</td>\n",
       "      <td>1409</td>\n",
       "      <td>-1409</td>\n",
       "      <td>0.00</td>\n",
       "      <td>6.40</td>\n",
       "      <td>13.86</td>\n",
       "      <td>-3.85</td>\n",
       "      <td>-26.95</td>\n",
       "      <td>-117.10</td>\n",
       "      <td>-1405.15</td>\n",
       "    </tr>\n",
       "  </tbody>\n",
       "</table>\n",
       "</div>"
      ],
      "text/plain": [
       "       category  income  expense  balance  income_to_total_income_pc  \\\n",
       "0          food       0     2105    -2105                       0.00   \n",
       "1    healthcare       0     1603    -1603                       0.00   \n",
       "2     investing    5492        0     5492                      24.96   \n",
       "3   programming   11022        0    11022                      50.10   \n",
       "4         reiki    5488        0     5488                      24.94   \n",
       "5       shelter       0     3240    -3240                       0.00   \n",
       "6  soil testing       0     1812    -1812                       0.00   \n",
       "7     transport       0     1409    -1409                       0.00   \n",
       "\n",
       "   expense_to_total_income_pc  expense_to_total_expense_pc  daily_avg_balance  \\\n",
       "0                        9.57                        20.70              -5.75   \n",
       "1                        7.29                        15.76              -4.38   \n",
       "2                        0.00                         0.00              15.01   \n",
       "3                        0.00                         0.00              30.11   \n",
       "4                        0.00                         0.00              14.99   \n",
       "5                       14.73                        31.86              -8.85   \n",
       "6                        8.24                        17.82              -4.95   \n",
       "7                        6.40                        13.86              -3.85   \n",
       "\n",
       "   weekly_avg_balance  monthly_avg_balance  yearly_avg_balance  \n",
       "0              -40.26              -174.94            -2099.25  \n",
       "1              -30.66              -133.22            -1598.62  \n",
       "2              105.04               456.42             5476.99  \n",
       "3              210.80               915.99            10991.89  \n",
       "4              104.96               456.08             5473.01  \n",
       "5              -61.97              -269.26            -3231.15  \n",
       "6              -34.66              -150.59            -1807.05  \n",
       "7              -26.95              -117.10            -1405.15  "
      ]
     },
     "metadata": {},
     "output_type": "display_data"
    },
    {
     "name": "stdout",
     "output_type": "stream",
     "text": [
      "by_category_and_period\n"
     ]
    },
    {
     "data": {
      "text/html": [
       "<div>\n",
       "<style scoped>\n",
       "    .dataframe tbody tr th:only-of-type {\n",
       "        vertical-align: middle;\n",
       "    }\n",
       "\n",
       "    .dataframe tbody tr th {\n",
       "        vertical-align: top;\n",
       "    }\n",
       "\n",
       "    .dataframe thead th {\n",
       "        text-align: right;\n",
       "    }\n",
       "</style>\n",
       "<table border=\"1\" class=\"dataframe\">\n",
       "  <thead>\n",
       "    <tr style=\"text-align: right;\">\n",
       "      <th></th>\n",
       "      <th>date</th>\n",
       "      <th>category</th>\n",
       "      <th>income</th>\n",
       "      <th>expense</th>\n",
       "      <th>balance</th>\n",
       "      <th>income_to_period_income_pc</th>\n",
       "      <th>expense_to_period_income_pc</th>\n",
       "      <th>expense_to_period_expense_pc</th>\n",
       "    </tr>\n",
       "  </thead>\n",
       "  <tbody>\n",
       "    <tr>\n",
       "      <th>0</th>\n",
       "      <td>2020-01-01</td>\n",
       "      <td>food</td>\n",
       "      <td>0</td>\n",
       "      <td>523</td>\n",
       "      <td>-523</td>\n",
       "      <td>0.00</td>\n",
       "      <td>10.94</td>\n",
       "      <td>20.67</td>\n",
       "    </tr>\n",
       "    <tr>\n",
       "      <th>1</th>\n",
       "      <td>2020-01-01</td>\n",
       "      <td>healthcare</td>\n",
       "      <td>0</td>\n",
       "      <td>412</td>\n",
       "      <td>-412</td>\n",
       "      <td>0.00</td>\n",
       "      <td>8.62</td>\n",
       "      <td>16.28</td>\n",
       "    </tr>\n",
       "    <tr>\n",
       "      <th>2</th>\n",
       "      <td>2020-01-01</td>\n",
       "      <td>investing</td>\n",
       "      <td>1083</td>\n",
       "      <td>0</td>\n",
       "      <td>1083</td>\n",
       "      <td>22.66</td>\n",
       "      <td>0.00</td>\n",
       "      <td>0.00</td>\n",
       "    </tr>\n",
       "    <tr>\n",
       "      <th>3</th>\n",
       "      <td>2020-01-01</td>\n",
       "      <td>programming</td>\n",
       "      <td>2628</td>\n",
       "      <td>0</td>\n",
       "      <td>2628</td>\n",
       "      <td>54.98</td>\n",
       "      <td>0.00</td>\n",
       "      <td>0.00</td>\n",
       "    </tr>\n",
       "    <tr>\n",
       "      <th>4</th>\n",
       "      <td>2020-01-01</td>\n",
       "      <td>reiki</td>\n",
       "      <td>1069</td>\n",
       "      <td>0</td>\n",
       "      <td>1069</td>\n",
       "      <td>22.36</td>\n",
       "      <td>0.00</td>\n",
       "      <td>0.00</td>\n",
       "    </tr>\n",
       "    <tr>\n",
       "      <th>5</th>\n",
       "      <td>2020-01-01</td>\n",
       "      <td>shelter</td>\n",
       "      <td>0</td>\n",
       "      <td>696</td>\n",
       "      <td>-696</td>\n",
       "      <td>0.00</td>\n",
       "      <td>14.56</td>\n",
       "      <td>27.51</td>\n",
       "    </tr>\n",
       "    <tr>\n",
       "      <th>6</th>\n",
       "      <td>2020-01-01</td>\n",
       "      <td>soil testing</td>\n",
       "      <td>0</td>\n",
       "      <td>541</td>\n",
       "      <td>-541</td>\n",
       "      <td>0.00</td>\n",
       "      <td>11.32</td>\n",
       "      <td>21.38</td>\n",
       "    </tr>\n",
       "    <tr>\n",
       "      <th>7</th>\n",
       "      <td>2020-01-01</td>\n",
       "      <td>transport</td>\n",
       "      <td>0</td>\n",
       "      <td>358</td>\n",
       "      <td>-358</td>\n",
       "      <td>0.00</td>\n",
       "      <td>7.49</td>\n",
       "      <td>14.15</td>\n",
       "    </tr>\n",
       "    <tr>\n",
       "      <th>8</th>\n",
       "      <td>2020-04-01</td>\n",
       "      <td>food</td>\n",
       "      <td>0</td>\n",
       "      <td>870</td>\n",
       "      <td>-870</td>\n",
       "      <td>0.00</td>\n",
       "      <td>16.46</td>\n",
       "      <td>35.17</td>\n",
       "    </tr>\n",
       "    <tr>\n",
       "      <th>9</th>\n",
       "      <td>2020-04-01</td>\n",
       "      <td>healthcare</td>\n",
       "      <td>0</td>\n",
       "      <td>270</td>\n",
       "      <td>-270</td>\n",
       "      <td>0.00</td>\n",
       "      <td>5.11</td>\n",
       "      <td>10.91</td>\n",
       "    </tr>\n",
       "    <tr>\n",
       "      <th>10</th>\n",
       "      <td>2020-04-01</td>\n",
       "      <td>investing</td>\n",
       "      <td>1694</td>\n",
       "      <td>0</td>\n",
       "      <td>1694</td>\n",
       "      <td>32.05</td>\n",
       "      <td>0.00</td>\n",
       "      <td>0.00</td>\n",
       "    </tr>\n",
       "    <tr>\n",
       "      <th>11</th>\n",
       "      <td>2020-04-01</td>\n",
       "      <td>programming</td>\n",
       "      <td>2313</td>\n",
       "      <td>0</td>\n",
       "      <td>2313</td>\n",
       "      <td>43.77</td>\n",
       "      <td>0.00</td>\n",
       "      <td>0.00</td>\n",
       "    </tr>\n",
       "    <tr>\n",
       "      <th>12</th>\n",
       "      <td>2020-04-01</td>\n",
       "      <td>reiki</td>\n",
       "      <td>1278</td>\n",
       "      <td>0</td>\n",
       "      <td>1278</td>\n",
       "      <td>24.18</td>\n",
       "      <td>0.00</td>\n",
       "      <td>0.00</td>\n",
       "    </tr>\n",
       "    <tr>\n",
       "      <th>13</th>\n",
       "      <td>2020-04-01</td>\n",
       "      <td>shelter</td>\n",
       "      <td>0</td>\n",
       "      <td>852</td>\n",
       "      <td>-852</td>\n",
       "      <td>0.00</td>\n",
       "      <td>16.12</td>\n",
       "      <td>34.44</td>\n",
       "    </tr>\n",
       "    <tr>\n",
       "      <th>14</th>\n",
       "      <td>2020-04-01</td>\n",
       "      <td>soil testing</td>\n",
       "      <td>0</td>\n",
       "      <td>334</td>\n",
       "      <td>-334</td>\n",
       "      <td>0.00</td>\n",
       "      <td>6.32</td>\n",
       "      <td>13.50</td>\n",
       "    </tr>\n",
       "    <tr>\n",
       "      <th>15</th>\n",
       "      <td>2020-04-01</td>\n",
       "      <td>transport</td>\n",
       "      <td>0</td>\n",
       "      <td>148</td>\n",
       "      <td>-148</td>\n",
       "      <td>0.00</td>\n",
       "      <td>2.80</td>\n",
       "      <td>5.98</td>\n",
       "    </tr>\n",
       "    <tr>\n",
       "      <th>16</th>\n",
       "      <td>2020-07-01</td>\n",
       "      <td>food</td>\n",
       "      <td>0</td>\n",
       "      <td>373</td>\n",
       "      <td>-373</td>\n",
       "      <td>0.00</td>\n",
       "      <td>5.99</td>\n",
       "      <td>14.15</td>\n",
       "    </tr>\n",
       "    <tr>\n",
       "      <th>17</th>\n",
       "      <td>2020-07-01</td>\n",
       "      <td>healthcare</td>\n",
       "      <td>0</td>\n",
       "      <td>486</td>\n",
       "      <td>-486</td>\n",
       "      <td>0.00</td>\n",
       "      <td>7.81</td>\n",
       "      <td>18.44</td>\n",
       "    </tr>\n",
       "    <tr>\n",
       "      <th>18</th>\n",
       "      <td>2020-07-01</td>\n",
       "      <td>investing</td>\n",
       "      <td>1298</td>\n",
       "      <td>0</td>\n",
       "      <td>1298</td>\n",
       "      <td>20.85</td>\n",
       "      <td>0.00</td>\n",
       "      <td>0.00</td>\n",
       "    </tr>\n",
       "    <tr>\n",
       "      <th>19</th>\n",
       "      <td>2020-07-01</td>\n",
       "      <td>programming</td>\n",
       "      <td>3413</td>\n",
       "      <td>0</td>\n",
       "      <td>3413</td>\n",
       "      <td>54.83</td>\n",
       "      <td>0.00</td>\n",
       "      <td>0.00</td>\n",
       "    </tr>\n",
       "    <tr>\n",
       "      <th>20</th>\n",
       "      <td>2020-07-01</td>\n",
       "      <td>reiki</td>\n",
       "      <td>1514</td>\n",
       "      <td>0</td>\n",
       "      <td>1514</td>\n",
       "      <td>24.32</td>\n",
       "      <td>0.00</td>\n",
       "      <td>0.00</td>\n",
       "    </tr>\n",
       "    <tr>\n",
       "      <th>21</th>\n",
       "      <td>2020-07-01</td>\n",
       "      <td>shelter</td>\n",
       "      <td>0</td>\n",
       "      <td>840</td>\n",
       "      <td>-840</td>\n",
       "      <td>0.00</td>\n",
       "      <td>13.49</td>\n",
       "      <td>31.87</td>\n",
       "    </tr>\n",
       "    <tr>\n",
       "      <th>22</th>\n",
       "      <td>2020-07-01</td>\n",
       "      <td>soil testing</td>\n",
       "      <td>0</td>\n",
       "      <td>474</td>\n",
       "      <td>-474</td>\n",
       "      <td>0.00</td>\n",
       "      <td>7.61</td>\n",
       "      <td>17.98</td>\n",
       "    </tr>\n",
       "    <tr>\n",
       "      <th>23</th>\n",
       "      <td>2020-07-01</td>\n",
       "      <td>transport</td>\n",
       "      <td>0</td>\n",
       "      <td>463</td>\n",
       "      <td>-463</td>\n",
       "      <td>0.00</td>\n",
       "      <td>7.44</td>\n",
       "      <td>17.56</td>\n",
       "    </tr>\n",
       "    <tr>\n",
       "      <th>24</th>\n",
       "      <td>2020-10-01</td>\n",
       "      <td>food</td>\n",
       "      <td>0</td>\n",
       "      <td>339</td>\n",
       "      <td>-339</td>\n",
       "      <td>0.00</td>\n",
       "      <td>5.93</td>\n",
       "      <td>13.40</td>\n",
       "    </tr>\n",
       "    <tr>\n",
       "      <th>25</th>\n",
       "      <td>2020-10-01</td>\n",
       "      <td>healthcare</td>\n",
       "      <td>0</td>\n",
       "      <td>435</td>\n",
       "      <td>-435</td>\n",
       "      <td>0.00</td>\n",
       "      <td>7.62</td>\n",
       "      <td>17.20</td>\n",
       "    </tr>\n",
       "    <tr>\n",
       "      <th>26</th>\n",
       "      <td>2020-10-01</td>\n",
       "      <td>investing</td>\n",
       "      <td>1417</td>\n",
       "      <td>0</td>\n",
       "      <td>1417</td>\n",
       "      <td>24.81</td>\n",
       "      <td>0.00</td>\n",
       "      <td>0.00</td>\n",
       "    </tr>\n",
       "    <tr>\n",
       "      <th>27</th>\n",
       "      <td>2020-10-01</td>\n",
       "      <td>programming</td>\n",
       "      <td>2668</td>\n",
       "      <td>0</td>\n",
       "      <td>2668</td>\n",
       "      <td>46.71</td>\n",
       "      <td>0.00</td>\n",
       "      <td>0.00</td>\n",
       "    </tr>\n",
       "    <tr>\n",
       "      <th>28</th>\n",
       "      <td>2020-10-01</td>\n",
       "      <td>reiki</td>\n",
       "      <td>1627</td>\n",
       "      <td>0</td>\n",
       "      <td>1627</td>\n",
       "      <td>28.48</td>\n",
       "      <td>0.00</td>\n",
       "      <td>0.00</td>\n",
       "    </tr>\n",
       "    <tr>\n",
       "      <th>29</th>\n",
       "      <td>2020-10-01</td>\n",
       "      <td>shelter</td>\n",
       "      <td>0</td>\n",
       "      <td>852</td>\n",
       "      <td>-852</td>\n",
       "      <td>0.00</td>\n",
       "      <td>14.92</td>\n",
       "      <td>33.69</td>\n",
       "    </tr>\n",
       "    <tr>\n",
       "      <th>30</th>\n",
       "      <td>2020-10-01</td>\n",
       "      <td>soil testing</td>\n",
       "      <td>0</td>\n",
       "      <td>463</td>\n",
       "      <td>-463</td>\n",
       "      <td>0.00</td>\n",
       "      <td>8.11</td>\n",
       "      <td>18.31</td>\n",
       "    </tr>\n",
       "    <tr>\n",
       "      <th>31</th>\n",
       "      <td>2020-10-01</td>\n",
       "      <td>transport</td>\n",
       "      <td>0</td>\n",
       "      <td>440</td>\n",
       "      <td>-440</td>\n",
       "      <td>0.00</td>\n",
       "      <td>7.70</td>\n",
       "      <td>17.40</td>\n",
       "    </tr>\n",
       "  </tbody>\n",
       "</table>\n",
       "</div>"
      ],
      "text/plain": [
       "         date      category  income  expense  balance  \\\n",
       "0  2020-01-01          food       0      523     -523   \n",
       "1  2020-01-01    healthcare       0      412     -412   \n",
       "2  2020-01-01     investing    1083        0     1083   \n",
       "3  2020-01-01   programming    2628        0     2628   \n",
       "4  2020-01-01         reiki    1069        0     1069   \n",
       "5  2020-01-01       shelter       0      696     -696   \n",
       "6  2020-01-01  soil testing       0      541     -541   \n",
       "7  2020-01-01     transport       0      358     -358   \n",
       "8  2020-04-01          food       0      870     -870   \n",
       "9  2020-04-01    healthcare       0      270     -270   \n",
       "10 2020-04-01     investing    1694        0     1694   \n",
       "11 2020-04-01   programming    2313        0     2313   \n",
       "12 2020-04-01         reiki    1278        0     1278   \n",
       "13 2020-04-01       shelter       0      852     -852   \n",
       "14 2020-04-01  soil testing       0      334     -334   \n",
       "15 2020-04-01     transport       0      148     -148   \n",
       "16 2020-07-01          food       0      373     -373   \n",
       "17 2020-07-01    healthcare       0      486     -486   \n",
       "18 2020-07-01     investing    1298        0     1298   \n",
       "19 2020-07-01   programming    3413        0     3413   \n",
       "20 2020-07-01         reiki    1514        0     1514   \n",
       "21 2020-07-01       shelter       0      840     -840   \n",
       "22 2020-07-01  soil testing       0      474     -474   \n",
       "23 2020-07-01     transport       0      463     -463   \n",
       "24 2020-10-01          food       0      339     -339   \n",
       "25 2020-10-01    healthcare       0      435     -435   \n",
       "26 2020-10-01     investing    1417        0     1417   \n",
       "27 2020-10-01   programming    2668        0     2668   \n",
       "28 2020-10-01         reiki    1627        0     1627   \n",
       "29 2020-10-01       shelter       0      852     -852   \n",
       "30 2020-10-01  soil testing       0      463     -463   \n",
       "31 2020-10-01     transport       0      440     -440   \n",
       "\n",
       "    income_to_period_income_pc  expense_to_period_income_pc  \\\n",
       "0                         0.00                        10.94   \n",
       "1                         0.00                         8.62   \n",
       "2                        22.66                         0.00   \n",
       "3                        54.98                         0.00   \n",
       "4                        22.36                         0.00   \n",
       "5                         0.00                        14.56   \n",
       "6                         0.00                        11.32   \n",
       "7                         0.00                         7.49   \n",
       "8                         0.00                        16.46   \n",
       "9                         0.00                         5.11   \n",
       "10                       32.05                         0.00   \n",
       "11                       43.77                         0.00   \n",
       "12                       24.18                         0.00   \n",
       "13                        0.00                        16.12   \n",
       "14                        0.00                         6.32   \n",
       "15                        0.00                         2.80   \n",
       "16                        0.00                         5.99   \n",
       "17                        0.00                         7.81   \n",
       "18                       20.85                         0.00   \n",
       "19                       54.83                         0.00   \n",
       "20                       24.32                         0.00   \n",
       "21                        0.00                        13.49   \n",
       "22                        0.00                         7.61   \n",
       "23                        0.00                         7.44   \n",
       "24                        0.00                         5.93   \n",
       "25                        0.00                         7.62   \n",
       "26                       24.81                         0.00   \n",
       "27                       46.71                         0.00   \n",
       "28                       28.48                         0.00   \n",
       "29                        0.00                        14.92   \n",
       "30                        0.00                         8.11   \n",
       "31                        0.00                         7.70   \n",
       "\n",
       "    expense_to_period_expense_pc  \n",
       "0                          20.67  \n",
       "1                          16.28  \n",
       "2                           0.00  \n",
       "3                           0.00  \n",
       "4                           0.00  \n",
       "5                          27.51  \n",
       "6                          21.38  \n",
       "7                          14.15  \n",
       "8                          35.17  \n",
       "9                          10.91  \n",
       "10                          0.00  \n",
       "11                          0.00  \n",
       "12                          0.00  \n",
       "13                         34.44  \n",
       "14                         13.50  \n",
       "15                          5.98  \n",
       "16                         14.15  \n",
       "17                         18.44  \n",
       "18                          0.00  \n",
       "19                          0.00  \n",
       "20                          0.00  \n",
       "21                         31.87  \n",
       "22                         17.98  \n",
       "23                         17.56  \n",
       "24                         13.40  \n",
       "25                         17.20  \n",
       "26                          0.00  \n",
       "27                          0.00  \n",
       "28                          0.00  \n",
       "29                         33.69  \n",
       "30                         18.31  \n",
       "31                         17.40  "
      ]
     },
     "metadata": {},
     "output_type": "display_data"
    }
   ],
   "source": [
    "# Summarize over entire period by category\n",
    "summary = ms.summarize(transactions, freq=\"QS\")\n",
    "for k,v in summary.items():\n",
    "    print(k)\n",
    "    display(v)\n",
    "    \n",
    "\n"
   ]
  },
  {
   "cell_type": "code",
   "execution_count": 27,
   "metadata": {},
   "outputs": [],
   "source": [
    "\n",
    "    \n",
    "# def plot_bak(summary, currency=None, height=None):\n",
    "#     \"\"\"\n",
    "#     Uses offsets.\n",
    "#     Doesn't work yet.\n",
    "#     \"\"\"\n",
    "#     import plotly.subplots as ps\n",
    "\n",
    "#     f = summary[\"by_category_and_period\"]\n",
    "#     if f.empty:\n",
    "#         return pg.Figure()\n",
    "    \n",
    "#     if currency is None:\n",
    "#         currency = \"\"\n",
    "\n",
    "#     hovertemplate = (\n",
    "#         \"<b>%{meta}</b><br>\"\n",
    "#         \"%{y:,.0f}\" + currency + \"<br>\" +\n",
    "#         \"%{x}<extra></extra>\"\n",
    "#     )\n",
    "           \n",
    "#     fig = ps.make_subplots(specs=[[{\"secondary_y\": True}]])\n",
    "    \n",
    "#     for kind in [\"income\", \"expense\"]:\n",
    "#         yaxis = f\"y{int(kind == 'income') + 1}\"\n",
    "#         offset = int(kind == \"income\")\n",
    "#         if kind == \"expense\":\n",
    "#             pattern_shape= \"x\"\n",
    "#         else:\n",
    "#             pattern_shape = \"\"\n",
    "#         traces = [\n",
    "#             pg.Bar(\n",
    "#                 x=g.date, \n",
    "#                 y=g[kind],\n",
    "#                 name=f\"{category} {kind}\",\n",
    "#                 meta=f\"{category} {kind}\",\n",
    "#                 #marker_color=\"#636efa\",\n",
    "#                 hovertemplate=hovertemplate,\n",
    "#                 yaxis=yaxis,\n",
    "#                 offset=offset,\n",
    "#                 marker_pattern_shape=pattern_shape,\n",
    "#             )\n",
    "#             for category, g in f.groupby(\"category\")\n",
    "#         ]\n",
    "#         fig.add_traces(traces)\n",
    "    \n",
    "#     layout = dict(\n",
    "#         title=\"Summary by period\",\n",
    "#         xaxis=dict(title=\"period\", tickformat=\"%Y-%m-%d\", ticklabelmode=\"period\"),\n",
    "#         yaxis=dict(separatethousands=True, title=\"value\", ticksuffix=currency),\n",
    "#         legend_title_text=\"\",\n",
    "#         template=\"plotly_white\",\n",
    "#         barmode=\"stack\",\n",
    "#         height=height,\n",
    "#     )\n",
    "#     fig.update_layout(layout)\n",
    "    \n",
    "#     # Hide second y-axis\n",
    "#     fig.update_yaxes(visible=False, showgrid=False, title_text=\"\", secondary_y=True)\n",
    "\n",
    "    \n",
    "#     if f.date.nunique() < 20:\n",
    "#         fig.update_xaxes(\n",
    "#             tickvals=f.date.map(lambda x: x.strftime(\"%Y-%m-%d\")).unique().tolist()\n",
    "#         )\n",
    "            \n",
    "#     return fig\n",
    "\n",
    "\n"
   ]
  },
  {
   "cell_type": "code",
   "execution_count": 30,
   "metadata": {},
   "outputs": [
    {
     "data": {
      "application/vnd.plotly.v1+json": {
       "config": {
        "plotlyServerURL": "https://plot.ly"
       },
       "data": [
        {
         "hovertemplate": "<b>%{meta}</b><br>%{y:,.0f}$<br>%{x}<extra></extra>",
         "meta": "food",
         "name": "food",
         "text": [
          "0%",
          "21%"
         ],
         "textposition": "inside",
         "type": "bar",
         "x": [
          "income",
          "expense"
         ],
         "y": [
          0,
          2105
         ]
        },
        {
         "hovertemplate": "<b>%{meta}</b><br>%{y:,.0f}$<br>%{x}<extra></extra>",
         "meta": "healthcare",
         "name": "healthcare",
         "text": [
          "0%",
          "16%"
         ],
         "textposition": "inside",
         "type": "bar",
         "x": [
          "income",
          "expense"
         ],
         "y": [
          0,
          1603
         ]
        },
        {
         "hovertemplate": "<b>%{meta}</b><br>%{y:,.0f}$<br>%{x}<extra></extra>",
         "meta": "investing",
         "name": "investing",
         "text": [
          "25%",
          "0%"
         ],
         "textposition": "inside",
         "type": "bar",
         "x": [
          "income",
          "expense"
         ],
         "y": [
          5492,
          0
         ]
        },
        {
         "hovertemplate": "<b>%{meta}</b><br>%{y:,.0f}$<br>%{x}<extra></extra>",
         "meta": "programming",
         "name": "programming",
         "text": [
          "50%",
          "0%"
         ],
         "textposition": "inside",
         "type": "bar",
         "x": [
          "income",
          "expense"
         ],
         "y": [
          11022,
          0
         ]
        },
        {
         "hovertemplate": "<b>%{meta}</b><br>%{y:,.0f}$<br>%{x}<extra></extra>",
         "meta": "reiki",
         "name": "reiki",
         "text": [
          "25%",
          "0%"
         ],
         "textposition": "inside",
         "type": "bar",
         "x": [
          "income",
          "expense"
         ],
         "y": [
          5488,
          0
         ]
        },
        {
         "hovertemplate": "<b>%{meta}</b><br>%{y:,.0f}$<br>%{x}<extra></extra>",
         "meta": "shelter",
         "name": "shelter",
         "text": [
          "0%",
          "32%"
         ],
         "textposition": "inside",
         "type": "bar",
         "x": [
          "income",
          "expense"
         ],
         "y": [
          0,
          3240
         ]
        },
        {
         "hovertemplate": "<b>%{meta}</b><br>%{y:,.0f}$<br>%{x}<extra></extra>",
         "meta": "soil testing",
         "name": "soil testing",
         "text": [
          "0%",
          "18%"
         ],
         "textposition": "inside",
         "type": "bar",
         "x": [
          "income",
          "expense"
         ],
         "y": [
          0,
          1812
         ]
        },
        {
         "hovertemplate": "<b>%{meta}</b><br>%{y:,.0f}$<br>%{x}<extra></extra>",
         "meta": "transport",
         "name": "transport",
         "text": [
          "0%",
          "14%"
         ],
         "textposition": "inside",
         "type": "bar",
         "x": [
          "income",
          "expense"
         ],
         "y": [
          0,
          1409
         ]
        }
       ],
       "layout": {
        "barmode": "stack",
        "legend": {
         "title": {
          "text": ""
         },
         "traceorder": "normal"
        },
        "template": {
         "data": {
          "bar": [
           {
            "error_x": {
             "color": "#2a3f5f"
            },
            "error_y": {
             "color": "#2a3f5f"
            },
            "marker": {
             "line": {
              "color": "white",
              "width": 0.5
             },
             "pattern": {
              "fillmode": "overlay",
              "size": 10,
              "solidity": 0.2
             }
            },
            "type": "bar"
           }
          ],
          "barpolar": [
           {
            "marker": {
             "line": {
              "color": "white",
              "width": 0.5
             },
             "pattern": {
              "fillmode": "overlay",
              "size": 10,
              "solidity": 0.2
             }
            },
            "type": "barpolar"
           }
          ],
          "carpet": [
           {
            "aaxis": {
             "endlinecolor": "#2a3f5f",
             "gridcolor": "#C8D4E3",
             "linecolor": "#C8D4E3",
             "minorgridcolor": "#C8D4E3",
             "startlinecolor": "#2a3f5f"
            },
            "baxis": {
             "endlinecolor": "#2a3f5f",
             "gridcolor": "#C8D4E3",
             "linecolor": "#C8D4E3",
             "minorgridcolor": "#C8D4E3",
             "startlinecolor": "#2a3f5f"
            },
            "type": "carpet"
           }
          ],
          "choropleth": [
           {
            "colorbar": {
             "outlinewidth": 0,
             "ticks": ""
            },
            "type": "choropleth"
           }
          ],
          "contour": [
           {
            "colorbar": {
             "outlinewidth": 0,
             "ticks": ""
            },
            "colorscale": [
             [
              0,
              "#0d0887"
             ],
             [
              0.1111111111111111,
              "#46039f"
             ],
             [
              0.2222222222222222,
              "#7201a8"
             ],
             [
              0.3333333333333333,
              "#9c179e"
             ],
             [
              0.4444444444444444,
              "#bd3786"
             ],
             [
              0.5555555555555556,
              "#d8576b"
             ],
             [
              0.6666666666666666,
              "#ed7953"
             ],
             [
              0.7777777777777778,
              "#fb9f3a"
             ],
             [
              0.8888888888888888,
              "#fdca26"
             ],
             [
              1,
              "#f0f921"
             ]
            ],
            "type": "contour"
           }
          ],
          "contourcarpet": [
           {
            "colorbar": {
             "outlinewidth": 0,
             "ticks": ""
            },
            "type": "contourcarpet"
           }
          ],
          "heatmap": [
           {
            "colorbar": {
             "outlinewidth": 0,
             "ticks": ""
            },
            "colorscale": [
             [
              0,
              "#0d0887"
             ],
             [
              0.1111111111111111,
              "#46039f"
             ],
             [
              0.2222222222222222,
              "#7201a8"
             ],
             [
              0.3333333333333333,
              "#9c179e"
             ],
             [
              0.4444444444444444,
              "#bd3786"
             ],
             [
              0.5555555555555556,
              "#d8576b"
             ],
             [
              0.6666666666666666,
              "#ed7953"
             ],
             [
              0.7777777777777778,
              "#fb9f3a"
             ],
             [
              0.8888888888888888,
              "#fdca26"
             ],
             [
              1,
              "#f0f921"
             ]
            ],
            "type": "heatmap"
           }
          ],
          "heatmapgl": [
           {
            "colorbar": {
             "outlinewidth": 0,
             "ticks": ""
            },
            "colorscale": [
             [
              0,
              "#0d0887"
             ],
             [
              0.1111111111111111,
              "#46039f"
             ],
             [
              0.2222222222222222,
              "#7201a8"
             ],
             [
              0.3333333333333333,
              "#9c179e"
             ],
             [
              0.4444444444444444,
              "#bd3786"
             ],
             [
              0.5555555555555556,
              "#d8576b"
             ],
             [
              0.6666666666666666,
              "#ed7953"
             ],
             [
              0.7777777777777778,
              "#fb9f3a"
             ],
             [
              0.8888888888888888,
              "#fdca26"
             ],
             [
              1,
              "#f0f921"
             ]
            ],
            "type": "heatmapgl"
           }
          ],
          "histogram": [
           {
            "marker": {
             "pattern": {
              "fillmode": "overlay",
              "size": 10,
              "solidity": 0.2
             }
            },
            "type": "histogram"
           }
          ],
          "histogram2d": [
           {
            "colorbar": {
             "outlinewidth": 0,
             "ticks": ""
            },
            "colorscale": [
             [
              0,
              "#0d0887"
             ],
             [
              0.1111111111111111,
              "#46039f"
             ],
             [
              0.2222222222222222,
              "#7201a8"
             ],
             [
              0.3333333333333333,
              "#9c179e"
             ],
             [
              0.4444444444444444,
              "#bd3786"
             ],
             [
              0.5555555555555556,
              "#d8576b"
             ],
             [
              0.6666666666666666,
              "#ed7953"
             ],
             [
              0.7777777777777778,
              "#fb9f3a"
             ],
             [
              0.8888888888888888,
              "#fdca26"
             ],
             [
              1,
              "#f0f921"
             ]
            ],
            "type": "histogram2d"
           }
          ],
          "histogram2dcontour": [
           {
            "colorbar": {
             "outlinewidth": 0,
             "ticks": ""
            },
            "colorscale": [
             [
              0,
              "#0d0887"
             ],
             [
              0.1111111111111111,
              "#46039f"
             ],
             [
              0.2222222222222222,
              "#7201a8"
             ],
             [
              0.3333333333333333,
              "#9c179e"
             ],
             [
              0.4444444444444444,
              "#bd3786"
             ],
             [
              0.5555555555555556,
              "#d8576b"
             ],
             [
              0.6666666666666666,
              "#ed7953"
             ],
             [
              0.7777777777777778,
              "#fb9f3a"
             ],
             [
              0.8888888888888888,
              "#fdca26"
             ],
             [
              1,
              "#f0f921"
             ]
            ],
            "type": "histogram2dcontour"
           }
          ],
          "mesh3d": [
           {
            "colorbar": {
             "outlinewidth": 0,
             "ticks": ""
            },
            "type": "mesh3d"
           }
          ],
          "parcoords": [
           {
            "line": {
             "colorbar": {
              "outlinewidth": 0,
              "ticks": ""
             }
            },
            "type": "parcoords"
           }
          ],
          "pie": [
           {
            "automargin": true,
            "type": "pie"
           }
          ],
          "scatter": [
           {
            "marker": {
             "colorbar": {
              "outlinewidth": 0,
              "ticks": ""
             }
            },
            "type": "scatter"
           }
          ],
          "scatter3d": [
           {
            "line": {
             "colorbar": {
              "outlinewidth": 0,
              "ticks": ""
             }
            },
            "marker": {
             "colorbar": {
              "outlinewidth": 0,
              "ticks": ""
             }
            },
            "type": "scatter3d"
           }
          ],
          "scattercarpet": [
           {
            "marker": {
             "colorbar": {
              "outlinewidth": 0,
              "ticks": ""
             }
            },
            "type": "scattercarpet"
           }
          ],
          "scattergeo": [
           {
            "marker": {
             "colorbar": {
              "outlinewidth": 0,
              "ticks": ""
             }
            },
            "type": "scattergeo"
           }
          ],
          "scattergl": [
           {
            "marker": {
             "colorbar": {
              "outlinewidth": 0,
              "ticks": ""
             }
            },
            "type": "scattergl"
           }
          ],
          "scattermapbox": [
           {
            "marker": {
             "colorbar": {
              "outlinewidth": 0,
              "ticks": ""
             }
            },
            "type": "scattermapbox"
           }
          ],
          "scatterpolar": [
           {
            "marker": {
             "colorbar": {
              "outlinewidth": 0,
              "ticks": ""
             }
            },
            "type": "scatterpolar"
           }
          ],
          "scatterpolargl": [
           {
            "marker": {
             "colorbar": {
              "outlinewidth": 0,
              "ticks": ""
             }
            },
            "type": "scatterpolargl"
           }
          ],
          "scatterternary": [
           {
            "marker": {
             "colorbar": {
              "outlinewidth": 0,
              "ticks": ""
             }
            },
            "type": "scatterternary"
           }
          ],
          "surface": [
           {
            "colorbar": {
             "outlinewidth": 0,
             "ticks": ""
            },
            "colorscale": [
             [
              0,
              "#0d0887"
             ],
             [
              0.1111111111111111,
              "#46039f"
             ],
             [
              0.2222222222222222,
              "#7201a8"
             ],
             [
              0.3333333333333333,
              "#9c179e"
             ],
             [
              0.4444444444444444,
              "#bd3786"
             ],
             [
              0.5555555555555556,
              "#d8576b"
             ],
             [
              0.6666666666666666,
              "#ed7953"
             ],
             [
              0.7777777777777778,
              "#fb9f3a"
             ],
             [
              0.8888888888888888,
              "#fdca26"
             ],
             [
              1,
              "#f0f921"
             ]
            ],
            "type": "surface"
           }
          ],
          "table": [
           {
            "cells": {
             "fill": {
              "color": "#EBF0F8"
             },
             "line": {
              "color": "white"
             }
            },
            "header": {
             "fill": {
              "color": "#C8D4E3"
             },
             "line": {
              "color": "white"
             }
            },
            "type": "table"
           }
          ]
         },
         "layout": {
          "annotationdefaults": {
           "arrowcolor": "#2a3f5f",
           "arrowhead": 0,
           "arrowwidth": 1
          },
          "autotypenumbers": "strict",
          "coloraxis": {
           "colorbar": {
            "outlinewidth": 0,
            "ticks": ""
           }
          },
          "colorscale": {
           "diverging": [
            [
             0,
             "#8e0152"
            ],
            [
             0.1,
             "#c51b7d"
            ],
            [
             0.2,
             "#de77ae"
            ],
            [
             0.3,
             "#f1b6da"
            ],
            [
             0.4,
             "#fde0ef"
            ],
            [
             0.5,
             "#f7f7f7"
            ],
            [
             0.6,
             "#e6f5d0"
            ],
            [
             0.7,
             "#b8e186"
            ],
            [
             0.8,
             "#7fbc41"
            ],
            [
             0.9,
             "#4d9221"
            ],
            [
             1,
             "#276419"
            ]
           ],
           "sequential": [
            [
             0,
             "#0d0887"
            ],
            [
             0.1111111111111111,
             "#46039f"
            ],
            [
             0.2222222222222222,
             "#7201a8"
            ],
            [
             0.3333333333333333,
             "#9c179e"
            ],
            [
             0.4444444444444444,
             "#bd3786"
            ],
            [
             0.5555555555555556,
             "#d8576b"
            ],
            [
             0.6666666666666666,
             "#ed7953"
            ],
            [
             0.7777777777777778,
             "#fb9f3a"
            ],
            [
             0.8888888888888888,
             "#fdca26"
            ],
            [
             1,
             "#f0f921"
            ]
           ],
           "sequentialminus": [
            [
             0,
             "#0d0887"
            ],
            [
             0.1111111111111111,
             "#46039f"
            ],
            [
             0.2222222222222222,
             "#7201a8"
            ],
            [
             0.3333333333333333,
             "#9c179e"
            ],
            [
             0.4444444444444444,
             "#bd3786"
            ],
            [
             0.5555555555555556,
             "#d8576b"
            ],
            [
             0.6666666666666666,
             "#ed7953"
            ],
            [
             0.7777777777777778,
             "#fb9f3a"
            ],
            [
             0.8888888888888888,
             "#fdca26"
            ],
            [
             1,
             "#f0f921"
            ]
           ]
          },
          "colorway": [
           "#636efa",
           "#EF553B",
           "#00cc96",
           "#ab63fa",
           "#FFA15A",
           "#19d3f3",
           "#FF6692",
           "#B6E880",
           "#FF97FF",
           "#FECB52"
          ],
          "font": {
           "color": "#2a3f5f"
          },
          "geo": {
           "bgcolor": "white",
           "lakecolor": "white",
           "landcolor": "white",
           "showlakes": true,
           "showland": true,
           "subunitcolor": "#C8D4E3"
          },
          "hoverlabel": {
           "align": "left"
          },
          "hovermode": "closest",
          "mapbox": {
           "style": "light"
          },
          "paper_bgcolor": "white",
          "plot_bgcolor": "white",
          "polar": {
           "angularaxis": {
            "gridcolor": "#EBF0F8",
            "linecolor": "#EBF0F8",
            "ticks": ""
           },
           "bgcolor": "white",
           "radialaxis": {
            "gridcolor": "#EBF0F8",
            "linecolor": "#EBF0F8",
            "ticks": ""
           }
          },
          "scene": {
           "xaxis": {
            "backgroundcolor": "white",
            "gridcolor": "#DFE8F3",
            "gridwidth": 2,
            "linecolor": "#EBF0F8",
            "showbackground": true,
            "ticks": "",
            "zerolinecolor": "#EBF0F8"
           },
           "yaxis": {
            "backgroundcolor": "white",
            "gridcolor": "#DFE8F3",
            "gridwidth": 2,
            "linecolor": "#EBF0F8",
            "showbackground": true,
            "ticks": "",
            "zerolinecolor": "#EBF0F8"
           },
           "zaxis": {
            "backgroundcolor": "white",
            "gridcolor": "#DFE8F3",
            "gridwidth": 2,
            "linecolor": "#EBF0F8",
            "showbackground": true,
            "ticks": "",
            "zerolinecolor": "#EBF0F8"
           }
          },
          "shapedefaults": {
           "line": {
            "color": "#2a3f5f"
           }
          },
          "ternary": {
           "aaxis": {
            "gridcolor": "#DFE8F3",
            "linecolor": "#A2B1C6",
            "ticks": ""
           },
           "baxis": {
            "gridcolor": "#DFE8F3",
            "linecolor": "#A2B1C6",
            "ticks": ""
           },
           "bgcolor": "white",
           "caxis": {
            "gridcolor": "#DFE8F3",
            "linecolor": "#A2B1C6",
            "ticks": ""
           }
          },
          "title": {
           "x": 0.05
          },
          "xaxis": {
           "automargin": true,
           "gridcolor": "#EBF0F8",
           "linecolor": "#EBF0F8",
           "ticks": "",
           "title": {
            "standoff": 15
           },
           "zerolinecolor": "#EBF0F8",
           "zerolinewidth": 2
          },
          "yaxis": {
           "automargin": true,
           "gridcolor": "#EBF0F8",
           "linecolor": "#EBF0F8",
           "ticks": "",
           "title": {
            "standoff": 15
           },
           "zerolinecolor": "#EBF0F8",
           "zerolinewidth": 2
          }
         }
        },
        "title": {
         "text": "\n<b>Summary by category</b>\n<br>2020-01-01 to 2020-12-31\n<br>income = 22,002&#36; ·\nexpense = 10,169&#36; ·\nbalance = 11,833&#36; ·\nsavings pc = 53.8%\n"
        },
        "uniformtext": {
         "minsize": 8,
         "mode": "hide"
        },
        "xaxis": {
         "title": {
          "text": ""
         }
        },
        "yaxis": {
         "separatethousands": true,
         "ticksuffix": "$",
         "title": {
          "text": "value"
         }
        }
       }
      },
      "text/html": [
       "<div>                            <div id=\"01165e28-f518-4be2-8503-fce684711e75\" class=\"plotly-graph-div\" style=\"height:525px; width:100%;\"></div>            <script type=\"text/javascript\">                require([\"plotly\"], function(Plotly) {                    window.PLOTLYENV=window.PLOTLYENV || {};                                    if (document.getElementById(\"01165e28-f518-4be2-8503-fce684711e75\")) {                    Plotly.newPlot(                        \"01165e28-f518-4be2-8503-fce684711e75\",                        [{\"hovertemplate\":\"<b>%{meta}</b><br>%{y:,.0f}$<br>%{x}<extra></extra>\",\"meta\":\"food\",\"name\":\"food\",\"text\":[\"0%\",\"21%\"],\"textposition\":\"inside\",\"type\":\"bar\",\"x\":[\"income\",\"expense\"],\"y\":[0,2105]},{\"hovertemplate\":\"<b>%{meta}</b><br>%{y:,.0f}$<br>%{x}<extra></extra>\",\"meta\":\"healthcare\",\"name\":\"healthcare\",\"text\":[\"0%\",\"16%\"],\"textposition\":\"inside\",\"type\":\"bar\",\"x\":[\"income\",\"expense\"],\"y\":[0,1603]},{\"hovertemplate\":\"<b>%{meta}</b><br>%{y:,.0f}$<br>%{x}<extra></extra>\",\"meta\":\"investing\",\"name\":\"investing\",\"text\":[\"25%\",\"0%\"],\"textposition\":\"inside\",\"type\":\"bar\",\"x\":[\"income\",\"expense\"],\"y\":[5492,0]},{\"hovertemplate\":\"<b>%{meta}</b><br>%{y:,.0f}$<br>%{x}<extra></extra>\",\"meta\":\"programming\",\"name\":\"programming\",\"text\":[\"50%\",\"0%\"],\"textposition\":\"inside\",\"type\":\"bar\",\"x\":[\"income\",\"expense\"],\"y\":[11022,0]},{\"hovertemplate\":\"<b>%{meta}</b><br>%{y:,.0f}$<br>%{x}<extra></extra>\",\"meta\":\"reiki\",\"name\":\"reiki\",\"text\":[\"25%\",\"0%\"],\"textposition\":\"inside\",\"type\":\"bar\",\"x\":[\"income\",\"expense\"],\"y\":[5488,0]},{\"hovertemplate\":\"<b>%{meta}</b><br>%{y:,.0f}$<br>%{x}<extra></extra>\",\"meta\":\"shelter\",\"name\":\"shelter\",\"text\":[\"0%\",\"32%\"],\"textposition\":\"inside\",\"type\":\"bar\",\"x\":[\"income\",\"expense\"],\"y\":[0,3240]},{\"hovertemplate\":\"<b>%{meta}</b><br>%{y:,.0f}$<br>%{x}<extra></extra>\",\"meta\":\"soil testing\",\"name\":\"soil testing\",\"text\":[\"0%\",\"18%\"],\"textposition\":\"inside\",\"type\":\"bar\",\"x\":[\"income\",\"expense\"],\"y\":[0,1812]},{\"hovertemplate\":\"<b>%{meta}</b><br>%{y:,.0f}$<br>%{x}<extra></extra>\",\"meta\":\"transport\",\"name\":\"transport\",\"text\":[\"0%\",\"14%\"],\"textposition\":\"inside\",\"type\":\"bar\",\"x\":[\"income\",\"expense\"],\"y\":[0,1409]}],                        {\"barmode\":\"stack\",\"legend\":{\"title\":{\"text\":\"\"},\"traceorder\":\"normal\"},\"template\":{\"data\":{\"bar\":[{\"error_x\":{\"color\":\"#2a3f5f\"},\"error_y\":{\"color\":\"#2a3f5f\"},\"marker\":{\"line\":{\"color\":\"white\",\"width\":0.5},\"pattern\":{\"fillmode\":\"overlay\",\"size\":10,\"solidity\":0.2}},\"type\":\"bar\"}],\"barpolar\":[{\"marker\":{\"line\":{\"color\":\"white\",\"width\":0.5},\"pattern\":{\"fillmode\":\"overlay\",\"size\":10,\"solidity\":0.2}},\"type\":\"barpolar\"}],\"carpet\":[{\"aaxis\":{\"endlinecolor\":\"#2a3f5f\",\"gridcolor\":\"#C8D4E3\",\"linecolor\":\"#C8D4E3\",\"minorgridcolor\":\"#C8D4E3\",\"startlinecolor\":\"#2a3f5f\"},\"baxis\":{\"endlinecolor\":\"#2a3f5f\",\"gridcolor\":\"#C8D4E3\",\"linecolor\":\"#C8D4E3\",\"minorgridcolor\":\"#C8D4E3\",\"startlinecolor\":\"#2a3f5f\"},\"type\":\"carpet\"}],\"choropleth\":[{\"colorbar\":{\"outlinewidth\":0,\"ticks\":\"\"},\"type\":\"choropleth\"}],\"contour\":[{\"colorbar\":{\"outlinewidth\":0,\"ticks\":\"\"},\"colorscale\":[[0.0,\"#0d0887\"],[0.1111111111111111,\"#46039f\"],[0.2222222222222222,\"#7201a8\"],[0.3333333333333333,\"#9c179e\"],[0.4444444444444444,\"#bd3786\"],[0.5555555555555556,\"#d8576b\"],[0.6666666666666666,\"#ed7953\"],[0.7777777777777778,\"#fb9f3a\"],[0.8888888888888888,\"#fdca26\"],[1.0,\"#f0f921\"]],\"type\":\"contour\"}],\"contourcarpet\":[{\"colorbar\":{\"outlinewidth\":0,\"ticks\":\"\"},\"type\":\"contourcarpet\"}],\"heatmap\":[{\"colorbar\":{\"outlinewidth\":0,\"ticks\":\"\"},\"colorscale\":[[0.0,\"#0d0887\"],[0.1111111111111111,\"#46039f\"],[0.2222222222222222,\"#7201a8\"],[0.3333333333333333,\"#9c179e\"],[0.4444444444444444,\"#bd3786\"],[0.5555555555555556,\"#d8576b\"],[0.6666666666666666,\"#ed7953\"],[0.7777777777777778,\"#fb9f3a\"],[0.8888888888888888,\"#fdca26\"],[1.0,\"#f0f921\"]],\"type\":\"heatmap\"}],\"heatmapgl\":[{\"colorbar\":{\"outlinewidth\":0,\"ticks\":\"\"},\"colorscale\":[[0.0,\"#0d0887\"],[0.1111111111111111,\"#46039f\"],[0.2222222222222222,\"#7201a8\"],[0.3333333333333333,\"#9c179e\"],[0.4444444444444444,\"#bd3786\"],[0.5555555555555556,\"#d8576b\"],[0.6666666666666666,\"#ed7953\"],[0.7777777777777778,\"#fb9f3a\"],[0.8888888888888888,\"#fdca26\"],[1.0,\"#f0f921\"]],\"type\":\"heatmapgl\"}],\"histogram\":[{\"marker\":{\"pattern\":{\"fillmode\":\"overlay\",\"size\":10,\"solidity\":0.2}},\"type\":\"histogram\"}],\"histogram2d\":[{\"colorbar\":{\"outlinewidth\":0,\"ticks\":\"\"},\"colorscale\":[[0.0,\"#0d0887\"],[0.1111111111111111,\"#46039f\"],[0.2222222222222222,\"#7201a8\"],[0.3333333333333333,\"#9c179e\"],[0.4444444444444444,\"#bd3786\"],[0.5555555555555556,\"#d8576b\"],[0.6666666666666666,\"#ed7953\"],[0.7777777777777778,\"#fb9f3a\"],[0.8888888888888888,\"#fdca26\"],[1.0,\"#f0f921\"]],\"type\":\"histogram2d\"}],\"histogram2dcontour\":[{\"colorbar\":{\"outlinewidth\":0,\"ticks\":\"\"},\"colorscale\":[[0.0,\"#0d0887\"],[0.1111111111111111,\"#46039f\"],[0.2222222222222222,\"#7201a8\"],[0.3333333333333333,\"#9c179e\"],[0.4444444444444444,\"#bd3786\"],[0.5555555555555556,\"#d8576b\"],[0.6666666666666666,\"#ed7953\"],[0.7777777777777778,\"#fb9f3a\"],[0.8888888888888888,\"#fdca26\"],[1.0,\"#f0f921\"]],\"type\":\"histogram2dcontour\"}],\"mesh3d\":[{\"colorbar\":{\"outlinewidth\":0,\"ticks\":\"\"},\"type\":\"mesh3d\"}],\"parcoords\":[{\"line\":{\"colorbar\":{\"outlinewidth\":0,\"ticks\":\"\"}},\"type\":\"parcoords\"}],\"pie\":[{\"automargin\":true,\"type\":\"pie\"}],\"scatter\":[{\"marker\":{\"colorbar\":{\"outlinewidth\":0,\"ticks\":\"\"}},\"type\":\"scatter\"}],\"scatter3d\":[{\"line\":{\"colorbar\":{\"outlinewidth\":0,\"ticks\":\"\"}},\"marker\":{\"colorbar\":{\"outlinewidth\":0,\"ticks\":\"\"}},\"type\":\"scatter3d\"}],\"scattercarpet\":[{\"marker\":{\"colorbar\":{\"outlinewidth\":0,\"ticks\":\"\"}},\"type\":\"scattercarpet\"}],\"scattergeo\":[{\"marker\":{\"colorbar\":{\"outlinewidth\":0,\"ticks\":\"\"}},\"type\":\"scattergeo\"}],\"scattergl\":[{\"marker\":{\"colorbar\":{\"outlinewidth\":0,\"ticks\":\"\"}},\"type\":\"scattergl\"}],\"scattermapbox\":[{\"marker\":{\"colorbar\":{\"outlinewidth\":0,\"ticks\":\"\"}},\"type\":\"scattermapbox\"}],\"scatterpolar\":[{\"marker\":{\"colorbar\":{\"outlinewidth\":0,\"ticks\":\"\"}},\"type\":\"scatterpolar\"}],\"scatterpolargl\":[{\"marker\":{\"colorbar\":{\"outlinewidth\":0,\"ticks\":\"\"}},\"type\":\"scatterpolargl\"}],\"scatterternary\":[{\"marker\":{\"colorbar\":{\"outlinewidth\":0,\"ticks\":\"\"}},\"type\":\"scatterternary\"}],\"surface\":[{\"colorbar\":{\"outlinewidth\":0,\"ticks\":\"\"},\"colorscale\":[[0.0,\"#0d0887\"],[0.1111111111111111,\"#46039f\"],[0.2222222222222222,\"#7201a8\"],[0.3333333333333333,\"#9c179e\"],[0.4444444444444444,\"#bd3786\"],[0.5555555555555556,\"#d8576b\"],[0.6666666666666666,\"#ed7953\"],[0.7777777777777778,\"#fb9f3a\"],[0.8888888888888888,\"#fdca26\"],[1.0,\"#f0f921\"]],\"type\":\"surface\"}],\"table\":[{\"cells\":{\"fill\":{\"color\":\"#EBF0F8\"},\"line\":{\"color\":\"white\"}},\"header\":{\"fill\":{\"color\":\"#C8D4E3\"},\"line\":{\"color\":\"white\"}},\"type\":\"table\"}]},\"layout\":{\"annotationdefaults\":{\"arrowcolor\":\"#2a3f5f\",\"arrowhead\":0,\"arrowwidth\":1},\"autotypenumbers\":\"strict\",\"coloraxis\":{\"colorbar\":{\"outlinewidth\":0,\"ticks\":\"\"}},\"colorscale\":{\"diverging\":[[0,\"#8e0152\"],[0.1,\"#c51b7d\"],[0.2,\"#de77ae\"],[0.3,\"#f1b6da\"],[0.4,\"#fde0ef\"],[0.5,\"#f7f7f7\"],[0.6,\"#e6f5d0\"],[0.7,\"#b8e186\"],[0.8,\"#7fbc41\"],[0.9,\"#4d9221\"],[1,\"#276419\"]],\"sequential\":[[0.0,\"#0d0887\"],[0.1111111111111111,\"#46039f\"],[0.2222222222222222,\"#7201a8\"],[0.3333333333333333,\"#9c179e\"],[0.4444444444444444,\"#bd3786\"],[0.5555555555555556,\"#d8576b\"],[0.6666666666666666,\"#ed7953\"],[0.7777777777777778,\"#fb9f3a\"],[0.8888888888888888,\"#fdca26\"],[1.0,\"#f0f921\"]],\"sequentialminus\":[[0.0,\"#0d0887\"],[0.1111111111111111,\"#46039f\"],[0.2222222222222222,\"#7201a8\"],[0.3333333333333333,\"#9c179e\"],[0.4444444444444444,\"#bd3786\"],[0.5555555555555556,\"#d8576b\"],[0.6666666666666666,\"#ed7953\"],[0.7777777777777778,\"#fb9f3a\"],[0.8888888888888888,\"#fdca26\"],[1.0,\"#f0f921\"]]},\"colorway\":[\"#636efa\",\"#EF553B\",\"#00cc96\",\"#ab63fa\",\"#FFA15A\",\"#19d3f3\",\"#FF6692\",\"#B6E880\",\"#FF97FF\",\"#FECB52\"],\"font\":{\"color\":\"#2a3f5f\"},\"geo\":{\"bgcolor\":\"white\",\"lakecolor\":\"white\",\"landcolor\":\"white\",\"showlakes\":true,\"showland\":true,\"subunitcolor\":\"#C8D4E3\"},\"hoverlabel\":{\"align\":\"left\"},\"hovermode\":\"closest\",\"mapbox\":{\"style\":\"light\"},\"paper_bgcolor\":\"white\",\"plot_bgcolor\":\"white\",\"polar\":{\"angularaxis\":{\"gridcolor\":\"#EBF0F8\",\"linecolor\":\"#EBF0F8\",\"ticks\":\"\"},\"bgcolor\":\"white\",\"radialaxis\":{\"gridcolor\":\"#EBF0F8\",\"linecolor\":\"#EBF0F8\",\"ticks\":\"\"}},\"scene\":{\"xaxis\":{\"backgroundcolor\":\"white\",\"gridcolor\":\"#DFE8F3\",\"gridwidth\":2,\"linecolor\":\"#EBF0F8\",\"showbackground\":true,\"ticks\":\"\",\"zerolinecolor\":\"#EBF0F8\"},\"yaxis\":{\"backgroundcolor\":\"white\",\"gridcolor\":\"#DFE8F3\",\"gridwidth\":2,\"linecolor\":\"#EBF0F8\",\"showbackground\":true,\"ticks\":\"\",\"zerolinecolor\":\"#EBF0F8\"},\"zaxis\":{\"backgroundcolor\":\"white\",\"gridcolor\":\"#DFE8F3\",\"gridwidth\":2,\"linecolor\":\"#EBF0F8\",\"showbackground\":true,\"ticks\":\"\",\"zerolinecolor\":\"#EBF0F8\"}},\"shapedefaults\":{\"line\":{\"color\":\"#2a3f5f\"}},\"ternary\":{\"aaxis\":{\"gridcolor\":\"#DFE8F3\",\"linecolor\":\"#A2B1C6\",\"ticks\":\"\"},\"baxis\":{\"gridcolor\":\"#DFE8F3\",\"linecolor\":\"#A2B1C6\",\"ticks\":\"\"},\"bgcolor\":\"white\",\"caxis\":{\"gridcolor\":\"#DFE8F3\",\"linecolor\":\"#A2B1C6\",\"ticks\":\"\"}},\"title\":{\"x\":0.05},\"xaxis\":{\"automargin\":true,\"gridcolor\":\"#EBF0F8\",\"linecolor\":\"#EBF0F8\",\"ticks\":\"\",\"title\":{\"standoff\":15},\"zerolinecolor\":\"#EBF0F8\",\"zerolinewidth\":2},\"yaxis\":{\"automargin\":true,\"gridcolor\":\"#EBF0F8\",\"linecolor\":\"#EBF0F8\",\"ticks\":\"\",\"title\":{\"standoff\":15},\"zerolinecolor\":\"#EBF0F8\",\"zerolinewidth\":2}}},\"title\":{\"text\":\"\\n<b>Summary by category</b>\\n<br>2020-01-01 to 2020-12-31\\n<br>income = 22,002&#36; \\u00b7\\nexpense = 10,169&#36; \\u00b7\\nbalance = 11,833&#36; \\u00b7\\nsavings pc = 53.8%\\n\"},\"uniformtext\":{\"minsize\":8,\"mode\":\"hide\"},\"xaxis\":{\"title\":{\"text\":\"\"}},\"yaxis\":{\"separatethousands\":true,\"ticksuffix\":\"$\",\"title\":{\"text\":\"value\"}}},                        {\"responsive\": true}                    ).then(function(){\n",
       "                            \n",
       "var gd = document.getElementById('01165e28-f518-4be2-8503-fce684711e75');\n",
       "var x = new MutationObserver(function (mutations, observer) {{\n",
       "        var display = window.getComputedStyle(gd).display;\n",
       "        if (!display || display === 'none') {{\n",
       "            console.log([gd, 'removed!']);\n",
       "            Plotly.purge(gd);\n",
       "            observer.disconnect();\n",
       "        }}\n",
       "}});\n",
       "\n",
       "// Listen for the removal of the full notebook cells\n",
       "var notebookContainer = gd.closest('#notebook-container');\n",
       "if (notebookContainer) {{\n",
       "    x.observe(notebookContainer, {childList: true});\n",
       "}}\n",
       "\n",
       "// Listen for the clearing of the current output cell\n",
       "var outputEl = gd.closest('.output');\n",
       "if (outputEl) {{\n",
       "    x.observe(outputEl, {childList: true});\n",
       "}}\n",
       "\n",
       "                        })                };                });            </script>        </div>"
      ]
     },
     "metadata": {},
     "output_type": "display_data"
    },
    {
     "data": {
      "application/vnd.plotly.v1+json": {
       "config": {
        "plotlyServerURL": "https://plot.ly"
       },
       "data": [
        {
         "hovertemplate": "<b>%{meta}</b><br>%{y:,.0f}$<br>%{x}<extra></extra>",
         "meta": "food",
         "name": "food",
         "text": [
          "0%",
          "28%",
          "0%",
          "21%",
          "0%",
          "10%",
          "0%",
          "32%",
          "0%",
          "29%",
          "0%",
          "48%",
          "0%",
          "11%",
          "0%",
          "12%",
          "0%",
          "22%",
          "0%",
          "16%",
          "0%",
          "9%",
          "0%",
          "14%"
         ],
         "textposition": "inside",
         "type": "bar",
         "x": [
          [
           "2020-01-01",
           "2020-01-01",
           "2020-02-01",
           "2020-02-01",
           "2020-03-01",
           "2020-03-01",
           "2020-04-01",
           "2020-04-01",
           "2020-05-01",
           "2020-05-01",
           "2020-06-01",
           "2020-06-01",
           "2020-07-01",
           "2020-07-01",
           "2020-08-01",
           "2020-08-01",
           "2020-09-01",
           "2020-09-01",
           "2020-10-01",
           "2020-10-01",
           "2020-11-01",
           "2020-11-01",
           "2020-12-01",
           "2020-12-01"
          ],
          [
           "income",
           "expense",
           "income",
           "expense",
           "income",
           "expense",
           "income",
           "expense",
           "income",
           "expense",
           "income",
           "expense",
           "income",
           "expense",
           "income",
           "expense",
           "income",
           "expense",
           "income",
           "expense",
           "income",
           "expense",
           "income",
           "expense"
          ]
         ],
         "y": [
          0,
          286,
          0,
          157,
          0,
          80,
          0,
          300,
          0,
          259,
          0,
          311,
          0,
          113,
          0,
          125,
          0,
          135,
          0,
          147,
          0,
          72,
          0,
          120
         ]
        },
        {
         "hovertemplate": "<b>%{meta}</b><br>%{y:,.0f}$<br>%{x}<extra></extra>",
         "meta": "healthcare",
         "name": "healthcare",
         "text": [
          "0%",
          "16%",
          "0%",
          "21%",
          "0%",
          "12%",
          "0%",
          "23%",
          "0%",
          "4%",
          "0%",
          "3%",
          "0%",
          "25%",
          "0%",
          "17%",
          "0%",
          "9%",
          "0%",
          "20%",
          "0%",
          "7%",
          "0%",
          "23%"
         ],
         "textposition": "inside",
         "type": "bar",
         "x": [
          [
           "2020-01-01",
           "2020-01-01",
           "2020-02-01",
           "2020-02-01",
           "2020-03-01",
           "2020-03-01",
           "2020-04-01",
           "2020-04-01",
           "2020-05-01",
           "2020-05-01",
           "2020-06-01",
           "2020-06-01",
           "2020-07-01",
           "2020-07-01",
           "2020-08-01",
           "2020-08-01",
           "2020-09-01",
           "2020-09-01",
           "2020-10-01",
           "2020-10-01",
           "2020-11-01",
           "2020-11-01",
           "2020-12-01",
           "2020-12-01"
          ],
          [
           "income",
           "expense",
           "income",
           "expense",
           "income",
           "expense",
           "income",
           "expense",
           "income",
           "expense",
           "income",
           "expense",
           "income",
           "expense",
           "income",
           "expense",
           "income",
           "expense",
           "income",
           "expense",
           "income",
           "expense",
           "income",
           "expense"
          ]
         ],
         "y": [
          0,
          170,
          0,
          152,
          0,
          90,
          0,
          218,
          0,
          35,
          0,
          17,
          0,
          252,
          0,
          175,
          0,
          59,
          0,
          180,
          0,
          55,
          0,
          200
         ]
        },
        {
         "hovertemplate": "<b>%{meta}</b><br>%{y:,.0f}$<br>%{x}<extra></extra>",
         "meta": "investing",
         "name": "investing",
         "text": [
          "16%",
          "0%",
          "30%",
          "0%",
          "21%",
          "0%",
          "27%",
          "0%",
          "36%",
          "0%",
          "34%",
          "0%",
          "21%",
          "0%",
          "24%",
          "0%",
          "18%",
          "0%",
          "28%",
          "0%",
          "30%",
          "0%",
          "18%",
          "0%"
         ],
         "textposition": "inside",
         "type": "bar",
         "x": [
          [
           "2020-01-01",
           "2020-01-01",
           "2020-02-01",
           "2020-02-01",
           "2020-03-01",
           "2020-03-01",
           "2020-04-01",
           "2020-04-01",
           "2020-05-01",
           "2020-05-01",
           "2020-06-01",
           "2020-06-01",
           "2020-07-01",
           "2020-07-01",
           "2020-08-01",
           "2020-08-01",
           "2020-09-01",
           "2020-09-01",
           "2020-10-01",
           "2020-10-01",
           "2020-11-01",
           "2020-11-01",
           "2020-12-01",
           "2020-12-01"
          ],
          [
           "income",
           "expense",
           "income",
           "expense",
           "income",
           "expense",
           "income",
           "expense",
           "income",
           "expense",
           "income",
           "expense",
           "income",
           "expense",
           "income",
           "expense",
           "income",
           "expense",
           "income",
           "expense",
           "income",
           "expense",
           "income",
           "expense"
          ]
         ],
         "y": [
          232,
          0,
          496,
          0,
          355,
          0,
          542,
          0,
          595,
          0,
          557,
          0,
          402,
          0,
          470,
          0,
          426,
          0,
          460,
          0,
          538,
          0,
          419,
          0
         ]
        },
        {
         "hovertemplate": "<b>%{meta}</b><br>%{y:,.0f}$<br>%{x}<extra></extra>",
         "meta": "programming",
         "name": "programming",
         "text": [
          "54%",
          "0%",
          "43%",
          "0%",
          "68%",
          "0%",
          "52%",
          "0%",
          "41%",
          "0%",
          "37%",
          "0%",
          "57%",
          "0%",
          "50%",
          "0%",
          "58%",
          "0%",
          "46%",
          "0%",
          "53%",
          "0%",
          "42%",
          "0%"
         ],
         "textposition": "inside",
         "type": "bar",
         "x": [
          [
           "2020-01-01",
           "2020-01-01",
           "2020-02-01",
           "2020-02-01",
           "2020-03-01",
           "2020-03-01",
           "2020-04-01",
           "2020-04-01",
           "2020-05-01",
           "2020-05-01",
           "2020-06-01",
           "2020-06-01",
           "2020-07-01",
           "2020-07-01",
           "2020-08-01",
           "2020-08-01",
           "2020-09-01",
           "2020-09-01",
           "2020-10-01",
           "2020-10-01",
           "2020-11-01",
           "2020-11-01",
           "2020-12-01",
           "2020-12-01"
          ],
          [
           "income",
           "expense",
           "income",
           "expense",
           "income",
           "expense",
           "income",
           "expense",
           "income",
           "expense",
           "income",
           "expense",
           "income",
           "expense",
           "income",
           "expense",
           "income",
           "expense",
           "income",
           "expense",
           "income",
           "expense",
           "income",
           "expense"
          ]
         ],
         "y": [
          777,
          0,
          702,
          0,
          1149,
          0,
          1031,
          0,
          678,
          0,
          604,
          0,
          1094,
          0,
          993,
          0,
          1326,
          0,
          752,
          0,
          944,
          0,
          972,
          0
         ]
        },
        {
         "hovertemplate": "<b>%{meta}</b><br>%{y:,.0f}$<br>%{x}<extra></extra>",
         "meta": "reiki",
         "name": "reiki",
         "text": [
          "30%",
          "0%",
          "27%",
          "0%",
          "11%",
          "0%",
          "21%",
          "0%",
          "22%",
          "0%",
          "29%",
          "0%",
          "23%",
          "0%",
          "26%",
          "0%",
          "24%",
          "0%",
          "26%",
          "0%",
          "18%",
          "0%",
          "39%",
          "0%"
         ],
         "textposition": "inside",
         "type": "bar",
         "x": [
          [
           "2020-01-01",
           "2020-01-01",
           "2020-02-01",
           "2020-02-01",
           "2020-03-01",
           "2020-03-01",
           "2020-04-01",
           "2020-04-01",
           "2020-05-01",
           "2020-05-01",
           "2020-06-01",
           "2020-06-01",
           "2020-07-01",
           "2020-07-01",
           "2020-08-01",
           "2020-08-01",
           "2020-09-01",
           "2020-09-01",
           "2020-10-01",
           "2020-10-01",
           "2020-11-01",
           "2020-11-01",
           "2020-12-01",
           "2020-12-01"
          ],
          [
           "income",
           "expense",
           "income",
           "expense",
           "income",
           "expense",
           "income",
           "expense",
           "income",
           "expense",
           "income",
           "expense",
           "income",
           "expense",
           "income",
           "expense",
           "income",
           "expense",
           "income",
           "expense",
           "income",
           "expense",
           "income",
           "expense"
          ]
         ],
         "y": [
          432,
          0,
          442,
          0,
          195,
          0,
          429,
          0,
          369,
          0,
          480,
          0,
          439,
          0,
          522,
          0,
          553,
          0,
          416,
          0,
          315,
          0,
          896,
          0
         ]
        },
        {
         "hovertemplate": "<b>%{meta}</b><br>%{y:,.0f}$<br>%{x}<extra></extra>",
         "meta": "shelter",
         "name": "shelter",
         "text": [
          "0%",
          "10%",
          "0%",
          "21%",
          "0%",
          "58%",
          "0%",
          "34%",
          "0%",
          "33%",
          "0%",
          "36%",
          "0%",
          "17%",
          "0%",
          "42%",
          "0%",
          "39%",
          "0%",
          "25%",
          "0%",
          "45%",
          "0%",
          "33%"
         ],
         "textposition": "inside",
         "type": "bar",
         "x": [
          [
           "2020-01-01",
           "2020-01-01",
           "2020-02-01",
           "2020-02-01",
           "2020-03-01",
           "2020-03-01",
           "2020-04-01",
           "2020-04-01",
           "2020-05-01",
           "2020-05-01",
           "2020-06-01",
           "2020-06-01",
           "2020-07-01",
           "2020-07-01",
           "2020-08-01",
           "2020-08-01",
           "2020-09-01",
           "2020-09-01",
           "2020-10-01",
           "2020-10-01",
           "2020-11-01",
           "2020-11-01",
           "2020-12-01",
           "2020-12-01"
          ],
          [
           "income",
           "expense",
           "income",
           "expense",
           "income",
           "expense",
           "income",
           "expense",
           "income",
           "expense",
           "income",
           "expense",
           "income",
           "expense",
           "income",
           "expense",
           "income",
           "expense",
           "income",
           "expense",
           "income",
           "expense",
           "income",
           "expense"
          ]
         ],
         "y": [
          0,
          99,
          0,
          152,
          0,
          445,
          0,
          322,
          0,
          292,
          0,
          238,
          0,
          170,
          0,
          428,
          0,
          242,
          0,
          223,
          0,
          342,
          0,
          287
         ]
        },
        {
         "hovertemplate": "<b>%{meta}</b><br>%{y:,.0f}$<br>%{x}<extra></extra>",
         "meta": "soil testing",
         "name": "soil testing",
         "text": [
          "0%",
          "24%",
          "0%",
          "23%",
          "0%",
          "16%",
          "0%",
          "10%",
          "0%",
          "23%",
          "0%",
          "6%",
          "0%",
          "21%",
          "0%",
          "16%",
          "0%",
          "17%",
          "0%",
          "20%",
          "0%",
          "10%",
          "0%",
          "24%"
         ],
         "textposition": "inside",
         "type": "bar",
         "x": [
          [
           "2020-01-01",
           "2020-01-01",
           "2020-02-01",
           "2020-02-01",
           "2020-03-01",
           "2020-03-01",
           "2020-04-01",
           "2020-04-01",
           "2020-05-01",
           "2020-05-01",
           "2020-06-01",
           "2020-06-01",
           "2020-07-01",
           "2020-07-01",
           "2020-08-01",
           "2020-08-01",
           "2020-09-01",
           "2020-09-01",
           "2020-10-01",
           "2020-10-01",
           "2020-11-01",
           "2020-11-01",
           "2020-12-01",
           "2020-12-01"
          ],
          [
           "income",
           "expense",
           "income",
           "expense",
           "income",
           "expense",
           "income",
           "expense",
           "income",
           "expense",
           "income",
           "expense",
           "income",
           "expense",
           "income",
           "expense",
           "income",
           "expense",
           "income",
           "expense",
           "income",
           "expense",
           "income",
           "expense"
          ]
         ],
         "y": [
          0,
          253,
          0,
          167,
          0,
          121,
          0,
          92,
          0,
          200,
          0,
          42,
          0,
          205,
          0,
          163,
          0,
          106,
          0,
          179,
          0,
          77,
          0,
          207
         ]
        },
        {
         "hovertemplate": "<b>%{meta}</b><br>%{y:,.0f}$<br>%{x}<extra></extra>",
         "meta": "transport",
         "name": "transport",
         "text": [
          "0%",
          "22%",
          "0%",
          "14%",
          "0%",
          "4%",
          "0%",
          "1%",
          "0%",
          "11%",
          "0%",
          "7%",
          "0%",
          "26%",
          "0%",
          "12%",
          "0%",
          "14%",
          "0%",
          "18%",
          "0%",
          "29%",
          "0%",
          "7%"
         ],
         "textposition": "inside",
         "type": "bar",
         "x": [
          [
           "2020-01-01",
           "2020-01-01",
           "2020-02-01",
           "2020-02-01",
           "2020-03-01",
           "2020-03-01",
           "2020-04-01",
           "2020-04-01",
           "2020-05-01",
           "2020-05-01",
           "2020-06-01",
           "2020-06-01",
           "2020-07-01",
           "2020-07-01",
           "2020-08-01",
           "2020-08-01",
           "2020-09-01",
           "2020-09-01",
           "2020-10-01",
           "2020-10-01",
           "2020-11-01",
           "2020-11-01",
           "2020-12-01",
           "2020-12-01"
          ],
          [
           "income",
           "expense",
           "income",
           "expense",
           "income",
           "expense",
           "income",
           "expense",
           "income",
           "expense",
           "income",
           "expense",
           "income",
           "expense",
           "income",
           "expense",
           "income",
           "expense",
           "income",
           "expense",
           "income",
           "expense",
           "income",
           "expense"
          ]
         ],
         "y": [
          0,
          227,
          0,
          104,
          0,
          27,
          0,
          9,
          0,
          93,
          0,
          46,
          0,
          256,
          0,
          121,
          0,
          86,
          0,
          165,
          0,
          218,
          0,
          57
         ]
        },
        {
         "connectgaps": true,
         "hovertemplate": "<b>%{meta}</b><br>%{y:,.0f}$<br>%{x}<extra></extra>",
         "line": {
          "color": "black"
         },
         "meta": "cumulative balance",
         "name": "cumulative balance",
         "type": "scatter",
         "x": [
          [
           "2020-01-01",
           "2020-01-01",
           "2020-02-01",
           "2020-02-01",
           "2020-03-01",
           "2020-03-01",
           "2020-04-01",
           "2020-04-01",
           "2020-05-01",
           "2020-05-01",
           "2020-06-01",
           "2020-06-01",
           "2020-07-01",
           "2020-07-01",
           "2020-08-01",
           "2020-08-01",
           "2020-09-01",
           "2020-09-01",
           "2020-10-01",
           "2020-10-01",
           "2020-11-01",
           "2020-11-01",
           "2020-12-01",
           "2020-12-01"
          ],
          [
           "income",
           "expense",
           "income",
           "expense",
           "income",
           "expense",
           "income",
           "expense",
           "income",
           "expense",
           "income",
           "expense",
           "income",
           "expense",
           "income",
           "expense",
           "income",
           "expense",
           "income",
           "expense",
           "income",
           "expense",
           "income",
           "expense"
          ]
         ],
         "y": [
          null,
          406,
          null,
          1314,
          null,
          2250,
          null,
          3311,
          null,
          4074,
          null,
          5061,
          null,
          6000,
          null,
          6973,
          null,
          8650,
          null,
          9384,
          null,
          10417,
          null,
          11833
         ]
        }
       ],
       "layout": {
        "barmode": "stack",
        "legend": {
         "title": {
          "text": ""
         },
         "traceorder": "normal"
        },
        "template": {
         "data": {
          "bar": [
           {
            "error_x": {
             "color": "#2a3f5f"
            },
            "error_y": {
             "color": "#2a3f5f"
            },
            "marker": {
             "line": {
              "color": "white",
              "width": 0.5
             },
             "pattern": {
              "fillmode": "overlay",
              "size": 10,
              "solidity": 0.2
             }
            },
            "type": "bar"
           }
          ],
          "barpolar": [
           {
            "marker": {
             "line": {
              "color": "white",
              "width": 0.5
             },
             "pattern": {
              "fillmode": "overlay",
              "size": 10,
              "solidity": 0.2
             }
            },
            "type": "barpolar"
           }
          ],
          "carpet": [
           {
            "aaxis": {
             "endlinecolor": "#2a3f5f",
             "gridcolor": "#C8D4E3",
             "linecolor": "#C8D4E3",
             "minorgridcolor": "#C8D4E3",
             "startlinecolor": "#2a3f5f"
            },
            "baxis": {
             "endlinecolor": "#2a3f5f",
             "gridcolor": "#C8D4E3",
             "linecolor": "#C8D4E3",
             "minorgridcolor": "#C8D4E3",
             "startlinecolor": "#2a3f5f"
            },
            "type": "carpet"
           }
          ],
          "choropleth": [
           {
            "colorbar": {
             "outlinewidth": 0,
             "ticks": ""
            },
            "type": "choropleth"
           }
          ],
          "contour": [
           {
            "colorbar": {
             "outlinewidth": 0,
             "ticks": ""
            },
            "colorscale": [
             [
              0,
              "#0d0887"
             ],
             [
              0.1111111111111111,
              "#46039f"
             ],
             [
              0.2222222222222222,
              "#7201a8"
             ],
             [
              0.3333333333333333,
              "#9c179e"
             ],
             [
              0.4444444444444444,
              "#bd3786"
             ],
             [
              0.5555555555555556,
              "#d8576b"
             ],
             [
              0.6666666666666666,
              "#ed7953"
             ],
             [
              0.7777777777777778,
              "#fb9f3a"
             ],
             [
              0.8888888888888888,
              "#fdca26"
             ],
             [
              1,
              "#f0f921"
             ]
            ],
            "type": "contour"
           }
          ],
          "contourcarpet": [
           {
            "colorbar": {
             "outlinewidth": 0,
             "ticks": ""
            },
            "type": "contourcarpet"
           }
          ],
          "heatmap": [
           {
            "colorbar": {
             "outlinewidth": 0,
             "ticks": ""
            },
            "colorscale": [
             [
              0,
              "#0d0887"
             ],
             [
              0.1111111111111111,
              "#46039f"
             ],
             [
              0.2222222222222222,
              "#7201a8"
             ],
             [
              0.3333333333333333,
              "#9c179e"
             ],
             [
              0.4444444444444444,
              "#bd3786"
             ],
             [
              0.5555555555555556,
              "#d8576b"
             ],
             [
              0.6666666666666666,
              "#ed7953"
             ],
             [
              0.7777777777777778,
              "#fb9f3a"
             ],
             [
              0.8888888888888888,
              "#fdca26"
             ],
             [
              1,
              "#f0f921"
             ]
            ],
            "type": "heatmap"
           }
          ],
          "heatmapgl": [
           {
            "colorbar": {
             "outlinewidth": 0,
             "ticks": ""
            },
            "colorscale": [
             [
              0,
              "#0d0887"
             ],
             [
              0.1111111111111111,
              "#46039f"
             ],
             [
              0.2222222222222222,
              "#7201a8"
             ],
             [
              0.3333333333333333,
              "#9c179e"
             ],
             [
              0.4444444444444444,
              "#bd3786"
             ],
             [
              0.5555555555555556,
              "#d8576b"
             ],
             [
              0.6666666666666666,
              "#ed7953"
             ],
             [
              0.7777777777777778,
              "#fb9f3a"
             ],
             [
              0.8888888888888888,
              "#fdca26"
             ],
             [
              1,
              "#f0f921"
             ]
            ],
            "type": "heatmapgl"
           }
          ],
          "histogram": [
           {
            "marker": {
             "pattern": {
              "fillmode": "overlay",
              "size": 10,
              "solidity": 0.2
             }
            },
            "type": "histogram"
           }
          ],
          "histogram2d": [
           {
            "colorbar": {
             "outlinewidth": 0,
             "ticks": ""
            },
            "colorscale": [
             [
              0,
              "#0d0887"
             ],
             [
              0.1111111111111111,
              "#46039f"
             ],
             [
              0.2222222222222222,
              "#7201a8"
             ],
             [
              0.3333333333333333,
              "#9c179e"
             ],
             [
              0.4444444444444444,
              "#bd3786"
             ],
             [
              0.5555555555555556,
              "#d8576b"
             ],
             [
              0.6666666666666666,
              "#ed7953"
             ],
             [
              0.7777777777777778,
              "#fb9f3a"
             ],
             [
              0.8888888888888888,
              "#fdca26"
             ],
             [
              1,
              "#f0f921"
             ]
            ],
            "type": "histogram2d"
           }
          ],
          "histogram2dcontour": [
           {
            "colorbar": {
             "outlinewidth": 0,
             "ticks": ""
            },
            "colorscale": [
             [
              0,
              "#0d0887"
             ],
             [
              0.1111111111111111,
              "#46039f"
             ],
             [
              0.2222222222222222,
              "#7201a8"
             ],
             [
              0.3333333333333333,
              "#9c179e"
             ],
             [
              0.4444444444444444,
              "#bd3786"
             ],
             [
              0.5555555555555556,
              "#d8576b"
             ],
             [
              0.6666666666666666,
              "#ed7953"
             ],
             [
              0.7777777777777778,
              "#fb9f3a"
             ],
             [
              0.8888888888888888,
              "#fdca26"
             ],
             [
              1,
              "#f0f921"
             ]
            ],
            "type": "histogram2dcontour"
           }
          ],
          "mesh3d": [
           {
            "colorbar": {
             "outlinewidth": 0,
             "ticks": ""
            },
            "type": "mesh3d"
           }
          ],
          "parcoords": [
           {
            "line": {
             "colorbar": {
              "outlinewidth": 0,
              "ticks": ""
             }
            },
            "type": "parcoords"
           }
          ],
          "pie": [
           {
            "automargin": true,
            "type": "pie"
           }
          ],
          "scatter": [
           {
            "marker": {
             "colorbar": {
              "outlinewidth": 0,
              "ticks": ""
             }
            },
            "type": "scatter"
           }
          ],
          "scatter3d": [
           {
            "line": {
             "colorbar": {
              "outlinewidth": 0,
              "ticks": ""
             }
            },
            "marker": {
             "colorbar": {
              "outlinewidth": 0,
              "ticks": ""
             }
            },
            "type": "scatter3d"
           }
          ],
          "scattercarpet": [
           {
            "marker": {
             "colorbar": {
              "outlinewidth": 0,
              "ticks": ""
             }
            },
            "type": "scattercarpet"
           }
          ],
          "scattergeo": [
           {
            "marker": {
             "colorbar": {
              "outlinewidth": 0,
              "ticks": ""
             }
            },
            "type": "scattergeo"
           }
          ],
          "scattergl": [
           {
            "marker": {
             "colorbar": {
              "outlinewidth": 0,
              "ticks": ""
             }
            },
            "type": "scattergl"
           }
          ],
          "scattermapbox": [
           {
            "marker": {
             "colorbar": {
              "outlinewidth": 0,
              "ticks": ""
             }
            },
            "type": "scattermapbox"
           }
          ],
          "scatterpolar": [
           {
            "marker": {
             "colorbar": {
              "outlinewidth": 0,
              "ticks": ""
             }
            },
            "type": "scatterpolar"
           }
          ],
          "scatterpolargl": [
           {
            "marker": {
             "colorbar": {
              "outlinewidth": 0,
              "ticks": ""
             }
            },
            "type": "scatterpolargl"
           }
          ],
          "scatterternary": [
           {
            "marker": {
             "colorbar": {
              "outlinewidth": 0,
              "ticks": ""
             }
            },
            "type": "scatterternary"
           }
          ],
          "surface": [
           {
            "colorbar": {
             "outlinewidth": 0,
             "ticks": ""
            },
            "colorscale": [
             [
              0,
              "#0d0887"
             ],
             [
              0.1111111111111111,
              "#46039f"
             ],
             [
              0.2222222222222222,
              "#7201a8"
             ],
             [
              0.3333333333333333,
              "#9c179e"
             ],
             [
              0.4444444444444444,
              "#bd3786"
             ],
             [
              0.5555555555555556,
              "#d8576b"
             ],
             [
              0.6666666666666666,
              "#ed7953"
             ],
             [
              0.7777777777777778,
              "#fb9f3a"
             ],
             [
              0.8888888888888888,
              "#fdca26"
             ],
             [
              1,
              "#f0f921"
             ]
            ],
            "type": "surface"
           }
          ],
          "table": [
           {
            "cells": {
             "fill": {
              "color": "#EBF0F8"
             },
             "line": {
              "color": "white"
             }
            },
            "header": {
             "fill": {
              "color": "#C8D4E3"
             },
             "line": {
              "color": "white"
             }
            },
            "type": "table"
           }
          ]
         },
         "layout": {
          "annotationdefaults": {
           "arrowcolor": "#2a3f5f",
           "arrowhead": 0,
           "arrowwidth": 1
          },
          "autotypenumbers": "strict",
          "coloraxis": {
           "colorbar": {
            "outlinewidth": 0,
            "ticks": ""
           }
          },
          "colorscale": {
           "diverging": [
            [
             0,
             "#8e0152"
            ],
            [
             0.1,
             "#c51b7d"
            ],
            [
             0.2,
             "#de77ae"
            ],
            [
             0.3,
             "#f1b6da"
            ],
            [
             0.4,
             "#fde0ef"
            ],
            [
             0.5,
             "#f7f7f7"
            ],
            [
             0.6,
             "#e6f5d0"
            ],
            [
             0.7,
             "#b8e186"
            ],
            [
             0.8,
             "#7fbc41"
            ],
            [
             0.9,
             "#4d9221"
            ],
            [
             1,
             "#276419"
            ]
           ],
           "sequential": [
            [
             0,
             "#0d0887"
            ],
            [
             0.1111111111111111,
             "#46039f"
            ],
            [
             0.2222222222222222,
             "#7201a8"
            ],
            [
             0.3333333333333333,
             "#9c179e"
            ],
            [
             0.4444444444444444,
             "#bd3786"
            ],
            [
             0.5555555555555556,
             "#d8576b"
            ],
            [
             0.6666666666666666,
             "#ed7953"
            ],
            [
             0.7777777777777778,
             "#fb9f3a"
            ],
            [
             0.8888888888888888,
             "#fdca26"
            ],
            [
             1,
             "#f0f921"
            ]
           ],
           "sequentialminus": [
            [
             0,
             "#0d0887"
            ],
            [
             0.1111111111111111,
             "#46039f"
            ],
            [
             0.2222222222222222,
             "#7201a8"
            ],
            [
             0.3333333333333333,
             "#9c179e"
            ],
            [
             0.4444444444444444,
             "#bd3786"
            ],
            [
             0.5555555555555556,
             "#d8576b"
            ],
            [
             0.6666666666666666,
             "#ed7953"
            ],
            [
             0.7777777777777778,
             "#fb9f3a"
            ],
            [
             0.8888888888888888,
             "#fdca26"
            ],
            [
             1,
             "#f0f921"
            ]
           ]
          },
          "colorway": [
           "#636efa",
           "#EF553B",
           "#00cc96",
           "#ab63fa",
           "#FFA15A",
           "#19d3f3",
           "#FF6692",
           "#B6E880",
           "#FF97FF",
           "#FECB52"
          ],
          "font": {
           "color": "#2a3f5f"
          },
          "geo": {
           "bgcolor": "white",
           "lakecolor": "white",
           "landcolor": "white",
           "showlakes": true,
           "showland": true,
           "subunitcolor": "#C8D4E3"
          },
          "hoverlabel": {
           "align": "left"
          },
          "hovermode": "closest",
          "mapbox": {
           "style": "light"
          },
          "paper_bgcolor": "white",
          "plot_bgcolor": "white",
          "polar": {
           "angularaxis": {
            "gridcolor": "#EBF0F8",
            "linecolor": "#EBF0F8",
            "ticks": ""
           },
           "bgcolor": "white",
           "radialaxis": {
            "gridcolor": "#EBF0F8",
            "linecolor": "#EBF0F8",
            "ticks": ""
           }
          },
          "scene": {
           "xaxis": {
            "backgroundcolor": "white",
            "gridcolor": "#DFE8F3",
            "gridwidth": 2,
            "linecolor": "#EBF0F8",
            "showbackground": true,
            "ticks": "",
            "zerolinecolor": "#EBF0F8"
           },
           "yaxis": {
            "backgroundcolor": "white",
            "gridcolor": "#DFE8F3",
            "gridwidth": 2,
            "linecolor": "#EBF0F8",
            "showbackground": true,
            "ticks": "",
            "zerolinecolor": "#EBF0F8"
           },
           "zaxis": {
            "backgroundcolor": "white",
            "gridcolor": "#DFE8F3",
            "gridwidth": 2,
            "linecolor": "#EBF0F8",
            "showbackground": true,
            "ticks": "",
            "zerolinecolor": "#EBF0F8"
           }
          },
          "shapedefaults": {
           "line": {
            "color": "#2a3f5f"
           }
          },
          "ternary": {
           "aaxis": {
            "gridcolor": "#DFE8F3",
            "linecolor": "#A2B1C6",
            "ticks": ""
           },
           "baxis": {
            "gridcolor": "#DFE8F3",
            "linecolor": "#A2B1C6",
            "ticks": ""
           },
           "bgcolor": "white",
           "caxis": {
            "gridcolor": "#DFE8F3",
            "linecolor": "#A2B1C6",
            "ticks": ""
           }
          },
          "title": {
           "x": 0.05
          },
          "xaxis": {
           "automargin": true,
           "gridcolor": "#EBF0F8",
           "linecolor": "#EBF0F8",
           "ticks": "",
           "title": {
            "standoff": 15
           },
           "zerolinecolor": "#EBF0F8",
           "zerolinewidth": 2
          },
          "yaxis": {
           "automargin": true,
           "gridcolor": "#EBF0F8",
           "linecolor": "#EBF0F8",
           "ticks": "",
           "title": {
            "standoff": 15
           },
           "zerolinecolor": "#EBF0F8",
           "zerolinewidth": 2
          }
         }
        },
        "title": {
         "text": "\n<b>Summary by category and period</b>\n<br>2020-01-01 to 2020-12-31\n<br>income = 22,002&#36; ·\nexpense = 10,169&#36; ·\nbalance = 11,833&#36; ·\nsavings pc = 53.8%\n"
        },
        "uniformtext": {
         "minsize": 8,
         "mode": "hide"
        },
        "width": 1200,
        "xaxis": {
         "title": {
          "text": "period"
         }
        },
        "yaxis": {
         "separatethousands": true,
         "ticksuffix": "$",
         "title": {
          "text": "value"
         }
        }
       }
      },
      "text/html": [
       "<div>                            <div id=\"b1a5acdf-4764-4e65-a504-a606bcd729fb\" class=\"plotly-graph-div\" style=\"height:525px; width:1200px;\"></div>            <script type=\"text/javascript\">                require([\"plotly\"], function(Plotly) {                    window.PLOTLYENV=window.PLOTLYENV || {};                                    if (document.getElementById(\"b1a5acdf-4764-4e65-a504-a606bcd729fb\")) {                    Plotly.newPlot(                        \"b1a5acdf-4764-4e65-a504-a606bcd729fb\",                        [{\"hovertemplate\":\"<b>%{meta}</b><br>%{y:,.0f}$<br>%{x}<extra></extra>\",\"meta\":\"food\",\"name\":\"food\",\"text\":[\"0%\",\"28%\",\"0%\",\"21%\",\"0%\",\"10%\",\"0%\",\"32%\",\"0%\",\"29%\",\"0%\",\"48%\",\"0%\",\"11%\",\"0%\",\"12%\",\"0%\",\"22%\",\"0%\",\"16%\",\"0%\",\"9%\",\"0%\",\"14%\"],\"textposition\":\"inside\",\"type\":\"bar\",\"x\":[[\"2020-01-01\",\"2020-01-01\",\"2020-02-01\",\"2020-02-01\",\"2020-03-01\",\"2020-03-01\",\"2020-04-01\",\"2020-04-01\",\"2020-05-01\",\"2020-05-01\",\"2020-06-01\",\"2020-06-01\",\"2020-07-01\",\"2020-07-01\",\"2020-08-01\",\"2020-08-01\",\"2020-09-01\",\"2020-09-01\",\"2020-10-01\",\"2020-10-01\",\"2020-11-01\",\"2020-11-01\",\"2020-12-01\",\"2020-12-01\"],[\"income\",\"expense\",\"income\",\"expense\",\"income\",\"expense\",\"income\",\"expense\",\"income\",\"expense\",\"income\",\"expense\",\"income\",\"expense\",\"income\",\"expense\",\"income\",\"expense\",\"income\",\"expense\",\"income\",\"expense\",\"income\",\"expense\"]],\"y\":[0,286,0,157,0,80,0,300,0,259,0,311,0,113,0,125,0,135,0,147,0,72,0,120]},{\"hovertemplate\":\"<b>%{meta}</b><br>%{y:,.0f}$<br>%{x}<extra></extra>\",\"meta\":\"healthcare\",\"name\":\"healthcare\",\"text\":[\"0%\",\"16%\",\"0%\",\"21%\",\"0%\",\"12%\",\"0%\",\"23%\",\"0%\",\"4%\",\"0%\",\"3%\",\"0%\",\"25%\",\"0%\",\"17%\",\"0%\",\"9%\",\"0%\",\"20%\",\"0%\",\"7%\",\"0%\",\"23%\"],\"textposition\":\"inside\",\"type\":\"bar\",\"x\":[[\"2020-01-01\",\"2020-01-01\",\"2020-02-01\",\"2020-02-01\",\"2020-03-01\",\"2020-03-01\",\"2020-04-01\",\"2020-04-01\",\"2020-05-01\",\"2020-05-01\",\"2020-06-01\",\"2020-06-01\",\"2020-07-01\",\"2020-07-01\",\"2020-08-01\",\"2020-08-01\",\"2020-09-01\",\"2020-09-01\",\"2020-10-01\",\"2020-10-01\",\"2020-11-01\",\"2020-11-01\",\"2020-12-01\",\"2020-12-01\"],[\"income\",\"expense\",\"income\",\"expense\",\"income\",\"expense\",\"income\",\"expense\",\"income\",\"expense\",\"income\",\"expense\",\"income\",\"expense\",\"income\",\"expense\",\"income\",\"expense\",\"income\",\"expense\",\"income\",\"expense\",\"income\",\"expense\"]],\"y\":[0,170,0,152,0,90,0,218,0,35,0,17,0,252,0,175,0,59,0,180,0,55,0,200]},{\"hovertemplate\":\"<b>%{meta}</b><br>%{y:,.0f}$<br>%{x}<extra></extra>\",\"meta\":\"investing\",\"name\":\"investing\",\"text\":[\"16%\",\"0%\",\"30%\",\"0%\",\"21%\",\"0%\",\"27%\",\"0%\",\"36%\",\"0%\",\"34%\",\"0%\",\"21%\",\"0%\",\"24%\",\"0%\",\"18%\",\"0%\",\"28%\",\"0%\",\"30%\",\"0%\",\"18%\",\"0%\"],\"textposition\":\"inside\",\"type\":\"bar\",\"x\":[[\"2020-01-01\",\"2020-01-01\",\"2020-02-01\",\"2020-02-01\",\"2020-03-01\",\"2020-03-01\",\"2020-04-01\",\"2020-04-01\",\"2020-05-01\",\"2020-05-01\",\"2020-06-01\",\"2020-06-01\",\"2020-07-01\",\"2020-07-01\",\"2020-08-01\",\"2020-08-01\",\"2020-09-01\",\"2020-09-01\",\"2020-10-01\",\"2020-10-01\",\"2020-11-01\",\"2020-11-01\",\"2020-12-01\",\"2020-12-01\"],[\"income\",\"expense\",\"income\",\"expense\",\"income\",\"expense\",\"income\",\"expense\",\"income\",\"expense\",\"income\",\"expense\",\"income\",\"expense\",\"income\",\"expense\",\"income\",\"expense\",\"income\",\"expense\",\"income\",\"expense\",\"income\",\"expense\"]],\"y\":[232,0,496,0,355,0,542,0,595,0,557,0,402,0,470,0,426,0,460,0,538,0,419,0]},{\"hovertemplate\":\"<b>%{meta}</b><br>%{y:,.0f}$<br>%{x}<extra></extra>\",\"meta\":\"programming\",\"name\":\"programming\",\"text\":[\"54%\",\"0%\",\"43%\",\"0%\",\"68%\",\"0%\",\"52%\",\"0%\",\"41%\",\"0%\",\"37%\",\"0%\",\"57%\",\"0%\",\"50%\",\"0%\",\"58%\",\"0%\",\"46%\",\"0%\",\"53%\",\"0%\",\"42%\",\"0%\"],\"textposition\":\"inside\",\"type\":\"bar\",\"x\":[[\"2020-01-01\",\"2020-01-01\",\"2020-02-01\",\"2020-02-01\",\"2020-03-01\",\"2020-03-01\",\"2020-04-01\",\"2020-04-01\",\"2020-05-01\",\"2020-05-01\",\"2020-06-01\",\"2020-06-01\",\"2020-07-01\",\"2020-07-01\",\"2020-08-01\",\"2020-08-01\",\"2020-09-01\",\"2020-09-01\",\"2020-10-01\",\"2020-10-01\",\"2020-11-01\",\"2020-11-01\",\"2020-12-01\",\"2020-12-01\"],[\"income\",\"expense\",\"income\",\"expense\",\"income\",\"expense\",\"income\",\"expense\",\"income\",\"expense\",\"income\",\"expense\",\"income\",\"expense\",\"income\",\"expense\",\"income\",\"expense\",\"income\",\"expense\",\"income\",\"expense\",\"income\",\"expense\"]],\"y\":[777,0,702,0,1149,0,1031,0,678,0,604,0,1094,0,993,0,1326,0,752,0,944,0,972,0]},{\"hovertemplate\":\"<b>%{meta}</b><br>%{y:,.0f}$<br>%{x}<extra></extra>\",\"meta\":\"reiki\",\"name\":\"reiki\",\"text\":[\"30%\",\"0%\",\"27%\",\"0%\",\"11%\",\"0%\",\"21%\",\"0%\",\"22%\",\"0%\",\"29%\",\"0%\",\"23%\",\"0%\",\"26%\",\"0%\",\"24%\",\"0%\",\"26%\",\"0%\",\"18%\",\"0%\",\"39%\",\"0%\"],\"textposition\":\"inside\",\"type\":\"bar\",\"x\":[[\"2020-01-01\",\"2020-01-01\",\"2020-02-01\",\"2020-02-01\",\"2020-03-01\",\"2020-03-01\",\"2020-04-01\",\"2020-04-01\",\"2020-05-01\",\"2020-05-01\",\"2020-06-01\",\"2020-06-01\",\"2020-07-01\",\"2020-07-01\",\"2020-08-01\",\"2020-08-01\",\"2020-09-01\",\"2020-09-01\",\"2020-10-01\",\"2020-10-01\",\"2020-11-01\",\"2020-11-01\",\"2020-12-01\",\"2020-12-01\"],[\"income\",\"expense\",\"income\",\"expense\",\"income\",\"expense\",\"income\",\"expense\",\"income\",\"expense\",\"income\",\"expense\",\"income\",\"expense\",\"income\",\"expense\",\"income\",\"expense\",\"income\",\"expense\",\"income\",\"expense\",\"income\",\"expense\"]],\"y\":[432,0,442,0,195,0,429,0,369,0,480,0,439,0,522,0,553,0,416,0,315,0,896,0]},{\"hovertemplate\":\"<b>%{meta}</b><br>%{y:,.0f}$<br>%{x}<extra></extra>\",\"meta\":\"shelter\",\"name\":\"shelter\",\"text\":[\"0%\",\"10%\",\"0%\",\"21%\",\"0%\",\"58%\",\"0%\",\"34%\",\"0%\",\"33%\",\"0%\",\"36%\",\"0%\",\"17%\",\"0%\",\"42%\",\"0%\",\"39%\",\"0%\",\"25%\",\"0%\",\"45%\",\"0%\",\"33%\"],\"textposition\":\"inside\",\"type\":\"bar\",\"x\":[[\"2020-01-01\",\"2020-01-01\",\"2020-02-01\",\"2020-02-01\",\"2020-03-01\",\"2020-03-01\",\"2020-04-01\",\"2020-04-01\",\"2020-05-01\",\"2020-05-01\",\"2020-06-01\",\"2020-06-01\",\"2020-07-01\",\"2020-07-01\",\"2020-08-01\",\"2020-08-01\",\"2020-09-01\",\"2020-09-01\",\"2020-10-01\",\"2020-10-01\",\"2020-11-01\",\"2020-11-01\",\"2020-12-01\",\"2020-12-01\"],[\"income\",\"expense\",\"income\",\"expense\",\"income\",\"expense\",\"income\",\"expense\",\"income\",\"expense\",\"income\",\"expense\",\"income\",\"expense\",\"income\",\"expense\",\"income\",\"expense\",\"income\",\"expense\",\"income\",\"expense\",\"income\",\"expense\"]],\"y\":[0,99,0,152,0,445,0,322,0,292,0,238,0,170,0,428,0,242,0,223,0,342,0,287]},{\"hovertemplate\":\"<b>%{meta}</b><br>%{y:,.0f}$<br>%{x}<extra></extra>\",\"meta\":\"soil testing\",\"name\":\"soil testing\",\"text\":[\"0%\",\"24%\",\"0%\",\"23%\",\"0%\",\"16%\",\"0%\",\"10%\",\"0%\",\"23%\",\"0%\",\"6%\",\"0%\",\"21%\",\"0%\",\"16%\",\"0%\",\"17%\",\"0%\",\"20%\",\"0%\",\"10%\",\"0%\",\"24%\"],\"textposition\":\"inside\",\"type\":\"bar\",\"x\":[[\"2020-01-01\",\"2020-01-01\",\"2020-02-01\",\"2020-02-01\",\"2020-03-01\",\"2020-03-01\",\"2020-04-01\",\"2020-04-01\",\"2020-05-01\",\"2020-05-01\",\"2020-06-01\",\"2020-06-01\",\"2020-07-01\",\"2020-07-01\",\"2020-08-01\",\"2020-08-01\",\"2020-09-01\",\"2020-09-01\",\"2020-10-01\",\"2020-10-01\",\"2020-11-01\",\"2020-11-01\",\"2020-12-01\",\"2020-12-01\"],[\"income\",\"expense\",\"income\",\"expense\",\"income\",\"expense\",\"income\",\"expense\",\"income\",\"expense\",\"income\",\"expense\",\"income\",\"expense\",\"income\",\"expense\",\"income\",\"expense\",\"income\",\"expense\",\"income\",\"expense\",\"income\",\"expense\"]],\"y\":[0,253,0,167,0,121,0,92,0,200,0,42,0,205,0,163,0,106,0,179,0,77,0,207]},{\"hovertemplate\":\"<b>%{meta}</b><br>%{y:,.0f}$<br>%{x}<extra></extra>\",\"meta\":\"transport\",\"name\":\"transport\",\"text\":[\"0%\",\"22%\",\"0%\",\"14%\",\"0%\",\"4%\",\"0%\",\"1%\",\"0%\",\"11%\",\"0%\",\"7%\",\"0%\",\"26%\",\"0%\",\"12%\",\"0%\",\"14%\",\"0%\",\"18%\",\"0%\",\"29%\",\"0%\",\"7%\"],\"textposition\":\"inside\",\"type\":\"bar\",\"x\":[[\"2020-01-01\",\"2020-01-01\",\"2020-02-01\",\"2020-02-01\",\"2020-03-01\",\"2020-03-01\",\"2020-04-01\",\"2020-04-01\",\"2020-05-01\",\"2020-05-01\",\"2020-06-01\",\"2020-06-01\",\"2020-07-01\",\"2020-07-01\",\"2020-08-01\",\"2020-08-01\",\"2020-09-01\",\"2020-09-01\",\"2020-10-01\",\"2020-10-01\",\"2020-11-01\",\"2020-11-01\",\"2020-12-01\",\"2020-12-01\"],[\"income\",\"expense\",\"income\",\"expense\",\"income\",\"expense\",\"income\",\"expense\",\"income\",\"expense\",\"income\",\"expense\",\"income\",\"expense\",\"income\",\"expense\",\"income\",\"expense\",\"income\",\"expense\",\"income\",\"expense\",\"income\",\"expense\"]],\"y\":[0,227,0,104,0,27,0,9,0,93,0,46,0,256,0,121,0,86,0,165,0,218,0,57]},{\"connectgaps\":true,\"hovertemplate\":\"<b>%{meta}</b><br>%{y:,.0f}$<br>%{x}<extra></extra>\",\"line\":{\"color\":\"black\"},\"meta\":\"cumulative balance\",\"name\":\"cumulative balance\",\"type\":\"scatter\",\"x\":[[\"2020-01-01\",\"2020-01-01\",\"2020-02-01\",\"2020-02-01\",\"2020-03-01\",\"2020-03-01\",\"2020-04-01\",\"2020-04-01\",\"2020-05-01\",\"2020-05-01\",\"2020-06-01\",\"2020-06-01\",\"2020-07-01\",\"2020-07-01\",\"2020-08-01\",\"2020-08-01\",\"2020-09-01\",\"2020-09-01\",\"2020-10-01\",\"2020-10-01\",\"2020-11-01\",\"2020-11-01\",\"2020-12-01\",\"2020-12-01\"],[\"income\",\"expense\",\"income\",\"expense\",\"income\",\"expense\",\"income\",\"expense\",\"income\",\"expense\",\"income\",\"expense\",\"income\",\"expense\",\"income\",\"expense\",\"income\",\"expense\",\"income\",\"expense\",\"income\",\"expense\",\"income\",\"expense\"]],\"y\":[null,406,null,1314,null,2250,null,3311,null,4074,null,5061,null,6000,null,6973,null,8650,null,9384,null,10417,null,11833]}],                        {\"barmode\":\"stack\",\"legend\":{\"title\":{\"text\":\"\"},\"traceorder\":\"normal\"},\"template\":{\"data\":{\"bar\":[{\"error_x\":{\"color\":\"#2a3f5f\"},\"error_y\":{\"color\":\"#2a3f5f\"},\"marker\":{\"line\":{\"color\":\"white\",\"width\":0.5},\"pattern\":{\"fillmode\":\"overlay\",\"size\":10,\"solidity\":0.2}},\"type\":\"bar\"}],\"barpolar\":[{\"marker\":{\"line\":{\"color\":\"white\",\"width\":0.5},\"pattern\":{\"fillmode\":\"overlay\",\"size\":10,\"solidity\":0.2}},\"type\":\"barpolar\"}],\"carpet\":[{\"aaxis\":{\"endlinecolor\":\"#2a3f5f\",\"gridcolor\":\"#C8D4E3\",\"linecolor\":\"#C8D4E3\",\"minorgridcolor\":\"#C8D4E3\",\"startlinecolor\":\"#2a3f5f\"},\"baxis\":{\"endlinecolor\":\"#2a3f5f\",\"gridcolor\":\"#C8D4E3\",\"linecolor\":\"#C8D4E3\",\"minorgridcolor\":\"#C8D4E3\",\"startlinecolor\":\"#2a3f5f\"},\"type\":\"carpet\"}],\"choropleth\":[{\"colorbar\":{\"outlinewidth\":0,\"ticks\":\"\"},\"type\":\"choropleth\"}],\"contour\":[{\"colorbar\":{\"outlinewidth\":0,\"ticks\":\"\"},\"colorscale\":[[0.0,\"#0d0887\"],[0.1111111111111111,\"#46039f\"],[0.2222222222222222,\"#7201a8\"],[0.3333333333333333,\"#9c179e\"],[0.4444444444444444,\"#bd3786\"],[0.5555555555555556,\"#d8576b\"],[0.6666666666666666,\"#ed7953\"],[0.7777777777777778,\"#fb9f3a\"],[0.8888888888888888,\"#fdca26\"],[1.0,\"#f0f921\"]],\"type\":\"contour\"}],\"contourcarpet\":[{\"colorbar\":{\"outlinewidth\":0,\"ticks\":\"\"},\"type\":\"contourcarpet\"}],\"heatmap\":[{\"colorbar\":{\"outlinewidth\":0,\"ticks\":\"\"},\"colorscale\":[[0.0,\"#0d0887\"],[0.1111111111111111,\"#46039f\"],[0.2222222222222222,\"#7201a8\"],[0.3333333333333333,\"#9c179e\"],[0.4444444444444444,\"#bd3786\"],[0.5555555555555556,\"#d8576b\"],[0.6666666666666666,\"#ed7953\"],[0.7777777777777778,\"#fb9f3a\"],[0.8888888888888888,\"#fdca26\"],[1.0,\"#f0f921\"]],\"type\":\"heatmap\"}],\"heatmapgl\":[{\"colorbar\":{\"outlinewidth\":0,\"ticks\":\"\"},\"colorscale\":[[0.0,\"#0d0887\"],[0.1111111111111111,\"#46039f\"],[0.2222222222222222,\"#7201a8\"],[0.3333333333333333,\"#9c179e\"],[0.4444444444444444,\"#bd3786\"],[0.5555555555555556,\"#d8576b\"],[0.6666666666666666,\"#ed7953\"],[0.7777777777777778,\"#fb9f3a\"],[0.8888888888888888,\"#fdca26\"],[1.0,\"#f0f921\"]],\"type\":\"heatmapgl\"}],\"histogram\":[{\"marker\":{\"pattern\":{\"fillmode\":\"overlay\",\"size\":10,\"solidity\":0.2}},\"type\":\"histogram\"}],\"histogram2d\":[{\"colorbar\":{\"outlinewidth\":0,\"ticks\":\"\"},\"colorscale\":[[0.0,\"#0d0887\"],[0.1111111111111111,\"#46039f\"],[0.2222222222222222,\"#7201a8\"],[0.3333333333333333,\"#9c179e\"],[0.4444444444444444,\"#bd3786\"],[0.5555555555555556,\"#d8576b\"],[0.6666666666666666,\"#ed7953\"],[0.7777777777777778,\"#fb9f3a\"],[0.8888888888888888,\"#fdca26\"],[1.0,\"#f0f921\"]],\"type\":\"histogram2d\"}],\"histogram2dcontour\":[{\"colorbar\":{\"outlinewidth\":0,\"ticks\":\"\"},\"colorscale\":[[0.0,\"#0d0887\"],[0.1111111111111111,\"#46039f\"],[0.2222222222222222,\"#7201a8\"],[0.3333333333333333,\"#9c179e\"],[0.4444444444444444,\"#bd3786\"],[0.5555555555555556,\"#d8576b\"],[0.6666666666666666,\"#ed7953\"],[0.7777777777777778,\"#fb9f3a\"],[0.8888888888888888,\"#fdca26\"],[1.0,\"#f0f921\"]],\"type\":\"histogram2dcontour\"}],\"mesh3d\":[{\"colorbar\":{\"outlinewidth\":0,\"ticks\":\"\"},\"type\":\"mesh3d\"}],\"parcoords\":[{\"line\":{\"colorbar\":{\"outlinewidth\":0,\"ticks\":\"\"}},\"type\":\"parcoords\"}],\"pie\":[{\"automargin\":true,\"type\":\"pie\"}],\"scatter\":[{\"marker\":{\"colorbar\":{\"outlinewidth\":0,\"ticks\":\"\"}},\"type\":\"scatter\"}],\"scatter3d\":[{\"line\":{\"colorbar\":{\"outlinewidth\":0,\"ticks\":\"\"}},\"marker\":{\"colorbar\":{\"outlinewidth\":0,\"ticks\":\"\"}},\"type\":\"scatter3d\"}],\"scattercarpet\":[{\"marker\":{\"colorbar\":{\"outlinewidth\":0,\"ticks\":\"\"}},\"type\":\"scattercarpet\"}],\"scattergeo\":[{\"marker\":{\"colorbar\":{\"outlinewidth\":0,\"ticks\":\"\"}},\"type\":\"scattergeo\"}],\"scattergl\":[{\"marker\":{\"colorbar\":{\"outlinewidth\":0,\"ticks\":\"\"}},\"type\":\"scattergl\"}],\"scattermapbox\":[{\"marker\":{\"colorbar\":{\"outlinewidth\":0,\"ticks\":\"\"}},\"type\":\"scattermapbox\"}],\"scatterpolar\":[{\"marker\":{\"colorbar\":{\"outlinewidth\":0,\"ticks\":\"\"}},\"type\":\"scatterpolar\"}],\"scatterpolargl\":[{\"marker\":{\"colorbar\":{\"outlinewidth\":0,\"ticks\":\"\"}},\"type\":\"scatterpolargl\"}],\"scatterternary\":[{\"marker\":{\"colorbar\":{\"outlinewidth\":0,\"ticks\":\"\"}},\"type\":\"scatterternary\"}],\"surface\":[{\"colorbar\":{\"outlinewidth\":0,\"ticks\":\"\"},\"colorscale\":[[0.0,\"#0d0887\"],[0.1111111111111111,\"#46039f\"],[0.2222222222222222,\"#7201a8\"],[0.3333333333333333,\"#9c179e\"],[0.4444444444444444,\"#bd3786\"],[0.5555555555555556,\"#d8576b\"],[0.6666666666666666,\"#ed7953\"],[0.7777777777777778,\"#fb9f3a\"],[0.8888888888888888,\"#fdca26\"],[1.0,\"#f0f921\"]],\"type\":\"surface\"}],\"table\":[{\"cells\":{\"fill\":{\"color\":\"#EBF0F8\"},\"line\":{\"color\":\"white\"}},\"header\":{\"fill\":{\"color\":\"#C8D4E3\"},\"line\":{\"color\":\"white\"}},\"type\":\"table\"}]},\"layout\":{\"annotationdefaults\":{\"arrowcolor\":\"#2a3f5f\",\"arrowhead\":0,\"arrowwidth\":1},\"autotypenumbers\":\"strict\",\"coloraxis\":{\"colorbar\":{\"outlinewidth\":0,\"ticks\":\"\"}},\"colorscale\":{\"diverging\":[[0,\"#8e0152\"],[0.1,\"#c51b7d\"],[0.2,\"#de77ae\"],[0.3,\"#f1b6da\"],[0.4,\"#fde0ef\"],[0.5,\"#f7f7f7\"],[0.6,\"#e6f5d0\"],[0.7,\"#b8e186\"],[0.8,\"#7fbc41\"],[0.9,\"#4d9221\"],[1,\"#276419\"]],\"sequential\":[[0.0,\"#0d0887\"],[0.1111111111111111,\"#46039f\"],[0.2222222222222222,\"#7201a8\"],[0.3333333333333333,\"#9c179e\"],[0.4444444444444444,\"#bd3786\"],[0.5555555555555556,\"#d8576b\"],[0.6666666666666666,\"#ed7953\"],[0.7777777777777778,\"#fb9f3a\"],[0.8888888888888888,\"#fdca26\"],[1.0,\"#f0f921\"]],\"sequentialminus\":[[0.0,\"#0d0887\"],[0.1111111111111111,\"#46039f\"],[0.2222222222222222,\"#7201a8\"],[0.3333333333333333,\"#9c179e\"],[0.4444444444444444,\"#bd3786\"],[0.5555555555555556,\"#d8576b\"],[0.6666666666666666,\"#ed7953\"],[0.7777777777777778,\"#fb9f3a\"],[0.8888888888888888,\"#fdca26\"],[1.0,\"#f0f921\"]]},\"colorway\":[\"#636efa\",\"#EF553B\",\"#00cc96\",\"#ab63fa\",\"#FFA15A\",\"#19d3f3\",\"#FF6692\",\"#B6E880\",\"#FF97FF\",\"#FECB52\"],\"font\":{\"color\":\"#2a3f5f\"},\"geo\":{\"bgcolor\":\"white\",\"lakecolor\":\"white\",\"landcolor\":\"white\",\"showlakes\":true,\"showland\":true,\"subunitcolor\":\"#C8D4E3\"},\"hoverlabel\":{\"align\":\"left\"},\"hovermode\":\"closest\",\"mapbox\":{\"style\":\"light\"},\"paper_bgcolor\":\"white\",\"plot_bgcolor\":\"white\",\"polar\":{\"angularaxis\":{\"gridcolor\":\"#EBF0F8\",\"linecolor\":\"#EBF0F8\",\"ticks\":\"\"},\"bgcolor\":\"white\",\"radialaxis\":{\"gridcolor\":\"#EBF0F8\",\"linecolor\":\"#EBF0F8\",\"ticks\":\"\"}},\"scene\":{\"xaxis\":{\"backgroundcolor\":\"white\",\"gridcolor\":\"#DFE8F3\",\"gridwidth\":2,\"linecolor\":\"#EBF0F8\",\"showbackground\":true,\"ticks\":\"\",\"zerolinecolor\":\"#EBF0F8\"},\"yaxis\":{\"backgroundcolor\":\"white\",\"gridcolor\":\"#DFE8F3\",\"gridwidth\":2,\"linecolor\":\"#EBF0F8\",\"showbackground\":true,\"ticks\":\"\",\"zerolinecolor\":\"#EBF0F8\"},\"zaxis\":{\"backgroundcolor\":\"white\",\"gridcolor\":\"#DFE8F3\",\"gridwidth\":2,\"linecolor\":\"#EBF0F8\",\"showbackground\":true,\"ticks\":\"\",\"zerolinecolor\":\"#EBF0F8\"}},\"shapedefaults\":{\"line\":{\"color\":\"#2a3f5f\"}},\"ternary\":{\"aaxis\":{\"gridcolor\":\"#DFE8F3\",\"linecolor\":\"#A2B1C6\",\"ticks\":\"\"},\"baxis\":{\"gridcolor\":\"#DFE8F3\",\"linecolor\":\"#A2B1C6\",\"ticks\":\"\"},\"bgcolor\":\"white\",\"caxis\":{\"gridcolor\":\"#DFE8F3\",\"linecolor\":\"#A2B1C6\",\"ticks\":\"\"}},\"title\":{\"x\":0.05},\"xaxis\":{\"automargin\":true,\"gridcolor\":\"#EBF0F8\",\"linecolor\":\"#EBF0F8\",\"ticks\":\"\",\"title\":{\"standoff\":15},\"zerolinecolor\":\"#EBF0F8\",\"zerolinewidth\":2},\"yaxis\":{\"automargin\":true,\"gridcolor\":\"#EBF0F8\",\"linecolor\":\"#EBF0F8\",\"ticks\":\"\",\"title\":{\"standoff\":15},\"zerolinecolor\":\"#EBF0F8\",\"zerolinewidth\":2}}},\"title\":{\"text\":\"\\n<b>Summary by category and period</b>\\n<br>2020-01-01 to 2020-12-31\\n<br>income = 22,002&#36; \\u00b7\\nexpense = 10,169&#36; \\u00b7\\nbalance = 11,833&#36; \\u00b7\\nsavings pc = 53.8%\\n\"},\"uniformtext\":{\"minsize\":8,\"mode\":\"hide\"},\"width\":1200,\"xaxis\":{\"title\":{\"text\":\"period\"}},\"yaxis\":{\"separatethousands\":true,\"ticksuffix\":\"$\",\"title\":{\"text\":\"value\"}}},                        {\"responsive\": true}                    ).then(function(){\n",
       "                            \n",
       "var gd = document.getElementById('b1a5acdf-4764-4e65-a504-a606bcd729fb');\n",
       "var x = new MutationObserver(function (mutations, observer) {{\n",
       "        var display = window.getComputedStyle(gd).display;\n",
       "        if (!display || display === 'none') {{\n",
       "            console.log([gd, 'removed!']);\n",
       "            Plotly.purge(gd);\n",
       "            observer.disconnect();\n",
       "        }}\n",
       "}});\n",
       "\n",
       "// Listen for the removal of the full notebook cells\n",
       "var notebookContainer = gd.closest('#notebook-container');\n",
       "if (notebookContainer) {{\n",
       "    x.observe(notebookContainer, {childList: true});\n",
       "}}\n",
       "\n",
       "// Listen for the clearing of the current output cell\n",
       "var outputEl = gd.closest('.output');\n",
       "if (outputEl) {{\n",
       "    x.observe(outputEl, {childList: true});\n",
       "}}\n",
       "\n",
       "                        })                };                });            </script>        </div>"
      ]
     },
     "metadata": {},
     "output_type": "display_data"
    }
   ],
   "source": [
    "#summary = ms.summarize(transactions.drop(\"category\", axis=\"columns\"), freq=\"MS\")\n",
    "summary = ms.summarize(transactions, freq=\"MS\")\n",
    "for fig in plot(summary, currency=\"$\").values():\n",
    "    fig.show()\n",
    "    "
   ]
  },
  {
   "cell_type": "code",
   "execution_count": 7,
   "metadata": {},
   "outputs": [
    {
     "data": {
      "text/html": [
       "<div>\n",
       "<style scoped>\n",
       "    .dataframe tbody tr th:only-of-type {\n",
       "        vertical-align: middle;\n",
       "    }\n",
       "\n",
       "    .dataframe tbody tr th {\n",
       "        vertical-align: top;\n",
       "    }\n",
       "\n",
       "    .dataframe thead th {\n",
       "        text-align: right;\n",
       "    }\n",
       "</style>\n",
       "<table border=\"1\" class=\"dataframe\">\n",
       "  <thead>\n",
       "    <tr style=\"text-align: right;\">\n",
       "      <th></th>\n",
       "      <th>category</th>\n",
       "      <th>income</th>\n",
       "      <th>expense</th>\n",
       "      <th>balance</th>\n",
       "      <th>income_to_total_income_pc</th>\n",
       "      <th>expense_to_total_income_pc</th>\n",
       "      <th>expense_to_total_expense_pc</th>\n",
       "      <th>daily_avg_balance</th>\n",
       "      <th>weekly_avg_balance</th>\n",
       "      <th>monthly_avg_balance</th>\n",
       "      <th>yearly_avg_balance</th>\n",
       "    </tr>\n",
       "  </thead>\n",
       "  <tbody>\n",
       "    <tr>\n",
       "      <th>0</th>\n",
       "      <td>food</td>\n",
       "      <td>0</td>\n",
       "      <td>2105</td>\n",
       "      <td>-2105</td>\n",
       "      <td>0.00</td>\n",
       "      <td>9.57</td>\n",
       "      <td>20.70</td>\n",
       "      <td>-5.75</td>\n",
       "      <td>-40.26</td>\n",
       "      <td>-174.94</td>\n",
       "      <td>-2099.25</td>\n",
       "    </tr>\n",
       "    <tr>\n",
       "      <th>1</th>\n",
       "      <td>healthcare</td>\n",
       "      <td>0</td>\n",
       "      <td>1603</td>\n",
       "      <td>-1603</td>\n",
       "      <td>0.00</td>\n",
       "      <td>7.29</td>\n",
       "      <td>15.76</td>\n",
       "      <td>-4.38</td>\n",
       "      <td>-30.66</td>\n",
       "      <td>-133.22</td>\n",
       "      <td>-1598.62</td>\n",
       "    </tr>\n",
       "    <tr>\n",
       "      <th>2</th>\n",
       "      <td>investing</td>\n",
       "      <td>5492</td>\n",
       "      <td>0</td>\n",
       "      <td>5492</td>\n",
       "      <td>24.96</td>\n",
       "      <td>0.00</td>\n",
       "      <td>0.00</td>\n",
       "      <td>15.01</td>\n",
       "      <td>105.04</td>\n",
       "      <td>456.42</td>\n",
       "      <td>5476.99</td>\n",
       "    </tr>\n",
       "    <tr>\n",
       "      <th>3</th>\n",
       "      <td>programming</td>\n",
       "      <td>11022</td>\n",
       "      <td>0</td>\n",
       "      <td>11022</td>\n",
       "      <td>50.10</td>\n",
       "      <td>0.00</td>\n",
       "      <td>0.00</td>\n",
       "      <td>30.11</td>\n",
       "      <td>210.80</td>\n",
       "      <td>915.99</td>\n",
       "      <td>10991.89</td>\n",
       "    </tr>\n",
       "    <tr>\n",
       "      <th>4</th>\n",
       "      <td>reiki</td>\n",
       "      <td>5488</td>\n",
       "      <td>0</td>\n",
       "      <td>5488</td>\n",
       "      <td>24.94</td>\n",
       "      <td>0.00</td>\n",
       "      <td>0.00</td>\n",
       "      <td>14.99</td>\n",
       "      <td>104.96</td>\n",
       "      <td>456.08</td>\n",
       "      <td>5473.01</td>\n",
       "    </tr>\n",
       "    <tr>\n",
       "      <th>5</th>\n",
       "      <td>shelter</td>\n",
       "      <td>0</td>\n",
       "      <td>3240</td>\n",
       "      <td>-3240</td>\n",
       "      <td>0.00</td>\n",
       "      <td>14.73</td>\n",
       "      <td>31.86</td>\n",
       "      <td>-8.85</td>\n",
       "      <td>-61.97</td>\n",
       "      <td>-269.26</td>\n",
       "      <td>-3231.15</td>\n",
       "    </tr>\n",
       "    <tr>\n",
       "      <th>6</th>\n",
       "      <td>soil testing</td>\n",
       "      <td>0</td>\n",
       "      <td>1812</td>\n",
       "      <td>-1812</td>\n",
       "      <td>0.00</td>\n",
       "      <td>8.24</td>\n",
       "      <td>17.82</td>\n",
       "      <td>-4.95</td>\n",
       "      <td>-34.66</td>\n",
       "      <td>-150.59</td>\n",
       "      <td>-1807.05</td>\n",
       "    </tr>\n",
       "    <tr>\n",
       "      <th>7</th>\n",
       "      <td>transport</td>\n",
       "      <td>0</td>\n",
       "      <td>1409</td>\n",
       "      <td>-1409</td>\n",
       "      <td>0.00</td>\n",
       "      <td>6.40</td>\n",
       "      <td>13.86</td>\n",
       "      <td>-3.85</td>\n",
       "      <td>-26.95</td>\n",
       "      <td>-117.10</td>\n",
       "      <td>-1405.15</td>\n",
       "    </tr>\n",
       "  </tbody>\n",
       "</table>\n",
       "</div>"
      ],
      "text/plain": [
       "       category  income  expense  balance  income_to_total_income_pc  \\\n",
       "0          food       0     2105    -2105                       0.00   \n",
       "1    healthcare       0     1603    -1603                       0.00   \n",
       "2     investing    5492        0     5492                      24.96   \n",
       "3   programming   11022        0    11022                      50.10   \n",
       "4         reiki    5488        0     5488                      24.94   \n",
       "5       shelter       0     3240    -3240                       0.00   \n",
       "6  soil testing       0     1812    -1812                       0.00   \n",
       "7     transport       0     1409    -1409                       0.00   \n",
       "\n",
       "   expense_to_total_income_pc  expense_to_total_expense_pc  daily_avg_balance  \\\n",
       "0                        9.57                        20.70              -5.75   \n",
       "1                        7.29                        15.76              -4.38   \n",
       "2                        0.00                         0.00              15.01   \n",
       "3                        0.00                         0.00              30.11   \n",
       "4                        0.00                         0.00              14.99   \n",
       "5                       14.73                        31.86              -8.85   \n",
       "6                        8.24                        17.82              -4.95   \n",
       "7                        6.40                        13.86              -3.85   \n",
       "\n",
       "   weekly_avg_balance  monthly_avg_balance  yearly_avg_balance  \n",
       "0              -40.26              -174.94            -2099.25  \n",
       "1              -30.66              -133.22            -1598.62  \n",
       "2              105.04               456.42             5476.99  \n",
       "3              210.80               915.99            10991.89  \n",
       "4              104.96               456.08             5473.01  \n",
       "5              -61.97              -269.26            -3231.15  \n",
       "6              -34.66              -150.59            -1807.05  \n",
       "7              -26.95              -117.10            -1405.15  "
      ]
     },
     "execution_count": 7,
     "metadata": {},
     "output_type": "execute_result"
    }
   ],
   "source": [
    "summary[\"by_category\"]"
   ]
  },
  {
   "cell_type": "code",
   "execution_count": null,
   "metadata": {},
   "outputs": [],
   "source": []
  }
 ],
 "metadata": {
  "kernelspec": {
   "display_name": "Python 3 (ipykernel)",
   "language": "python",
   "name": "python3"
  },
  "language_info": {
   "codemirror_mode": {
    "name": "ipython",
    "version": 3
   },
   "file_extension": ".py",
   "mimetype": "text/x-python",
   "name": "python",
   "nbconvert_exporter": "python",
   "pygments_lexer": "ipython3",
   "version": "3.9.7"
  }
 },
 "nbformat": 4,
 "nbformat_minor": 1
}
