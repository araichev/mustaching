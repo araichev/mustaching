{
 "cells": [
  {
   "cell_type": "code",
   "execution_count": 161,
   "metadata": {},
   "outputs": [
    {
     "name": "stdout",
     "output_type": "stream",
     "text": [
      "The autoreload extension is already loaded. To reload it, use:\n",
      "  %reload_ext autoreload\n"
     ]
    }
   ],
   "source": [
    "import pathlib as pl\n",
    "import sys\n",
    "import pandas as pd\n",
    "import numpy as np\n",
    "import plotly.express as px\n",
    "import plotly.graph_objects as pg\n",
    "\n",
    "sys.path.append('../')\n",
    "import mustaching as ms\n",
    "\n",
    "\n",
    "%load_ext autoreload\n",
    "%autoreload 2\n"
   ]
  },
  {
   "cell_type": "markdown",
   "metadata": {},
   "source": [
    "# Load transactions"
   ]
  },
  {
   "cell_type": "code",
   "execution_count": 12,
   "metadata": {},
   "outputs": [
    {
     "data": {
      "text/html": [
       "<div>\n",
       "<style scoped>\n",
       "    .dataframe tbody tr th:only-of-type {\n",
       "        vertical-align: middle;\n",
       "    }\n",
       "\n",
       "    .dataframe tbody tr th {\n",
       "        vertical-align: top;\n",
       "    }\n",
       "\n",
       "    .dataframe thead th {\n",
       "        text-align: right;\n",
       "    }\n",
       "</style>\n",
       "<table border=\"1\" class=\"dataframe\">\n",
       "  <thead>\n",
       "    <tr style=\"text-align: right;\">\n",
       "      <th></th>\n",
       "      <th>date</th>\n",
       "      <th>amount</th>\n",
       "      <th>description</th>\n",
       "      <th>comment</th>\n",
       "      <th>category</th>\n",
       "    </tr>\n",
       "  </thead>\n",
       "  <tbody>\n",
       "    <tr>\n",
       "      <th>0</th>\n",
       "      <td>2020-01-01 00:00:00</td>\n",
       "      <td>-50</td>\n",
       "      <td>0xeadbc</td>\n",
       "      <td>0x3742205385</td>\n",
       "      <td>healthcare</td>\n",
       "    </tr>\n",
       "    <tr>\n",
       "      <th>1</th>\n",
       "      <td>2020-01-01 12:00:00</td>\n",
       "      <td>93</td>\n",
       "      <td>0xa7748</td>\n",
       "      <td>0xded23b225</td>\n",
       "      <td>programming</td>\n",
       "    </tr>\n",
       "    <tr>\n",
       "      <th>2</th>\n",
       "      <td>2020-01-02 00:00:00</td>\n",
       "      <td>31</td>\n",
       "      <td>0x24f1a</td>\n",
       "      <td>0xdf3cf6cb3</td>\n",
       "      <td>programming</td>\n",
       "    </tr>\n",
       "    <tr>\n",
       "      <th>3</th>\n",
       "      <td>2020-01-02 12:00:00</td>\n",
       "      <td>46</td>\n",
       "      <td>0xcf0fa</td>\n",
       "      <td>0x4300c9f7b4</td>\n",
       "      <td>reiki</td>\n",
       "    </tr>\n",
       "    <tr>\n",
       "      <th>4</th>\n",
       "      <td>2020-01-03 00:00:00</td>\n",
       "      <td>-30</td>\n",
       "      <td>0xe4da5</td>\n",
       "      <td>0xc1c4e8c0f</td>\n",
       "      <td>healthcare</td>\n",
       "    </tr>\n",
       "    <tr>\n",
       "      <th>5</th>\n",
       "      <td>2020-01-03 12:00:00</td>\n",
       "      <td>-42</td>\n",
       "      <td>0x7f48e</td>\n",
       "      <td>0x23d7a17e1b</td>\n",
       "      <td>transport</td>\n",
       "    </tr>\n",
       "    <tr>\n",
       "      <th>6</th>\n",
       "      <td>2020-01-04 00:00:00</td>\n",
       "      <td>3</td>\n",
       "      <td>0x9db0</td>\n",
       "      <td>0xa8f48bd984</td>\n",
       "      <td>programming</td>\n",
       "    </tr>\n",
       "    <tr>\n",
       "      <th>7</th>\n",
       "      <td>2020-01-04 12:00:00</td>\n",
       "      <td>87</td>\n",
       "      <td>0xb4321</td>\n",
       "      <td>0x89a591476f</td>\n",
       "      <td>reiki</td>\n",
       "    </tr>\n",
       "    <tr>\n",
       "      <th>8</th>\n",
       "      <td>2020-01-05 00:00:00</td>\n",
       "      <td>57</td>\n",
       "      <td>0xc37a9</td>\n",
       "      <td>0xb19c9eaf04</td>\n",
       "      <td>programming</td>\n",
       "    </tr>\n",
       "    <tr>\n",
       "      <th>9</th>\n",
       "      <td>2020-01-05 12:00:00</td>\n",
       "      <td>38</td>\n",
       "      <td>0x9a3ae</td>\n",
       "      <td>0xcbe87612c2</td>\n",
       "      <td>reiki</td>\n",
       "    </tr>\n",
       "  </tbody>\n",
       "</table>\n",
       "</div>"
      ],
      "text/plain": [
       "                 date  amount description       comment     category\n",
       "0 2020-01-01 00:00:00     -50     0xeadbc  0x3742205385   healthcare\n",
       "1 2020-01-01 12:00:00      93     0xa7748   0xded23b225  programming\n",
       "2 2020-01-02 00:00:00      31     0x24f1a   0xdf3cf6cb3  programming\n",
       "3 2020-01-02 12:00:00      46     0xcf0fa  0x4300c9f7b4        reiki\n",
       "4 2020-01-03 00:00:00     -30     0xe4da5   0xc1c4e8c0f   healthcare\n",
       "5 2020-01-03 12:00:00     -42     0x7f48e  0x23d7a17e1b    transport\n",
       "6 2020-01-04 00:00:00       3      0x9db0  0xa8f48bd984  programming\n",
       "7 2020-01-04 12:00:00      87     0xb4321  0x89a591476f        reiki\n",
       "8 2020-01-05 00:00:00      57     0xc37a9  0xb19c9eaf04  programming\n",
       "9 2020-01-05 12:00:00      38     0x9a3ae  0xcbe87612c2        reiki"
      ]
     },
     "execution_count": 12,
     "metadata": {},
     "output_type": "execute_result"
    }
   ],
   "source": [
    "# Invent some sample transactions.\n",
    "transactions = ms.create_transactions('2020-01-01', '2020-12-31')\n",
    "\n",
    "# Alternatively, upload your own transactions as say 'my_transactions.csv' \n",
    "# transactions = ms.read_transactions(path)\n",
    "\n",
    "transactions.head(10)"
   ]
  },
  {
   "cell_type": "code",
   "execution_count": 13,
   "metadata": {},
   "outputs": [],
   "source": [
    "# import io\n",
    "\n",
    "# ms.read_transactions(io.StringIO(transactions.to_csv(index=False)))"
   ]
  },
  {
   "cell_type": "markdown",
   "metadata": {},
   "source": [
    "# Summarize transactions and plot"
   ]
  },
  {
   "cell_type": "code",
   "execution_count": 281,
   "metadata": {
    "scrolled": false
   },
   "outputs": [
    {
     "name": "stdout",
     "output_type": "stream",
     "text": [
      "by_none\n"
     ]
    },
    {
     "data": {
      "text/html": [
       "<div>\n",
       "<style scoped>\n",
       "    .dataframe tbody tr th:only-of-type {\n",
       "        vertical-align: middle;\n",
       "    }\n",
       "\n",
       "    .dataframe tbody tr th {\n",
       "        vertical-align: top;\n",
       "    }\n",
       "\n",
       "    .dataframe thead th {\n",
       "        text-align: right;\n",
       "    }\n",
       "</style>\n",
       "<table border=\"1\" class=\"dataframe\">\n",
       "  <thead>\n",
       "    <tr style=\"text-align: right;\">\n",
       "      <th></th>\n",
       "      <th>start_date</th>\n",
       "      <th>end_date</th>\n",
       "      <th>income</th>\n",
       "      <th>expense</th>\n",
       "      <th>balance</th>\n",
       "      <th>savings_pc</th>\n",
       "    </tr>\n",
       "  </thead>\n",
       "  <tbody>\n",
       "    <tr>\n",
       "      <th>0</th>\n",
       "      <td>2020-01-01</td>\n",
       "      <td>2020-12-31</td>\n",
       "      <td>22031</td>\n",
       "      <td>10387</td>\n",
       "      <td>11644</td>\n",
       "      <td>52.85</td>\n",
       "    </tr>\n",
       "  </tbody>\n",
       "</table>\n",
       "</div>"
      ],
      "text/plain": [
       "  start_date   end_date  income  expense  balance  savings_pc\n",
       "0 2020-01-01 2020-12-31   22031    10387    11644       52.85"
      ]
     },
     "metadata": {},
     "output_type": "display_data"
    },
    {
     "name": "stdout",
     "output_type": "stream",
     "text": [
      "by_period\n"
     ]
    },
    {
     "data": {
      "text/html": [
       "<div>\n",
       "<style scoped>\n",
       "    .dataframe tbody tr th:only-of-type {\n",
       "        vertical-align: middle;\n",
       "    }\n",
       "\n",
       "    .dataframe tbody tr th {\n",
       "        vertical-align: top;\n",
       "    }\n",
       "\n",
       "    .dataframe thead th {\n",
       "        text-align: right;\n",
       "    }\n",
       "</style>\n",
       "<table border=\"1\" class=\"dataframe\">\n",
       "  <thead>\n",
       "    <tr style=\"text-align: right;\">\n",
       "      <th></th>\n",
       "      <th>date</th>\n",
       "      <th>income</th>\n",
       "      <th>expense</th>\n",
       "      <th>balance</th>\n",
       "      <th>savings_pc</th>\n",
       "      <th>cumulative_income</th>\n",
       "      <th>cumulative_balance</th>\n",
       "      <th>cumulative_savings_pc</th>\n",
       "    </tr>\n",
       "  </thead>\n",
       "  <tbody>\n",
       "    <tr>\n",
       "      <th>0</th>\n",
       "      <td>2020-01-01</td>\n",
       "      <td>2233</td>\n",
       "      <td>741</td>\n",
       "      <td>1492</td>\n",
       "      <td>66.82</td>\n",
       "      <td>2233</td>\n",
       "      <td>1492</td>\n",
       "      <td>66.82</td>\n",
       "    </tr>\n",
       "    <tr>\n",
       "      <th>1</th>\n",
       "      <td>2020-02-01</td>\n",
       "      <td>1556</td>\n",
       "      <td>1045</td>\n",
       "      <td>511</td>\n",
       "      <td>32.84</td>\n",
       "      <td>3789</td>\n",
       "      <td>2003</td>\n",
       "      <td>52.86</td>\n",
       "    </tr>\n",
       "    <tr>\n",
       "      <th>2</th>\n",
       "      <td>2020-03-01</td>\n",
       "      <td>1943</td>\n",
       "      <td>902</td>\n",
       "      <td>1041</td>\n",
       "      <td>53.58</td>\n",
       "      <td>5732</td>\n",
       "      <td>3044</td>\n",
       "      <td>53.11</td>\n",
       "    </tr>\n",
       "    <tr>\n",
       "      <th>3</th>\n",
       "      <td>2020-04-01</td>\n",
       "      <td>1611</td>\n",
       "      <td>821</td>\n",
       "      <td>790</td>\n",
       "      <td>49.04</td>\n",
       "      <td>7343</td>\n",
       "      <td>3834</td>\n",
       "      <td>52.21</td>\n",
       "    </tr>\n",
       "    <tr>\n",
       "      <th>4</th>\n",
       "      <td>2020-05-01</td>\n",
       "      <td>1896</td>\n",
       "      <td>703</td>\n",
       "      <td>1193</td>\n",
       "      <td>62.92</td>\n",
       "      <td>9239</td>\n",
       "      <td>5027</td>\n",
       "      <td>54.41</td>\n",
       "    </tr>\n",
       "    <tr>\n",
       "      <th>5</th>\n",
       "      <td>2020-06-01</td>\n",
       "      <td>1537</td>\n",
       "      <td>1045</td>\n",
       "      <td>492</td>\n",
       "      <td>32.01</td>\n",
       "      <td>10776</td>\n",
       "      <td>5519</td>\n",
       "      <td>51.22</td>\n",
       "    </tr>\n",
       "    <tr>\n",
       "      <th>6</th>\n",
       "      <td>2020-07-01</td>\n",
       "      <td>2208</td>\n",
       "      <td>654</td>\n",
       "      <td>1554</td>\n",
       "      <td>70.38</td>\n",
       "      <td>12984</td>\n",
       "      <td>7073</td>\n",
       "      <td>54.47</td>\n",
       "    </tr>\n",
       "    <tr>\n",
       "      <th>7</th>\n",
       "      <td>2020-08-01</td>\n",
       "      <td>2034</td>\n",
       "      <td>629</td>\n",
       "      <td>1405</td>\n",
       "      <td>69.08</td>\n",
       "      <td>15018</td>\n",
       "      <td>8478</td>\n",
       "      <td>56.45</td>\n",
       "    </tr>\n",
       "    <tr>\n",
       "      <th>8</th>\n",
       "      <td>2020-09-01</td>\n",
       "      <td>2117</td>\n",
       "      <td>927</td>\n",
       "      <td>1190</td>\n",
       "      <td>56.21</td>\n",
       "      <td>17135</td>\n",
       "      <td>9668</td>\n",
       "      <td>56.42</td>\n",
       "    </tr>\n",
       "    <tr>\n",
       "      <th>9</th>\n",
       "      <td>2020-10-01</td>\n",
       "      <td>1402</td>\n",
       "      <td>1271</td>\n",
       "      <td>131</td>\n",
       "      <td>9.34</td>\n",
       "      <td>18537</td>\n",
       "      <td>9799</td>\n",
       "      <td>52.86</td>\n",
       "    </tr>\n",
       "    <tr>\n",
       "      <th>10</th>\n",
       "      <td>2020-11-01</td>\n",
       "      <td>1538</td>\n",
       "      <td>963</td>\n",
       "      <td>575</td>\n",
       "      <td>37.39</td>\n",
       "      <td>20075</td>\n",
       "      <td>10374</td>\n",
       "      <td>51.68</td>\n",
       "    </tr>\n",
       "    <tr>\n",
       "      <th>11</th>\n",
       "      <td>2020-12-01</td>\n",
       "      <td>1956</td>\n",
       "      <td>686</td>\n",
       "      <td>1270</td>\n",
       "      <td>64.93</td>\n",
       "      <td>22031</td>\n",
       "      <td>11644</td>\n",
       "      <td>52.85</td>\n",
       "    </tr>\n",
       "  </tbody>\n",
       "</table>\n",
       "</div>"
      ],
      "text/plain": [
       "         date  income  expense  balance  savings_pc  cumulative_income  \\\n",
       "0  2020-01-01    2233      741     1492       66.82               2233   \n",
       "1  2020-02-01    1556     1045      511       32.84               3789   \n",
       "2  2020-03-01    1943      902     1041       53.58               5732   \n",
       "3  2020-04-01    1611      821      790       49.04               7343   \n",
       "4  2020-05-01    1896      703     1193       62.92               9239   \n",
       "5  2020-06-01    1537     1045      492       32.01              10776   \n",
       "6  2020-07-01    2208      654     1554       70.38              12984   \n",
       "7  2020-08-01    2034      629     1405       69.08              15018   \n",
       "8  2020-09-01    2117      927     1190       56.21              17135   \n",
       "9  2020-10-01    1402     1271      131        9.34              18537   \n",
       "10 2020-11-01    1538      963      575       37.39              20075   \n",
       "11 2020-12-01    1956      686     1270       64.93              22031   \n",
       "\n",
       "    cumulative_balance  cumulative_savings_pc  \n",
       "0                 1492                  66.82  \n",
       "1                 2003                  52.86  \n",
       "2                 3044                  53.11  \n",
       "3                 3834                  52.21  \n",
       "4                 5027                  54.41  \n",
       "5                 5519                  51.22  \n",
       "6                 7073                  54.47  \n",
       "7                 8478                  56.45  \n",
       "8                 9668                  56.42  \n",
       "9                 9799                  52.86  \n",
       "10               10374                  51.68  \n",
       "11               11644                  52.85  "
      ]
     },
     "metadata": {},
     "output_type": "display_data"
    },
    {
     "name": "stdout",
     "output_type": "stream",
     "text": [
      "by_category\n"
     ]
    },
    {
     "data": {
      "text/html": [
       "<div>\n",
       "<style scoped>\n",
       "    .dataframe tbody tr th:only-of-type {\n",
       "        vertical-align: middle;\n",
       "    }\n",
       "\n",
       "    .dataframe tbody tr th {\n",
       "        vertical-align: top;\n",
       "    }\n",
       "\n",
       "    .dataframe thead th {\n",
       "        text-align: right;\n",
       "    }\n",
       "</style>\n",
       "<table border=\"1\" class=\"dataframe\">\n",
       "  <thead>\n",
       "    <tr style=\"text-align: right;\">\n",
       "      <th></th>\n",
       "      <th>category</th>\n",
       "      <th>income</th>\n",
       "      <th>expense</th>\n",
       "      <th>balance</th>\n",
       "      <th>income_to_total_income_pc</th>\n",
       "      <th>expense_to_total_income_pc</th>\n",
       "      <th>expense_to_total_expense_pc</th>\n",
       "      <th>daily_avg_balance</th>\n",
       "      <th>weekly_avg_balance</th>\n",
       "      <th>monthly_avg_balance</th>\n",
       "      <th>yearly_avg_balance</th>\n",
       "    </tr>\n",
       "  </thead>\n",
       "  <tbody>\n",
       "    <tr>\n",
       "      <th>0</th>\n",
       "      <td>food</td>\n",
       "      <td>0</td>\n",
       "      <td>2493</td>\n",
       "      <td>-2493</td>\n",
       "      <td>0.00</td>\n",
       "      <td>11.32</td>\n",
       "      <td>24.00</td>\n",
       "      <td>-6.81</td>\n",
       "      <td>-47.68</td>\n",
       "      <td>-207.18</td>\n",
       "      <td>-2486.19</td>\n",
       "    </tr>\n",
       "    <tr>\n",
       "      <th>1</th>\n",
       "      <td>healthcare</td>\n",
       "      <td>0</td>\n",
       "      <td>2045</td>\n",
       "      <td>-2045</td>\n",
       "      <td>0.00</td>\n",
       "      <td>9.28</td>\n",
       "      <td>19.69</td>\n",
       "      <td>-5.59</td>\n",
       "      <td>-39.11</td>\n",
       "      <td>-169.95</td>\n",
       "      <td>-2039.41</td>\n",
       "    </tr>\n",
       "    <tr>\n",
       "      <th>2</th>\n",
       "      <td>investing</td>\n",
       "      <td>4392</td>\n",
       "      <td>0</td>\n",
       "      <td>4392</td>\n",
       "      <td>19.94</td>\n",
       "      <td>0.00</td>\n",
       "      <td>0.00</td>\n",
       "      <td>12.00</td>\n",
       "      <td>84.00</td>\n",
       "      <td>365.00</td>\n",
       "      <td>4380.00</td>\n",
       "    </tr>\n",
       "    <tr>\n",
       "      <th>3</th>\n",
       "      <td>programming</td>\n",
       "      <td>11418</td>\n",
       "      <td>0</td>\n",
       "      <td>11418</td>\n",
       "      <td>51.83</td>\n",
       "      <td>0.00</td>\n",
       "      <td>0.00</td>\n",
       "      <td>31.20</td>\n",
       "      <td>218.38</td>\n",
       "      <td>948.90</td>\n",
       "      <td>11386.80</td>\n",
       "    </tr>\n",
       "    <tr>\n",
       "      <th>4</th>\n",
       "      <td>reiki</td>\n",
       "      <td>6221</td>\n",
       "      <td>0</td>\n",
       "      <td>6221</td>\n",
       "      <td>28.24</td>\n",
       "      <td>0.00</td>\n",
       "      <td>0.00</td>\n",
       "      <td>17.00</td>\n",
       "      <td>118.98</td>\n",
       "      <td>517.00</td>\n",
       "      <td>6204.00</td>\n",
       "    </tr>\n",
       "    <tr>\n",
       "      <th>5</th>\n",
       "      <td>shelter</td>\n",
       "      <td>0</td>\n",
       "      <td>2711</td>\n",
       "      <td>-2711</td>\n",
       "      <td>0.00</td>\n",
       "      <td>12.31</td>\n",
       "      <td>26.10</td>\n",
       "      <td>-7.41</td>\n",
       "      <td>-51.85</td>\n",
       "      <td>-225.30</td>\n",
       "      <td>-2703.59</td>\n",
       "    </tr>\n",
       "    <tr>\n",
       "      <th>6</th>\n",
       "      <td>soil testing</td>\n",
       "      <td>0</td>\n",
       "      <td>1869</td>\n",
       "      <td>-1869</td>\n",
       "      <td>0.00</td>\n",
       "      <td>8.48</td>\n",
       "      <td>17.99</td>\n",
       "      <td>-5.11</td>\n",
       "      <td>-35.75</td>\n",
       "      <td>-155.32</td>\n",
       "      <td>-1863.89</td>\n",
       "    </tr>\n",
       "    <tr>\n",
       "      <th>7</th>\n",
       "      <td>transport</td>\n",
       "      <td>0</td>\n",
       "      <td>1269</td>\n",
       "      <td>-1269</td>\n",
       "      <td>0.00</td>\n",
       "      <td>5.76</td>\n",
       "      <td>12.22</td>\n",
       "      <td>-3.47</td>\n",
       "      <td>-24.27</td>\n",
       "      <td>-105.46</td>\n",
       "      <td>-1265.53</td>\n",
       "    </tr>\n",
       "  </tbody>\n",
       "</table>\n",
       "</div>"
      ],
      "text/plain": [
       "       category  income  expense  balance  income_to_total_income_pc  \\\n",
       "0          food       0     2493    -2493                       0.00   \n",
       "1    healthcare       0     2045    -2045                       0.00   \n",
       "2     investing    4392        0     4392                      19.94   \n",
       "3   programming   11418        0    11418                      51.83   \n",
       "4         reiki    6221        0     6221                      28.24   \n",
       "5       shelter       0     2711    -2711                       0.00   \n",
       "6  soil testing       0     1869    -1869                       0.00   \n",
       "7     transport       0     1269    -1269                       0.00   \n",
       "\n",
       "   expense_to_total_income_pc  expense_to_total_expense_pc  daily_avg_balance  \\\n",
       "0                       11.32                        24.00              -6.81   \n",
       "1                        9.28                        19.69              -5.59   \n",
       "2                        0.00                         0.00              12.00   \n",
       "3                        0.00                         0.00              31.20   \n",
       "4                        0.00                         0.00              17.00   \n",
       "5                       12.31                        26.10              -7.41   \n",
       "6                        8.48                        17.99              -5.11   \n",
       "7                        5.76                        12.22              -3.47   \n",
       "\n",
       "   weekly_avg_balance  monthly_avg_balance  yearly_avg_balance  \n",
       "0              -47.68              -207.18            -2486.19  \n",
       "1              -39.11              -169.95            -2039.41  \n",
       "2               84.00               365.00             4380.00  \n",
       "3              218.38               948.90            11386.80  \n",
       "4              118.98               517.00             6204.00  \n",
       "5              -51.85              -225.30            -2703.59  \n",
       "6              -35.75              -155.32            -1863.89  \n",
       "7              -24.27              -105.46            -1265.53  "
      ]
     },
     "metadata": {},
     "output_type": "display_data"
    },
    {
     "name": "stdout",
     "output_type": "stream",
     "text": [
      "by_period_and_category\n"
     ]
    },
    {
     "data": {
      "text/html": [
       "<div>\n",
       "<style scoped>\n",
       "    .dataframe tbody tr th:only-of-type {\n",
       "        vertical-align: middle;\n",
       "    }\n",
       "\n",
       "    .dataframe tbody tr th {\n",
       "        vertical-align: top;\n",
       "    }\n",
       "\n",
       "    .dataframe thead th {\n",
       "        text-align: right;\n",
       "    }\n",
       "</style>\n",
       "<table border=\"1\" class=\"dataframe\">\n",
       "  <thead>\n",
       "    <tr style=\"text-align: right;\">\n",
       "      <th></th>\n",
       "      <th>date</th>\n",
       "      <th>category</th>\n",
       "      <th>income</th>\n",
       "      <th>expense</th>\n",
       "      <th>balance</th>\n",
       "      <th>income_to_period_income_pc</th>\n",
       "      <th>expense_to_period_income_pc</th>\n",
       "      <th>expense_to_period_expense_pc</th>\n",
       "    </tr>\n",
       "  </thead>\n",
       "  <tbody>\n",
       "    <tr>\n",
       "      <th>0</th>\n",
       "      <td>2020-01-01</td>\n",
       "      <td>food</td>\n",
       "      <td>0</td>\n",
       "      <td>285</td>\n",
       "      <td>-285</td>\n",
       "      <td>0.00</td>\n",
       "      <td>12.76</td>\n",
       "      <td>38.46</td>\n",
       "    </tr>\n",
       "    <tr>\n",
       "      <th>1</th>\n",
       "      <td>2020-01-01</td>\n",
       "      <td>healthcare</td>\n",
       "      <td>0</td>\n",
       "      <td>172</td>\n",
       "      <td>-172</td>\n",
       "      <td>0.00</td>\n",
       "      <td>7.70</td>\n",
       "      <td>23.21</td>\n",
       "    </tr>\n",
       "    <tr>\n",
       "      <th>2</th>\n",
       "      <td>2020-01-01</td>\n",
       "      <td>investing</td>\n",
       "      <td>347</td>\n",
       "      <td>0</td>\n",
       "      <td>347</td>\n",
       "      <td>15.54</td>\n",
       "      <td>0.00</td>\n",
       "      <td>0.00</td>\n",
       "    </tr>\n",
       "    <tr>\n",
       "      <th>3</th>\n",
       "      <td>2020-01-01</td>\n",
       "      <td>programming</td>\n",
       "      <td>1103</td>\n",
       "      <td>0</td>\n",
       "      <td>1103</td>\n",
       "      <td>49.40</td>\n",
       "      <td>0.00</td>\n",
       "      <td>0.00</td>\n",
       "    </tr>\n",
       "    <tr>\n",
       "      <th>4</th>\n",
       "      <td>2020-01-01</td>\n",
       "      <td>reiki</td>\n",
       "      <td>783</td>\n",
       "      <td>0</td>\n",
       "      <td>783</td>\n",
       "      <td>35.06</td>\n",
       "      <td>0.00</td>\n",
       "      <td>0.00</td>\n",
       "    </tr>\n",
       "    <tr>\n",
       "      <th>...</th>\n",
       "      <td>...</td>\n",
       "      <td>...</td>\n",
       "      <td>...</td>\n",
       "      <td>...</td>\n",
       "      <td>...</td>\n",
       "      <td>...</td>\n",
       "      <td>...</td>\n",
       "      <td>...</td>\n",
       "    </tr>\n",
       "    <tr>\n",
       "      <th>91</th>\n",
       "      <td>2020-12-01</td>\n",
       "      <td>programming</td>\n",
       "      <td>908</td>\n",
       "      <td>0</td>\n",
       "      <td>908</td>\n",
       "      <td>46.42</td>\n",
       "      <td>0.00</td>\n",
       "      <td>0.00</td>\n",
       "    </tr>\n",
       "    <tr>\n",
       "      <th>92</th>\n",
       "      <td>2020-12-01</td>\n",
       "      <td>reiki</td>\n",
       "      <td>494</td>\n",
       "      <td>0</td>\n",
       "      <td>494</td>\n",
       "      <td>25.26</td>\n",
       "      <td>0.00</td>\n",
       "      <td>0.00</td>\n",
       "    </tr>\n",
       "    <tr>\n",
       "      <th>93</th>\n",
       "      <td>2020-12-01</td>\n",
       "      <td>shelter</td>\n",
       "      <td>0</td>\n",
       "      <td>115</td>\n",
       "      <td>-115</td>\n",
       "      <td>0.00</td>\n",
       "      <td>5.88</td>\n",
       "      <td>16.76</td>\n",
       "    </tr>\n",
       "    <tr>\n",
       "      <th>94</th>\n",
       "      <td>2020-12-01</td>\n",
       "      <td>soil testing</td>\n",
       "      <td>0</td>\n",
       "      <td>112</td>\n",
       "      <td>-112</td>\n",
       "      <td>0.00</td>\n",
       "      <td>5.73</td>\n",
       "      <td>16.33</td>\n",
       "    </tr>\n",
       "    <tr>\n",
       "      <th>95</th>\n",
       "      <td>2020-12-01</td>\n",
       "      <td>transport</td>\n",
       "      <td>0</td>\n",
       "      <td>101</td>\n",
       "      <td>-101</td>\n",
       "      <td>0.00</td>\n",
       "      <td>5.16</td>\n",
       "      <td>14.72</td>\n",
       "    </tr>\n",
       "  </tbody>\n",
       "</table>\n",
       "<p>96 rows × 8 columns</p>\n",
       "</div>"
      ],
      "text/plain": [
       "         date      category  income  expense  balance  \\\n",
       "0  2020-01-01          food       0      285     -285   \n",
       "1  2020-01-01    healthcare       0      172     -172   \n",
       "2  2020-01-01     investing     347        0      347   \n",
       "3  2020-01-01   programming    1103        0     1103   \n",
       "4  2020-01-01         reiki     783        0      783   \n",
       "..        ...           ...     ...      ...      ...   \n",
       "91 2020-12-01   programming     908        0      908   \n",
       "92 2020-12-01         reiki     494        0      494   \n",
       "93 2020-12-01       shelter       0      115     -115   \n",
       "94 2020-12-01  soil testing       0      112     -112   \n",
       "95 2020-12-01     transport       0      101     -101   \n",
       "\n",
       "    income_to_period_income_pc  expense_to_period_income_pc  \\\n",
       "0                         0.00                        12.76   \n",
       "1                         0.00                         7.70   \n",
       "2                        15.54                         0.00   \n",
       "3                        49.40                         0.00   \n",
       "4                        35.06                         0.00   \n",
       "..                         ...                          ...   \n",
       "91                       46.42                         0.00   \n",
       "92                       25.26                         0.00   \n",
       "93                        0.00                         5.88   \n",
       "94                        0.00                         5.73   \n",
       "95                        0.00                         5.16   \n",
       "\n",
       "    expense_to_period_expense_pc  \n",
       "0                          38.46  \n",
       "1                          23.21  \n",
       "2                           0.00  \n",
       "3                           0.00  \n",
       "4                           0.00  \n",
       "..                           ...  \n",
       "91                          0.00  \n",
       "92                          0.00  \n",
       "93                         16.76  \n",
       "94                         16.33  \n",
       "95                         14.72  \n",
       "\n",
       "[96 rows x 8 columns]"
      ]
     },
     "metadata": {},
     "output_type": "display_data"
    }
   ],
   "source": [
    "# Summarize over entire period by category\n",
    "summary = ms.summarize(transactions, freq=\"MS\")\n",
    "for k,v in summary.items():\n",
    "    print(k)\n",
    "    display(v)\n",
    "    \n",
    "\n"
   ]
  },
  {
   "cell_type": "code",
   "execution_count": 282,
   "metadata": {},
   "outputs": [],
   "source": [
    "def plot_summary_by_period(summary_by_period, currency=None, width=None, height=None):\n",
    "    \"\"\"\n",
    "    \"\"\"\n",
    "    if currency is None:\n",
    "        currency = \"\"\n",
    "\n",
    "    hovertemplate = (\n",
    "        \"<b>%{meta}</b><br>\"\n",
    "        \"%{y:,.0f}\" + currency + \"<br>\" +\n",
    "        \"%{x}<extra></extra>\"\n",
    "    )\n",
    "           \n",
    "    f1 = summary_by_period.copy()\n",
    "    traces = [\n",
    "        pg.Bar(\n",
    "            x=f1.date, \n",
    "            y=f1.income,\n",
    "            name=\"income\",\n",
    "            meta=\"income\",\n",
    "            marker_color=\"#636efa\",\n",
    "            hovertemplate=hovertemplate,\n",
    "        ),\n",
    "        pg.Bar(\n",
    "            x=f1.date,\n",
    "            y=f1.expense,\n",
    "            name=\"expense\",\n",
    "            meta=\"income\",\n",
    "            marker_color=\"#ef553b\",\n",
    "            hovertemplate=hovertemplate,\n",
    "        ),\n",
    "        pg.Scatter(\n",
    "            x=f1.date, \n",
    "            y=f1.cumulative_balance,\n",
    "            name=\"cumulative balance\",\n",
    "            meta=\"income\",\n",
    "            line_color=\"black\",\n",
    "            hovertemplate=hovertemplate,\n",
    "        )\n",
    "    ]\n",
    "    layout = dict(\n",
    "        title=\"Summary by period\",\n",
    "        xaxis=dict(title=\"period\", tickformat=\"%Y-%m-%d\", ticklabelmode=\"period\"),\n",
    "        yaxis=dict(separatethousands=True, title=\"value\", ticksuffix=currency),\n",
    "        legend_title_text=\"\",\n",
    "        template=\"plotly_white\",\n",
    "    )\n",
    "    fig = pg.Figure(data=traces, layout=layout)\n",
    "    \n",
    "    if f1.date.nunique() < 20:\n",
    "        fig.update_xaxes(\n",
    "            tickvals=f1.date.map(lambda x: x.strftime(\"%Y-%m-%d\")).unique().tolist()\n",
    "        )\n",
    "            \n",
    "    return fig\n",
    "\n",
    "def plot_summary_by_category(summary_by_category, currency=None, width=None, height=None):\n",
    "    \"\"\"\n",
    "    \"\"\"\n",
    "    if summary_by_category.empty:\n",
    "        return pg.Figure()\n",
    "    \n",
    "    if currency is None:\n",
    "        currency = \"\"\n",
    "\n",
    "    hovertemplate = (\n",
    "        \"<b>%{meta}</b><br>\"\n",
    "        \"%{y:,.0f}\" + currency + \"<br>\" +\n",
    "        \"%{x}<extra></extra>\"\n",
    "    )\n",
    "           \n",
    "    f1 = summary_by_category.copy()\n",
    "    pass\n",
    "\n",
    "    traces = [\n",
    "        pg.Bar(\n",
    "            x=f1.date, \n",
    "            y=f1.income,\n",
    "            name=\"income\",\n",
    "            meta=\"income\",\n",
    "            marker_color=\"#636efa\",\n",
    "            hovertemplate=hovertemplate,\n",
    "        ),\n",
    "        pg.Bar(\n",
    "            x=f1.date,\n",
    "            y=f1.expense,\n",
    "            name=\"expense\",\n",
    "            meta=\"income\",\n",
    "            marker_color=\"#ef553b\",\n",
    "            hovertemplate=hovertemplate,\n",
    "        ),\n",
    "        pg.Scatter(\n",
    "            x=f1.date, \n",
    "            y=f1.cumulative_balance,\n",
    "            name=\"cumulative balance\",\n",
    "            meta=\"income\",\n",
    "            line_color=\"black\",\n",
    "            hovertemplate=hovertemplate,\n",
    "        )\n",
    "    ]\n",
    "    layout = dict(\n",
    "        title=\"Summary by period\",\n",
    "        xaxis=dict(title=\"period\", tickformat=\"%Y-%m-%d\", ticklabelmode=\"period\"),\n",
    "        yaxis=dict(separatethousands=True, title=\"value\", ticksuffix=currency),\n",
    "        legend_title_text=\"\",\n",
    "        template=\"plotly_white\",\n",
    "    )\n",
    "    fig = pg.Figure(data=traces, layout=layout)\n",
    "    \n",
    "    if f1.date.nunique() < 20:\n",
    "        fig.update_xaxes(\n",
    "            tickvals=f1.date.map(lambda x: x.strftime(\"%Y-%m-%d\")).unique().tolist()\n",
    "        )\n",
    "            \n",
    "    return fig"
   ]
  },
  {
   "cell_type": "code",
   "execution_count": 283,
   "metadata": {},
   "outputs": [
    {
     "data": {
      "application/vnd.plotly.v1+json": {
       "config": {
        "plotlyServerURL": "https://plot.ly"
       },
       "data": [
        {
         "hovertemplate": "<b>%{meta}</b><br>%{y:,.0f}$<br>%{x}<extra></extra>",
         "marker": {
          "color": "#636efa"
         },
         "meta": "income",
         "name": "income",
         "type": "bar",
         "x": [
          "2020-01-01T00:00:00",
          "2020-02-01T00:00:00",
          "2020-03-01T00:00:00",
          "2020-04-01T00:00:00",
          "2020-05-01T00:00:00",
          "2020-06-01T00:00:00",
          "2020-07-01T00:00:00",
          "2020-08-01T00:00:00",
          "2020-09-01T00:00:00",
          "2020-10-01T00:00:00",
          "2020-11-01T00:00:00",
          "2020-12-01T00:00:00"
         ],
         "y": [
          2233,
          1556,
          1943,
          1611,
          1896,
          1537,
          2208,
          2034,
          2117,
          1402,
          1538,
          1956
         ]
        },
        {
         "hovertemplate": "<b>%{meta}</b><br>%{y:,.0f}$<br>%{x}<extra></extra>",
         "marker": {
          "color": "#ef553b"
         },
         "meta": "income",
         "name": "expense",
         "type": "bar",
         "x": [
          "2020-01-01T00:00:00",
          "2020-02-01T00:00:00",
          "2020-03-01T00:00:00",
          "2020-04-01T00:00:00",
          "2020-05-01T00:00:00",
          "2020-06-01T00:00:00",
          "2020-07-01T00:00:00",
          "2020-08-01T00:00:00",
          "2020-09-01T00:00:00",
          "2020-10-01T00:00:00",
          "2020-11-01T00:00:00",
          "2020-12-01T00:00:00"
         ],
         "y": [
          741,
          1045,
          902,
          821,
          703,
          1045,
          654,
          629,
          927,
          1271,
          963,
          686
         ]
        },
        {
         "hovertemplate": "<b>%{meta}</b><br>%{y:,.0f}$<br>%{x}<extra></extra>",
         "line": {
          "color": "black"
         },
         "meta": "income",
         "name": "cumulative balance",
         "type": "scatter",
         "x": [
          "2020-01-01T00:00:00",
          "2020-02-01T00:00:00",
          "2020-03-01T00:00:00",
          "2020-04-01T00:00:00",
          "2020-05-01T00:00:00",
          "2020-06-01T00:00:00",
          "2020-07-01T00:00:00",
          "2020-08-01T00:00:00",
          "2020-09-01T00:00:00",
          "2020-10-01T00:00:00",
          "2020-11-01T00:00:00",
          "2020-12-01T00:00:00"
         ],
         "y": [
          1492,
          2003,
          3044,
          3834,
          5027,
          5519,
          7073,
          8478,
          9668,
          9799,
          10374,
          11644
         ]
        }
       ],
       "layout": {
        "legend": {
         "title": {
          "text": ""
         }
        },
        "template": {
         "data": {
          "bar": [
           {
            "error_x": {
             "color": "#2a3f5f"
            },
            "error_y": {
             "color": "#2a3f5f"
            },
            "marker": {
             "line": {
              "color": "white",
              "width": 0.5
             },
             "pattern": {
              "fillmode": "overlay",
              "size": 10,
              "solidity": 0.2
             }
            },
            "type": "bar"
           }
          ],
          "barpolar": [
           {
            "marker": {
             "line": {
              "color": "white",
              "width": 0.5
             },
             "pattern": {
              "fillmode": "overlay",
              "size": 10,
              "solidity": 0.2
             }
            },
            "type": "barpolar"
           }
          ],
          "carpet": [
           {
            "aaxis": {
             "endlinecolor": "#2a3f5f",
             "gridcolor": "#C8D4E3",
             "linecolor": "#C8D4E3",
             "minorgridcolor": "#C8D4E3",
             "startlinecolor": "#2a3f5f"
            },
            "baxis": {
             "endlinecolor": "#2a3f5f",
             "gridcolor": "#C8D4E3",
             "linecolor": "#C8D4E3",
             "minorgridcolor": "#C8D4E3",
             "startlinecolor": "#2a3f5f"
            },
            "type": "carpet"
           }
          ],
          "choropleth": [
           {
            "colorbar": {
             "outlinewidth": 0,
             "ticks": ""
            },
            "type": "choropleth"
           }
          ],
          "contour": [
           {
            "colorbar": {
             "outlinewidth": 0,
             "ticks": ""
            },
            "colorscale": [
             [
              0,
              "#0d0887"
             ],
             [
              0.1111111111111111,
              "#46039f"
             ],
             [
              0.2222222222222222,
              "#7201a8"
             ],
             [
              0.3333333333333333,
              "#9c179e"
             ],
             [
              0.4444444444444444,
              "#bd3786"
             ],
             [
              0.5555555555555556,
              "#d8576b"
             ],
             [
              0.6666666666666666,
              "#ed7953"
             ],
             [
              0.7777777777777778,
              "#fb9f3a"
             ],
             [
              0.8888888888888888,
              "#fdca26"
             ],
             [
              1,
              "#f0f921"
             ]
            ],
            "type": "contour"
           }
          ],
          "contourcarpet": [
           {
            "colorbar": {
             "outlinewidth": 0,
             "ticks": ""
            },
            "type": "contourcarpet"
           }
          ],
          "heatmap": [
           {
            "colorbar": {
             "outlinewidth": 0,
             "ticks": ""
            },
            "colorscale": [
             [
              0,
              "#0d0887"
             ],
             [
              0.1111111111111111,
              "#46039f"
             ],
             [
              0.2222222222222222,
              "#7201a8"
             ],
             [
              0.3333333333333333,
              "#9c179e"
             ],
             [
              0.4444444444444444,
              "#bd3786"
             ],
             [
              0.5555555555555556,
              "#d8576b"
             ],
             [
              0.6666666666666666,
              "#ed7953"
             ],
             [
              0.7777777777777778,
              "#fb9f3a"
             ],
             [
              0.8888888888888888,
              "#fdca26"
             ],
             [
              1,
              "#f0f921"
             ]
            ],
            "type": "heatmap"
           }
          ],
          "heatmapgl": [
           {
            "colorbar": {
             "outlinewidth": 0,
             "ticks": ""
            },
            "colorscale": [
             [
              0,
              "#0d0887"
             ],
             [
              0.1111111111111111,
              "#46039f"
             ],
             [
              0.2222222222222222,
              "#7201a8"
             ],
             [
              0.3333333333333333,
              "#9c179e"
             ],
             [
              0.4444444444444444,
              "#bd3786"
             ],
             [
              0.5555555555555556,
              "#d8576b"
             ],
             [
              0.6666666666666666,
              "#ed7953"
             ],
             [
              0.7777777777777778,
              "#fb9f3a"
             ],
             [
              0.8888888888888888,
              "#fdca26"
             ],
             [
              1,
              "#f0f921"
             ]
            ],
            "type": "heatmapgl"
           }
          ],
          "histogram": [
           {
            "marker": {
             "pattern": {
              "fillmode": "overlay",
              "size": 10,
              "solidity": 0.2
             }
            },
            "type": "histogram"
           }
          ],
          "histogram2d": [
           {
            "colorbar": {
             "outlinewidth": 0,
             "ticks": ""
            },
            "colorscale": [
             [
              0,
              "#0d0887"
             ],
             [
              0.1111111111111111,
              "#46039f"
             ],
             [
              0.2222222222222222,
              "#7201a8"
             ],
             [
              0.3333333333333333,
              "#9c179e"
             ],
             [
              0.4444444444444444,
              "#bd3786"
             ],
             [
              0.5555555555555556,
              "#d8576b"
             ],
             [
              0.6666666666666666,
              "#ed7953"
             ],
             [
              0.7777777777777778,
              "#fb9f3a"
             ],
             [
              0.8888888888888888,
              "#fdca26"
             ],
             [
              1,
              "#f0f921"
             ]
            ],
            "type": "histogram2d"
           }
          ],
          "histogram2dcontour": [
           {
            "colorbar": {
             "outlinewidth": 0,
             "ticks": ""
            },
            "colorscale": [
             [
              0,
              "#0d0887"
             ],
             [
              0.1111111111111111,
              "#46039f"
             ],
             [
              0.2222222222222222,
              "#7201a8"
             ],
             [
              0.3333333333333333,
              "#9c179e"
             ],
             [
              0.4444444444444444,
              "#bd3786"
             ],
             [
              0.5555555555555556,
              "#d8576b"
             ],
             [
              0.6666666666666666,
              "#ed7953"
             ],
             [
              0.7777777777777778,
              "#fb9f3a"
             ],
             [
              0.8888888888888888,
              "#fdca26"
             ],
             [
              1,
              "#f0f921"
             ]
            ],
            "type": "histogram2dcontour"
           }
          ],
          "mesh3d": [
           {
            "colorbar": {
             "outlinewidth": 0,
             "ticks": ""
            },
            "type": "mesh3d"
           }
          ],
          "parcoords": [
           {
            "line": {
             "colorbar": {
              "outlinewidth": 0,
              "ticks": ""
             }
            },
            "type": "parcoords"
           }
          ],
          "pie": [
           {
            "automargin": true,
            "type": "pie"
           }
          ],
          "scatter": [
           {
            "marker": {
             "colorbar": {
              "outlinewidth": 0,
              "ticks": ""
             }
            },
            "type": "scatter"
           }
          ],
          "scatter3d": [
           {
            "line": {
             "colorbar": {
              "outlinewidth": 0,
              "ticks": ""
             }
            },
            "marker": {
             "colorbar": {
              "outlinewidth": 0,
              "ticks": ""
             }
            },
            "type": "scatter3d"
           }
          ],
          "scattercarpet": [
           {
            "marker": {
             "colorbar": {
              "outlinewidth": 0,
              "ticks": ""
             }
            },
            "type": "scattercarpet"
           }
          ],
          "scattergeo": [
           {
            "marker": {
             "colorbar": {
              "outlinewidth": 0,
              "ticks": ""
             }
            },
            "type": "scattergeo"
           }
          ],
          "scattergl": [
           {
            "marker": {
             "colorbar": {
              "outlinewidth": 0,
              "ticks": ""
             }
            },
            "type": "scattergl"
           }
          ],
          "scattermapbox": [
           {
            "marker": {
             "colorbar": {
              "outlinewidth": 0,
              "ticks": ""
             }
            },
            "type": "scattermapbox"
           }
          ],
          "scatterpolar": [
           {
            "marker": {
             "colorbar": {
              "outlinewidth": 0,
              "ticks": ""
             }
            },
            "type": "scatterpolar"
           }
          ],
          "scatterpolargl": [
           {
            "marker": {
             "colorbar": {
              "outlinewidth": 0,
              "ticks": ""
             }
            },
            "type": "scatterpolargl"
           }
          ],
          "scatterternary": [
           {
            "marker": {
             "colorbar": {
              "outlinewidth": 0,
              "ticks": ""
             }
            },
            "type": "scatterternary"
           }
          ],
          "surface": [
           {
            "colorbar": {
             "outlinewidth": 0,
             "ticks": ""
            },
            "colorscale": [
             [
              0,
              "#0d0887"
             ],
             [
              0.1111111111111111,
              "#46039f"
             ],
             [
              0.2222222222222222,
              "#7201a8"
             ],
             [
              0.3333333333333333,
              "#9c179e"
             ],
             [
              0.4444444444444444,
              "#bd3786"
             ],
             [
              0.5555555555555556,
              "#d8576b"
             ],
             [
              0.6666666666666666,
              "#ed7953"
             ],
             [
              0.7777777777777778,
              "#fb9f3a"
             ],
             [
              0.8888888888888888,
              "#fdca26"
             ],
             [
              1,
              "#f0f921"
             ]
            ],
            "type": "surface"
           }
          ],
          "table": [
           {
            "cells": {
             "fill": {
              "color": "#EBF0F8"
             },
             "line": {
              "color": "white"
             }
            },
            "header": {
             "fill": {
              "color": "#C8D4E3"
             },
             "line": {
              "color": "white"
             }
            },
            "type": "table"
           }
          ]
         },
         "layout": {
          "annotationdefaults": {
           "arrowcolor": "#2a3f5f",
           "arrowhead": 0,
           "arrowwidth": 1
          },
          "autotypenumbers": "strict",
          "coloraxis": {
           "colorbar": {
            "outlinewidth": 0,
            "ticks": ""
           }
          },
          "colorscale": {
           "diverging": [
            [
             0,
             "#8e0152"
            ],
            [
             0.1,
             "#c51b7d"
            ],
            [
             0.2,
             "#de77ae"
            ],
            [
             0.3,
             "#f1b6da"
            ],
            [
             0.4,
             "#fde0ef"
            ],
            [
             0.5,
             "#f7f7f7"
            ],
            [
             0.6,
             "#e6f5d0"
            ],
            [
             0.7,
             "#b8e186"
            ],
            [
             0.8,
             "#7fbc41"
            ],
            [
             0.9,
             "#4d9221"
            ],
            [
             1,
             "#276419"
            ]
           ],
           "sequential": [
            [
             0,
             "#0d0887"
            ],
            [
             0.1111111111111111,
             "#46039f"
            ],
            [
             0.2222222222222222,
             "#7201a8"
            ],
            [
             0.3333333333333333,
             "#9c179e"
            ],
            [
             0.4444444444444444,
             "#bd3786"
            ],
            [
             0.5555555555555556,
             "#d8576b"
            ],
            [
             0.6666666666666666,
             "#ed7953"
            ],
            [
             0.7777777777777778,
             "#fb9f3a"
            ],
            [
             0.8888888888888888,
             "#fdca26"
            ],
            [
             1,
             "#f0f921"
            ]
           ],
           "sequentialminus": [
            [
             0,
             "#0d0887"
            ],
            [
             0.1111111111111111,
             "#46039f"
            ],
            [
             0.2222222222222222,
             "#7201a8"
            ],
            [
             0.3333333333333333,
             "#9c179e"
            ],
            [
             0.4444444444444444,
             "#bd3786"
            ],
            [
             0.5555555555555556,
             "#d8576b"
            ],
            [
             0.6666666666666666,
             "#ed7953"
            ],
            [
             0.7777777777777778,
             "#fb9f3a"
            ],
            [
             0.8888888888888888,
             "#fdca26"
            ],
            [
             1,
             "#f0f921"
            ]
           ]
          },
          "colorway": [
           "#636efa",
           "#EF553B",
           "#00cc96",
           "#ab63fa",
           "#FFA15A",
           "#19d3f3",
           "#FF6692",
           "#B6E880",
           "#FF97FF",
           "#FECB52"
          ],
          "font": {
           "color": "#2a3f5f"
          },
          "geo": {
           "bgcolor": "white",
           "lakecolor": "white",
           "landcolor": "white",
           "showlakes": true,
           "showland": true,
           "subunitcolor": "#C8D4E3"
          },
          "hoverlabel": {
           "align": "left"
          },
          "hovermode": "closest",
          "mapbox": {
           "style": "light"
          },
          "paper_bgcolor": "white",
          "plot_bgcolor": "white",
          "polar": {
           "angularaxis": {
            "gridcolor": "#EBF0F8",
            "linecolor": "#EBF0F8",
            "ticks": ""
           },
           "bgcolor": "white",
           "radialaxis": {
            "gridcolor": "#EBF0F8",
            "linecolor": "#EBF0F8",
            "ticks": ""
           }
          },
          "scene": {
           "xaxis": {
            "backgroundcolor": "white",
            "gridcolor": "#DFE8F3",
            "gridwidth": 2,
            "linecolor": "#EBF0F8",
            "showbackground": true,
            "ticks": "",
            "zerolinecolor": "#EBF0F8"
           },
           "yaxis": {
            "backgroundcolor": "white",
            "gridcolor": "#DFE8F3",
            "gridwidth": 2,
            "linecolor": "#EBF0F8",
            "showbackground": true,
            "ticks": "",
            "zerolinecolor": "#EBF0F8"
           },
           "zaxis": {
            "backgroundcolor": "white",
            "gridcolor": "#DFE8F3",
            "gridwidth": 2,
            "linecolor": "#EBF0F8",
            "showbackground": true,
            "ticks": "",
            "zerolinecolor": "#EBF0F8"
           }
          },
          "shapedefaults": {
           "line": {
            "color": "#2a3f5f"
           }
          },
          "ternary": {
           "aaxis": {
            "gridcolor": "#DFE8F3",
            "linecolor": "#A2B1C6",
            "ticks": ""
           },
           "baxis": {
            "gridcolor": "#DFE8F3",
            "linecolor": "#A2B1C6",
            "ticks": ""
           },
           "bgcolor": "white",
           "caxis": {
            "gridcolor": "#DFE8F3",
            "linecolor": "#A2B1C6",
            "ticks": ""
           }
          },
          "title": {
           "x": 0.05
          },
          "xaxis": {
           "automargin": true,
           "gridcolor": "#EBF0F8",
           "linecolor": "#EBF0F8",
           "ticks": "",
           "title": {
            "standoff": 15
           },
           "zerolinecolor": "#EBF0F8",
           "zerolinewidth": 2
          },
          "yaxis": {
           "automargin": true,
           "gridcolor": "#EBF0F8",
           "linecolor": "#EBF0F8",
           "ticks": "",
           "title": {
            "standoff": 15
           },
           "zerolinecolor": "#EBF0F8",
           "zerolinewidth": 2
          }
         }
        },
        "title": {
         "text": "Summary by period"
        },
        "xaxis": {
         "tickformat": "%Y-%m-%d",
         "ticklabelmode": "period",
         "tickvals": [
          "2020-01-01",
          "2020-02-01",
          "2020-03-01",
          "2020-04-01",
          "2020-05-01",
          "2020-06-01",
          "2020-07-01",
          "2020-08-01",
          "2020-09-01",
          "2020-10-01",
          "2020-11-01",
          "2020-12-01"
         ],
         "title": {
          "text": "period"
         }
        },
        "yaxis": {
         "separatethousands": true,
         "ticksuffix": "$",
         "title": {
          "text": "value"
         }
        }
       }
      },
      "text/html": [
       "<div>                            <div id=\"0d35ef00-0b8d-4151-bacf-ad006a207529\" class=\"plotly-graph-div\" style=\"height:525px; width:100%;\"></div>            <script type=\"text/javascript\">                require([\"plotly\"], function(Plotly) {                    window.PLOTLYENV=window.PLOTLYENV || {};                                    if (document.getElementById(\"0d35ef00-0b8d-4151-bacf-ad006a207529\")) {                    Plotly.newPlot(                        \"0d35ef00-0b8d-4151-bacf-ad006a207529\",                        [{\"hovertemplate\":\"<b>%{meta}</b><br>%{y:,.0f}$<br>%{x}<extra></extra>\",\"marker\":{\"color\":\"#636efa\"},\"meta\":\"income\",\"name\":\"income\",\"type\":\"bar\",\"x\":[\"2020-01-01T00:00:00\",\"2020-02-01T00:00:00\",\"2020-03-01T00:00:00\",\"2020-04-01T00:00:00\",\"2020-05-01T00:00:00\",\"2020-06-01T00:00:00\",\"2020-07-01T00:00:00\",\"2020-08-01T00:00:00\",\"2020-09-01T00:00:00\",\"2020-10-01T00:00:00\",\"2020-11-01T00:00:00\",\"2020-12-01T00:00:00\"],\"y\":[2233,1556,1943,1611,1896,1537,2208,2034,2117,1402,1538,1956]},{\"hovertemplate\":\"<b>%{meta}</b><br>%{y:,.0f}$<br>%{x}<extra></extra>\",\"marker\":{\"color\":\"#ef553b\"},\"meta\":\"income\",\"name\":\"expense\",\"type\":\"bar\",\"x\":[\"2020-01-01T00:00:00\",\"2020-02-01T00:00:00\",\"2020-03-01T00:00:00\",\"2020-04-01T00:00:00\",\"2020-05-01T00:00:00\",\"2020-06-01T00:00:00\",\"2020-07-01T00:00:00\",\"2020-08-01T00:00:00\",\"2020-09-01T00:00:00\",\"2020-10-01T00:00:00\",\"2020-11-01T00:00:00\",\"2020-12-01T00:00:00\"],\"y\":[741,1045,902,821,703,1045,654,629,927,1271,963,686]},{\"hovertemplate\":\"<b>%{meta}</b><br>%{y:,.0f}$<br>%{x}<extra></extra>\",\"line\":{\"color\":\"black\"},\"meta\":\"income\",\"name\":\"cumulative balance\",\"type\":\"scatter\",\"x\":[\"2020-01-01T00:00:00\",\"2020-02-01T00:00:00\",\"2020-03-01T00:00:00\",\"2020-04-01T00:00:00\",\"2020-05-01T00:00:00\",\"2020-06-01T00:00:00\",\"2020-07-01T00:00:00\",\"2020-08-01T00:00:00\",\"2020-09-01T00:00:00\",\"2020-10-01T00:00:00\",\"2020-11-01T00:00:00\",\"2020-12-01T00:00:00\"],\"y\":[1492,2003,3044,3834,5027,5519,7073,8478,9668,9799,10374,11644]}],                        {\"legend\":{\"title\":{\"text\":\"\"}},\"template\":{\"data\":{\"bar\":[{\"error_x\":{\"color\":\"#2a3f5f\"},\"error_y\":{\"color\":\"#2a3f5f\"},\"marker\":{\"line\":{\"color\":\"white\",\"width\":0.5},\"pattern\":{\"fillmode\":\"overlay\",\"size\":10,\"solidity\":0.2}},\"type\":\"bar\"}],\"barpolar\":[{\"marker\":{\"line\":{\"color\":\"white\",\"width\":0.5},\"pattern\":{\"fillmode\":\"overlay\",\"size\":10,\"solidity\":0.2}},\"type\":\"barpolar\"}],\"carpet\":[{\"aaxis\":{\"endlinecolor\":\"#2a3f5f\",\"gridcolor\":\"#C8D4E3\",\"linecolor\":\"#C8D4E3\",\"minorgridcolor\":\"#C8D4E3\",\"startlinecolor\":\"#2a3f5f\"},\"baxis\":{\"endlinecolor\":\"#2a3f5f\",\"gridcolor\":\"#C8D4E3\",\"linecolor\":\"#C8D4E3\",\"minorgridcolor\":\"#C8D4E3\",\"startlinecolor\":\"#2a3f5f\"},\"type\":\"carpet\"}],\"choropleth\":[{\"colorbar\":{\"outlinewidth\":0,\"ticks\":\"\"},\"type\":\"choropleth\"}],\"contour\":[{\"colorbar\":{\"outlinewidth\":0,\"ticks\":\"\"},\"colorscale\":[[0.0,\"#0d0887\"],[0.1111111111111111,\"#46039f\"],[0.2222222222222222,\"#7201a8\"],[0.3333333333333333,\"#9c179e\"],[0.4444444444444444,\"#bd3786\"],[0.5555555555555556,\"#d8576b\"],[0.6666666666666666,\"#ed7953\"],[0.7777777777777778,\"#fb9f3a\"],[0.8888888888888888,\"#fdca26\"],[1.0,\"#f0f921\"]],\"type\":\"contour\"}],\"contourcarpet\":[{\"colorbar\":{\"outlinewidth\":0,\"ticks\":\"\"},\"type\":\"contourcarpet\"}],\"heatmap\":[{\"colorbar\":{\"outlinewidth\":0,\"ticks\":\"\"},\"colorscale\":[[0.0,\"#0d0887\"],[0.1111111111111111,\"#46039f\"],[0.2222222222222222,\"#7201a8\"],[0.3333333333333333,\"#9c179e\"],[0.4444444444444444,\"#bd3786\"],[0.5555555555555556,\"#d8576b\"],[0.6666666666666666,\"#ed7953\"],[0.7777777777777778,\"#fb9f3a\"],[0.8888888888888888,\"#fdca26\"],[1.0,\"#f0f921\"]],\"type\":\"heatmap\"}],\"heatmapgl\":[{\"colorbar\":{\"outlinewidth\":0,\"ticks\":\"\"},\"colorscale\":[[0.0,\"#0d0887\"],[0.1111111111111111,\"#46039f\"],[0.2222222222222222,\"#7201a8\"],[0.3333333333333333,\"#9c179e\"],[0.4444444444444444,\"#bd3786\"],[0.5555555555555556,\"#d8576b\"],[0.6666666666666666,\"#ed7953\"],[0.7777777777777778,\"#fb9f3a\"],[0.8888888888888888,\"#fdca26\"],[1.0,\"#f0f921\"]],\"type\":\"heatmapgl\"}],\"histogram\":[{\"marker\":{\"pattern\":{\"fillmode\":\"overlay\",\"size\":10,\"solidity\":0.2}},\"type\":\"histogram\"}],\"histogram2d\":[{\"colorbar\":{\"outlinewidth\":0,\"ticks\":\"\"},\"colorscale\":[[0.0,\"#0d0887\"],[0.1111111111111111,\"#46039f\"],[0.2222222222222222,\"#7201a8\"],[0.3333333333333333,\"#9c179e\"],[0.4444444444444444,\"#bd3786\"],[0.5555555555555556,\"#d8576b\"],[0.6666666666666666,\"#ed7953\"],[0.7777777777777778,\"#fb9f3a\"],[0.8888888888888888,\"#fdca26\"],[1.0,\"#f0f921\"]],\"type\":\"histogram2d\"}],\"histogram2dcontour\":[{\"colorbar\":{\"outlinewidth\":0,\"ticks\":\"\"},\"colorscale\":[[0.0,\"#0d0887\"],[0.1111111111111111,\"#46039f\"],[0.2222222222222222,\"#7201a8\"],[0.3333333333333333,\"#9c179e\"],[0.4444444444444444,\"#bd3786\"],[0.5555555555555556,\"#d8576b\"],[0.6666666666666666,\"#ed7953\"],[0.7777777777777778,\"#fb9f3a\"],[0.8888888888888888,\"#fdca26\"],[1.0,\"#f0f921\"]],\"type\":\"histogram2dcontour\"}],\"mesh3d\":[{\"colorbar\":{\"outlinewidth\":0,\"ticks\":\"\"},\"type\":\"mesh3d\"}],\"parcoords\":[{\"line\":{\"colorbar\":{\"outlinewidth\":0,\"ticks\":\"\"}},\"type\":\"parcoords\"}],\"pie\":[{\"automargin\":true,\"type\":\"pie\"}],\"scatter\":[{\"marker\":{\"colorbar\":{\"outlinewidth\":0,\"ticks\":\"\"}},\"type\":\"scatter\"}],\"scatter3d\":[{\"line\":{\"colorbar\":{\"outlinewidth\":0,\"ticks\":\"\"}},\"marker\":{\"colorbar\":{\"outlinewidth\":0,\"ticks\":\"\"}},\"type\":\"scatter3d\"}],\"scattercarpet\":[{\"marker\":{\"colorbar\":{\"outlinewidth\":0,\"ticks\":\"\"}},\"type\":\"scattercarpet\"}],\"scattergeo\":[{\"marker\":{\"colorbar\":{\"outlinewidth\":0,\"ticks\":\"\"}},\"type\":\"scattergeo\"}],\"scattergl\":[{\"marker\":{\"colorbar\":{\"outlinewidth\":0,\"ticks\":\"\"}},\"type\":\"scattergl\"}],\"scattermapbox\":[{\"marker\":{\"colorbar\":{\"outlinewidth\":0,\"ticks\":\"\"}},\"type\":\"scattermapbox\"}],\"scatterpolar\":[{\"marker\":{\"colorbar\":{\"outlinewidth\":0,\"ticks\":\"\"}},\"type\":\"scatterpolar\"}],\"scatterpolargl\":[{\"marker\":{\"colorbar\":{\"outlinewidth\":0,\"ticks\":\"\"}},\"type\":\"scatterpolargl\"}],\"scatterternary\":[{\"marker\":{\"colorbar\":{\"outlinewidth\":0,\"ticks\":\"\"}},\"type\":\"scatterternary\"}],\"surface\":[{\"colorbar\":{\"outlinewidth\":0,\"ticks\":\"\"},\"colorscale\":[[0.0,\"#0d0887\"],[0.1111111111111111,\"#46039f\"],[0.2222222222222222,\"#7201a8\"],[0.3333333333333333,\"#9c179e\"],[0.4444444444444444,\"#bd3786\"],[0.5555555555555556,\"#d8576b\"],[0.6666666666666666,\"#ed7953\"],[0.7777777777777778,\"#fb9f3a\"],[0.8888888888888888,\"#fdca26\"],[1.0,\"#f0f921\"]],\"type\":\"surface\"}],\"table\":[{\"cells\":{\"fill\":{\"color\":\"#EBF0F8\"},\"line\":{\"color\":\"white\"}},\"header\":{\"fill\":{\"color\":\"#C8D4E3\"},\"line\":{\"color\":\"white\"}},\"type\":\"table\"}]},\"layout\":{\"annotationdefaults\":{\"arrowcolor\":\"#2a3f5f\",\"arrowhead\":0,\"arrowwidth\":1},\"autotypenumbers\":\"strict\",\"coloraxis\":{\"colorbar\":{\"outlinewidth\":0,\"ticks\":\"\"}},\"colorscale\":{\"diverging\":[[0,\"#8e0152\"],[0.1,\"#c51b7d\"],[0.2,\"#de77ae\"],[0.3,\"#f1b6da\"],[0.4,\"#fde0ef\"],[0.5,\"#f7f7f7\"],[0.6,\"#e6f5d0\"],[0.7,\"#b8e186\"],[0.8,\"#7fbc41\"],[0.9,\"#4d9221\"],[1,\"#276419\"]],\"sequential\":[[0.0,\"#0d0887\"],[0.1111111111111111,\"#46039f\"],[0.2222222222222222,\"#7201a8\"],[0.3333333333333333,\"#9c179e\"],[0.4444444444444444,\"#bd3786\"],[0.5555555555555556,\"#d8576b\"],[0.6666666666666666,\"#ed7953\"],[0.7777777777777778,\"#fb9f3a\"],[0.8888888888888888,\"#fdca26\"],[1.0,\"#f0f921\"]],\"sequentialminus\":[[0.0,\"#0d0887\"],[0.1111111111111111,\"#46039f\"],[0.2222222222222222,\"#7201a8\"],[0.3333333333333333,\"#9c179e\"],[0.4444444444444444,\"#bd3786\"],[0.5555555555555556,\"#d8576b\"],[0.6666666666666666,\"#ed7953\"],[0.7777777777777778,\"#fb9f3a\"],[0.8888888888888888,\"#fdca26\"],[1.0,\"#f0f921\"]]},\"colorway\":[\"#636efa\",\"#EF553B\",\"#00cc96\",\"#ab63fa\",\"#FFA15A\",\"#19d3f3\",\"#FF6692\",\"#B6E880\",\"#FF97FF\",\"#FECB52\"],\"font\":{\"color\":\"#2a3f5f\"},\"geo\":{\"bgcolor\":\"white\",\"lakecolor\":\"white\",\"landcolor\":\"white\",\"showlakes\":true,\"showland\":true,\"subunitcolor\":\"#C8D4E3\"},\"hoverlabel\":{\"align\":\"left\"},\"hovermode\":\"closest\",\"mapbox\":{\"style\":\"light\"},\"paper_bgcolor\":\"white\",\"plot_bgcolor\":\"white\",\"polar\":{\"angularaxis\":{\"gridcolor\":\"#EBF0F8\",\"linecolor\":\"#EBF0F8\",\"ticks\":\"\"},\"bgcolor\":\"white\",\"radialaxis\":{\"gridcolor\":\"#EBF0F8\",\"linecolor\":\"#EBF0F8\",\"ticks\":\"\"}},\"scene\":{\"xaxis\":{\"backgroundcolor\":\"white\",\"gridcolor\":\"#DFE8F3\",\"gridwidth\":2,\"linecolor\":\"#EBF0F8\",\"showbackground\":true,\"ticks\":\"\",\"zerolinecolor\":\"#EBF0F8\"},\"yaxis\":{\"backgroundcolor\":\"white\",\"gridcolor\":\"#DFE8F3\",\"gridwidth\":2,\"linecolor\":\"#EBF0F8\",\"showbackground\":true,\"ticks\":\"\",\"zerolinecolor\":\"#EBF0F8\"},\"zaxis\":{\"backgroundcolor\":\"white\",\"gridcolor\":\"#DFE8F3\",\"gridwidth\":2,\"linecolor\":\"#EBF0F8\",\"showbackground\":true,\"ticks\":\"\",\"zerolinecolor\":\"#EBF0F8\"}},\"shapedefaults\":{\"line\":{\"color\":\"#2a3f5f\"}},\"ternary\":{\"aaxis\":{\"gridcolor\":\"#DFE8F3\",\"linecolor\":\"#A2B1C6\",\"ticks\":\"\"},\"baxis\":{\"gridcolor\":\"#DFE8F3\",\"linecolor\":\"#A2B1C6\",\"ticks\":\"\"},\"bgcolor\":\"white\",\"caxis\":{\"gridcolor\":\"#DFE8F3\",\"linecolor\":\"#A2B1C6\",\"ticks\":\"\"}},\"title\":{\"x\":0.05},\"xaxis\":{\"automargin\":true,\"gridcolor\":\"#EBF0F8\",\"linecolor\":\"#EBF0F8\",\"ticks\":\"\",\"title\":{\"standoff\":15},\"zerolinecolor\":\"#EBF0F8\",\"zerolinewidth\":2},\"yaxis\":{\"automargin\":true,\"gridcolor\":\"#EBF0F8\",\"linecolor\":\"#EBF0F8\",\"ticks\":\"\",\"title\":{\"standoff\":15},\"zerolinecolor\":\"#EBF0F8\",\"zerolinewidth\":2}}},\"title\":{\"text\":\"Summary by period\"},\"xaxis\":{\"tickformat\":\"%Y-%m-%d\",\"ticklabelmode\":\"period\",\"tickvals\":[\"2020-01-01\",\"2020-02-01\",\"2020-03-01\",\"2020-04-01\",\"2020-05-01\",\"2020-06-01\",\"2020-07-01\",\"2020-08-01\",\"2020-09-01\",\"2020-10-01\",\"2020-11-01\",\"2020-12-01\"],\"title\":{\"text\":\"period\"}},\"yaxis\":{\"separatethousands\":true,\"ticksuffix\":\"$\",\"title\":{\"text\":\"value\"}}},                        {\"responsive\": true}                    ).then(function(){\n",
       "                            \n",
       "var gd = document.getElementById('0d35ef00-0b8d-4151-bacf-ad006a207529');\n",
       "var x = new MutationObserver(function (mutations, observer) {{\n",
       "        var display = window.getComputedStyle(gd).display;\n",
       "        if (!display || display === 'none') {{\n",
       "            console.log([gd, 'removed!']);\n",
       "            Plotly.purge(gd);\n",
       "            observer.disconnect();\n",
       "        }}\n",
       "}});\n",
       "\n",
       "// Listen for the removal of the full notebook cells\n",
       "var notebookContainer = gd.closest('#notebook-container');\n",
       "if (notebookContainer) {{\n",
       "    x.observe(notebookContainer, {childList: true});\n",
       "}}\n",
       "\n",
       "// Listen for the clearing of the current output cell\n",
       "var outputEl = gd.closest('.output');\n",
       "if (outputEl) {{\n",
       "    x.observe(outputEl, {childList: true});\n",
       "}}\n",
       "\n",
       "                        })                };                });            </script>        </div>"
      ]
     },
     "metadata": {},
     "output_type": "display_data"
    }
   ],
   "source": [
    "plot_summary_by_period(summary[\"by_period\"], currency=\"$\")"
   ]
  },
  {
   "cell_type": "code",
   "execution_count": null,
   "metadata": {},
   "outputs": [],
   "source": [
    "ms.plot(s2)"
   ]
  },
  {
   "cell_type": "code",
   "execution_count": null,
   "metadata": {},
   "outputs": [],
   "source": [
    "# Summarize by quarter start and by category\n",
    "s3 = ms.summarize(transactions, freq='QS', by_category=True)\n",
    "s3"
   ]
  },
  {
   "cell_type": "code",
   "execution_count": null,
   "metadata": {},
   "outputs": [],
   "source": [
    "ms.plot(s3)"
   ]
  },
  {
   "cell_type": "code",
   "execution_count": null,
   "metadata": {},
   "outputs": [],
   "source": []
  }
 ],
 "metadata": {
  "kernelspec": {
   "display_name": "Python 3 (ipykernel)",
   "language": "python",
   "name": "python3"
  },
  "language_info": {
   "codemirror_mode": {
    "name": "ipython",
    "version": 3
   },
   "file_extension": ".py",
   "mimetype": "text/x-python",
   "name": "python",
   "nbconvert_exporter": "python",
   "pygments_lexer": "ipython3",
   "version": "3.9.7"
  }
 },
 "nbformat": 4,
 "nbformat_minor": 1
}
